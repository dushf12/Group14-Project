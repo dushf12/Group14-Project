{
 "cells": [
  {
   "cell_type": "code",
   "execution_count": 23,
   "id": "32b89c78",
   "metadata": {
    "scrolled": true
   },
   "outputs": [
    {
     "name": "stdout",
     "output_type": "stream",
     "text": [
      "Error counting elements on https://chat.openai.com/share/262e8d7d-657b-4a30-9f91-37dc85a8ec77: Waiting for selector \".font-semibold.select-none\" failed: timeout 30000ms exceeds.\n"
     ]
    },
    {
     "name": "stderr",
     "output_type": "stream",
     "text": [
      "C:\\Users\\dell\\AppData\\Local\\Temp\\ipykernel_14856\\1829702115.py:42: FutureWarning: The frame.append method is deprecated and will be removed from pandas in a future version. Use pandas.concat instead.\n",
      "  results_df = results_df.append({\"URL\": url, \"ElementCount\": element_count}, ignore_index=True)\n"
     ]
    },
    {
     "name": "stdout",
     "output_type": "stream",
     "text": [
      "URL: https://chat.openai.com/share/262e8d7d-657b-4a30-9f91-37dc85a8ec77, Elements with class names: 0\n"
     ]
    },
    {
     "name": "stderr",
     "output_type": "stream",
     "text": [
      "C:\\Users\\dell\\AppData\\Local\\Temp\\ipykernel_14856\\1829702115.py:42: FutureWarning: The frame.append method is deprecated and will be removed from pandas in a future version. Use pandas.concat instead.\n",
      "  results_df = results_df.append({\"URL\": url, \"ElementCount\": element_count}, ignore_index=True)\n"
     ]
    },
    {
     "name": "stdout",
     "output_type": "stream",
     "text": [
      "URL: https://chat.openai.com/share/02ce3405-8cf0-4f57-9970-9e3a8443d165, Elements with class names: 20\n"
     ]
    },
    {
     "name": "stderr",
     "output_type": "stream",
     "text": [
      "C:\\Users\\dell\\AppData\\Local\\Temp\\ipykernel_14856\\1829702115.py:42: FutureWarning: The frame.append method is deprecated and will be removed from pandas in a future version. Use pandas.concat instead.\n",
      "  results_df = results_df.append({\"URL\": url, \"ElementCount\": element_count}, ignore_index=True)\n"
     ]
    },
    {
     "name": "stdout",
     "output_type": "stream",
     "text": [
      "URL: https://chat.openai.com/share/259b2ba2-46e2-4d57-a509-ec07c2ce4e4a, Elements with class names: 14\n"
     ]
    },
    {
     "name": "stderr",
     "output_type": "stream",
     "text": [
      "C:\\Users\\dell\\AppData\\Local\\Temp\\ipykernel_14856\\1829702115.py:42: FutureWarning: The frame.append method is deprecated and will be removed from pandas in a future version. Use pandas.concat instead.\n",
      "  results_df = results_df.append({\"URL\": url, \"ElementCount\": element_count}, ignore_index=True)\n"
     ]
    },
    {
     "name": "stdout",
     "output_type": "stream",
     "text": [
      "URL: https://chat.openai.com/share/5f18ab61-fe51-4c23-abf8-20275fca6ed1, Elements with class names: 4\n",
      "Error counting elements on https://chat.openai.com/share/4bad57dd-9636-4b63-9e73-37351f51dbc9: Waiting for selector \".font-semibold.select-none\" failed: timeout 30000ms exceeds.\n"
     ]
    },
    {
     "name": "stderr",
     "output_type": "stream",
     "text": [
      "C:\\Users\\dell\\AppData\\Local\\Temp\\ipykernel_14856\\3993373829.py:44: FutureWarning: The frame.append method is deprecated and will be removed from pandas in a future version. Use pandas.concat instead.\n",
      "  results_df = results_df.append({\"URL\": url, \"ElementCount\": element_count}, ignore_index=True)\n"
     ]
    },
    {
     "name": "stdout",
     "output_type": "stream",
     "text": [
      "URL: https://chat.openai.com/share/4bad57dd-9636-4b63-9e73-37351f51dbc9, Elements with class names: 0\n",
      "Error counting elements on https://chat.openai.com/share/458f086c-af21-4c12-95ee-68a5dfaca46a: Waiting for selector \".font-semibold.select-none\" failed: timeout 30000ms exceeds.\n"
     ]
    },
    {
     "name": "stderr",
     "output_type": "stream",
     "text": [
      "C:\\Users\\dell\\AppData\\Local\\Temp\\ipykernel_14856\\1829702115.py:42: FutureWarning: The frame.append method is deprecated and will be removed from pandas in a future version. Use pandas.concat instead.\n",
      "  results_df = results_df.append({\"URL\": url, \"ElementCount\": element_count}, ignore_index=True)\n"
     ]
    },
    {
     "name": "stdout",
     "output_type": "stream",
     "text": [
      "URL: https://chat.openai.com/share/458f086c-af21-4c12-95ee-68a5dfaca46a, Elements with class names: 0\n"
     ]
    },
    {
     "name": "stderr",
     "output_type": "stream",
     "text": [
      "C:\\Users\\dell\\AppData\\Local\\Temp\\ipykernel_14856\\1829702115.py:42: FutureWarning: The frame.append method is deprecated and will be removed from pandas in a future version. Use pandas.concat instead.\n",
      "  results_df = results_df.append({\"URL\": url, \"ElementCount\": element_count}, ignore_index=True)\n"
     ]
    },
    {
     "name": "stdout",
     "output_type": "stream",
     "text": [
      "URL: https://chat.openai.com/share/c8094fa1-a703-4389-9929-dd02055abae7, Elements with class names: 2\n",
      "Error counting elements on https://chat.openai.com/share/1fd7ffc2-9264-45dd-943c-9fe30c182d83: Waiting for selector \".font-semibold.select-none\" failed: timeout 30000ms exceeds.\n",
      "URL: https://chat.openai.com/share/1fd7ffc2-9264-45dd-943c-9fe30c182d83, Elements with class names: 0\n"
     ]
    },
    {
     "name": "stderr",
     "output_type": "stream",
     "text": [
      "C:\\Users\\dell\\AppData\\Local\\Temp\\ipykernel_14856\\3993373829.py:44: FutureWarning: The frame.append method is deprecated and will be removed from pandas in a future version. Use pandas.concat instead.\n",
      "  results_df = results_df.append({\"URL\": url, \"ElementCount\": element_count}, ignore_index=True)\n"
     ]
    },
    {
     "name": "stdout",
     "output_type": "stream",
     "text": [
      "Error counting elements on https://chat.openai.com/share/17636bf2-f5f3-400e-905a-9e457e3462a9: Waiting for selector \".font-semibold.select-none\" failed: timeout 30000ms exceeds.\n",
      "URL: https://chat.openai.com/share/17636bf2-f5f3-400e-905a-9e457e3462a9, Elements with class names: 0\n"
     ]
    },
    {
     "name": "stderr",
     "output_type": "stream",
     "text": [
      "C:\\Users\\dell\\AppData\\Local\\Temp\\ipykernel_14856\\1829702115.py:42: FutureWarning: The frame.append method is deprecated and will be removed from pandas in a future version. Use pandas.concat instead.\n",
      "  results_df = results_df.append({\"URL\": url, \"ElementCount\": element_count}, ignore_index=True)\n"
     ]
    },
    {
     "name": "stdout",
     "output_type": "stream",
     "text": [
      "Error counting elements on https://chat.openai.com/share/99d2d02f-7e3b-435b-b918-9b73bd9d00c3: Waiting for selector \".font-semibold.select-none\" failed: timeout 30000ms exceeds.\n",
      "URL: https://chat.openai.com/share/99d2d02f-7e3b-435b-b918-9b73bd9d00c3, Elements with class names: 0\n"
     ]
    },
    {
     "name": "stderr",
     "output_type": "stream",
     "text": [
      "C:\\Users\\dell\\AppData\\Local\\Temp\\ipykernel_14856\\3993373829.py:44: FutureWarning: The frame.append method is deprecated and will be removed from pandas in a future version. Use pandas.concat instead.\n",
      "  results_df = results_df.append({\"URL\": url, \"ElementCount\": element_count}, ignore_index=True)\n",
      "C:\\Users\\dell\\AppData\\Local\\Temp\\ipykernel_14856\\1829702115.py:42: FutureWarning: The frame.append method is deprecated and will be removed from pandas in a future version. Use pandas.concat instead.\n",
      "  results_df = results_df.append({\"URL\": url, \"ElementCount\": element_count}, ignore_index=True)\n"
     ]
    },
    {
     "name": "stdout",
     "output_type": "stream",
     "text": [
      "URL: https://chat.openai.com/share/8be95b96-b7d0-4e89-b3fb-bf9cd7dd6c56, Elements with class names: 4\n"
     ]
    },
    {
     "name": "stderr",
     "output_type": "stream",
     "text": [
      "C:\\Users\\dell\\AppData\\Local\\Temp\\ipykernel_14856\\3993373829.py:44: FutureWarning: The frame.append method is deprecated and will be removed from pandas in a future version. Use pandas.concat instead.\n",
      "  results_df = results_df.append({\"URL\": url, \"ElementCount\": element_count}, ignore_index=True)\n"
     ]
    },
    {
     "name": "stdout",
     "output_type": "stream",
     "text": [
      "URL: https://chat.openai.com/share/90ebe55e-bd60-47cf-b290-272980b7495e, Elements with class names: 12\n"
     ]
    },
    {
     "name": "stderr",
     "output_type": "stream",
     "text": [
      "C:\\Users\\dell\\AppData\\Local\\Temp\\ipykernel_14856\\1829702115.py:42: FutureWarning: The frame.append method is deprecated and will be removed from pandas in a future version. Use pandas.concat instead.\n",
      "  results_df = results_df.append({\"URL\": url, \"ElementCount\": element_count}, ignore_index=True)\n"
     ]
    },
    {
     "name": "stdout",
     "output_type": "stream",
     "text": [
      "URL: https://chat.openai.com/share/550b906c-9af8-4c46-8717-65e81cdfa767, Elements with class names: 4\n"
     ]
    },
    {
     "name": "stderr",
     "output_type": "stream",
     "text": [
      "C:\\Users\\dell\\AppData\\Local\\Temp\\ipykernel_14856\\3993373829.py:44: FutureWarning: The frame.append method is deprecated and will be removed from pandas in a future version. Use pandas.concat instead.\n",
      "  results_df = results_df.append({\"URL\": url, \"ElementCount\": element_count}, ignore_index=True)\n"
     ]
    },
    {
     "name": "stdout",
     "output_type": "stream",
     "text": [
      "URL: https://chat.openai.com/share/6b654f3c-3763-4292-92b1-3026e647e505, Elements with class names: 10\n"
     ]
    },
    {
     "name": "stderr",
     "output_type": "stream",
     "text": [
      "C:\\Users\\dell\\AppData\\Local\\Temp\\ipykernel_14856\\1829702115.py:42: FutureWarning: The frame.append method is deprecated and will be removed from pandas in a future version. Use pandas.concat instead.\n",
      "  results_df = results_df.append({\"URL\": url, \"ElementCount\": element_count}, ignore_index=True)\n"
     ]
    },
    {
     "name": "stdout",
     "output_type": "stream",
     "text": [
      "URL: https://chat.openai.com/share/00d4058e-bbd1-46eb-8543-95a436bf613f, Elements with class names: 4\n"
     ]
    },
    {
     "name": "stderr",
     "output_type": "stream",
     "text": [
      "C:\\Users\\dell\\AppData\\Local\\Temp\\ipykernel_14856\\3993373829.py:44: FutureWarning: The frame.append method is deprecated and will be removed from pandas in a future version. Use pandas.concat instead.\n",
      "  results_df = results_df.append({\"URL\": url, \"ElementCount\": element_count}, ignore_index=True)\n"
     ]
    },
    {
     "name": "stdout",
     "output_type": "stream",
     "text": [
      "URL: https://chat.openai.com/share/17a9692d-b893-47da-bca1-b46554f00962, Elements with class names: 10\n"
     ]
    },
    {
     "name": "stderr",
     "output_type": "stream",
     "text": [
      "C:\\Users\\dell\\AppData\\Local\\Temp\\ipykernel_14856\\1829702115.py:42: FutureWarning: The frame.append method is deprecated and will be removed from pandas in a future version. Use pandas.concat instead.\n",
      "  results_df = results_df.append({\"URL\": url, \"ElementCount\": element_count}, ignore_index=True)\n"
     ]
    },
    {
     "name": "stdout",
     "output_type": "stream",
     "text": [
      "URL: https://chat.openai.com/share/89718543-c077-40f0-9031-15b4b78a451c, Elements with class names: 2\n"
     ]
    },
    {
     "name": "stderr",
     "output_type": "stream",
     "text": [
      "C:\\Users\\dell\\AppData\\Local\\Temp\\ipykernel_14856\\1829702115.py:42: FutureWarning: The frame.append method is deprecated and will be removed from pandas in a future version. Use pandas.concat instead.\n",
      "  results_df = results_df.append({\"URL\": url, \"ElementCount\": element_count}, ignore_index=True)\n"
     ]
    },
    {
     "name": "stdout",
     "output_type": "stream",
     "text": [
      "URL: https://chat.openai.com/share/13d15bc9-c30e-4fb9-a960-6ecdf2e5ddbb, Elements with class names: 20\n"
     ]
    },
    {
     "name": "stderr",
     "output_type": "stream",
     "text": [
      "C:\\Users\\dell\\AppData\\Local\\Temp\\ipykernel_14856\\3993373829.py:44: FutureWarning: The frame.append method is deprecated and will be removed from pandas in a future version. Use pandas.concat instead.\n",
      "  results_df = results_df.append({\"URL\": url, \"ElementCount\": element_count}, ignore_index=True)\n"
     ]
    },
    {
     "name": "stdout",
     "output_type": "stream",
     "text": [
      "URL: https://chat.openai.com/share/7cf2816f-13ea-404c-b0f7-ffc65583617a, Elements with class names: 6\n"
     ]
    },
    {
     "name": "stderr",
     "output_type": "stream",
     "text": [
      "C:\\Users\\dell\\AppData\\Local\\Temp\\ipykernel_14856\\3993373829.py:44: FutureWarning: The frame.append method is deprecated and will be removed from pandas in a future version. Use pandas.concat instead.\n",
      "  results_df = results_df.append({\"URL\": url, \"ElementCount\": element_count}, ignore_index=True)\n"
     ]
    },
    {
     "name": "stdout",
     "output_type": "stream",
     "text": [
      "URL: https://chat.openai.com/share/7cf2816f-13ea-404c-b0f7-ffc65583617a, Elements with class names: 6\n"
     ]
    },
    {
     "name": "stderr",
     "output_type": "stream",
     "text": [
      "C:\\Users\\dell\\AppData\\Local\\Temp\\ipykernel_14856\\3993373829.py:44: FutureWarning: The frame.append method is deprecated and will be removed from pandas in a future version. Use pandas.concat instead.\n",
      "  results_df = results_df.append({\"URL\": url, \"ElementCount\": element_count}, ignore_index=True)\n"
     ]
    },
    {
     "name": "stdout",
     "output_type": "stream",
     "text": [
      "URL: https://chat.openai.com/share/03ce2877-4d85-4e81-b70c-01d729fc3787, Elements with class names: 6\n"
     ]
    },
    {
     "name": "stderr",
     "output_type": "stream",
     "text": [
      "C:\\Users\\dell\\AppData\\Local\\Temp\\ipykernel_14856\\3993373829.py:44: FutureWarning: The frame.append method is deprecated and will be removed from pandas in a future version. Use pandas.concat instead.\n",
      "  results_df = results_df.append({\"URL\": url, \"ElementCount\": element_count}, ignore_index=True)\n"
     ]
    },
    {
     "name": "stdout",
     "output_type": "stream",
     "text": [
      "URL: https://chat.openai.com/share/ce7b2d74-5552-429a-8c4f-da2cd5f908e8, Elements with class names: 4\n"
     ]
    },
    {
     "name": "stderr",
     "output_type": "stream",
     "text": [
      "C:\\Users\\dell\\AppData\\Local\\Temp\\ipykernel_14856\\3993373829.py:44: FutureWarning: The frame.append method is deprecated and will be removed from pandas in a future version. Use pandas.concat instead.\n",
      "  results_df = results_df.append({\"URL\": url, \"ElementCount\": element_count}, ignore_index=True)\n"
     ]
    },
    {
     "name": "stdout",
     "output_type": "stream",
     "text": [
      "URL: https://chat.openai.com/share/49eb1aff-ce9a-4373-ad28-348c2b5addcd, Elements with class names: 2\n",
      "Error counting elements on https://chat.openai.com/share/440260cc-c204-4588-bc97-d4b8d1d11326: Waiting for selector \".font-semibold.select-none\" failed: timeout 30000ms exceeds.\n"
     ]
    },
    {
     "name": "stderr",
     "output_type": "stream",
     "text": [
      "C:\\Users\\dell\\AppData\\Local\\Temp\\ipykernel_14856\\1829702115.py:42: FutureWarning: The frame.append method is deprecated and will be removed from pandas in a future version. Use pandas.concat instead.\n",
      "  results_df = results_df.append({\"URL\": url, \"ElementCount\": element_count}, ignore_index=True)\n"
     ]
    },
    {
     "name": "stdout",
     "output_type": "stream",
     "text": [
      "URL: https://chat.openai.com/share/440260cc-c204-4588-bc97-d4b8d1d11326, Elements with class names: 0\n"
     ]
    },
    {
     "name": "stderr",
     "output_type": "stream",
     "text": [
      "C:\\Users\\dell\\AppData\\Local\\Temp\\ipykernel_14856\\1829702115.py:42: FutureWarning: The frame.append method is deprecated and will be removed from pandas in a future version. Use pandas.concat instead.\n",
      "  results_df = results_df.append({\"URL\": url, \"ElementCount\": element_count}, ignore_index=True)\n"
     ]
    },
    {
     "name": "stdout",
     "output_type": "stream",
     "text": [
      "URL: https://chat.openai.com/share/425a2879-ccfd-48f4-a359-8c39e073a256, Elements with class names: 22\n"
     ]
    },
    {
     "name": "stderr",
     "output_type": "stream",
     "text": [
      "C:\\Users\\dell\\AppData\\Local\\Temp\\ipykernel_14856\\3993373829.py:44: FutureWarning: The frame.append method is deprecated and will be removed from pandas in a future version. Use pandas.concat instead.\n",
      "  results_df = results_df.append({\"URL\": url, \"ElementCount\": element_count}, ignore_index=True)\n"
     ]
    },
    {
     "name": "stdout",
     "output_type": "stream",
     "text": [
      "URL: https://chat.openai.com/share/58d110d6-4236-461c-b3c4-a8df6519c534, Elements with class names: 10\n"
     ]
    },
    {
     "name": "stderr",
     "output_type": "stream",
     "text": [
      "C:\\Users\\dell\\AppData\\Local\\Temp\\ipykernel_14856\\1829702115.py:42: FutureWarning: The frame.append method is deprecated and will be removed from pandas in a future version. Use pandas.concat instead.\n",
      "  results_df = results_df.append({\"URL\": url, \"ElementCount\": element_count}, ignore_index=True)\n"
     ]
    },
    {
     "name": "stdout",
     "output_type": "stream",
     "text": [
      "URL: https://chat.openai.com/share/78c21332-db16-4a97-a1ea-1d2ce786dc6b, Elements with class names: 2\n"
     ]
    },
    {
     "name": "stderr",
     "output_type": "stream",
     "text": [
      "C:\\Users\\dell\\AppData\\Local\\Temp\\ipykernel_14856\\3993373829.py:44: FutureWarning: The frame.append method is deprecated and will be removed from pandas in a future version. Use pandas.concat instead.\n",
      "  results_df = results_df.append({\"URL\": url, \"ElementCount\": element_count}, ignore_index=True)\n"
     ]
    },
    {
     "name": "stdout",
     "output_type": "stream",
     "text": [
      "URL: https://chat.openai.com/share/2d2dbb5d-e590-4884-a112-6de5285ccfd2, Elements with class names: 24\n"
     ]
    },
    {
     "name": "stderr",
     "output_type": "stream",
     "text": [
      "C:\\Users\\dell\\AppData\\Local\\Temp\\ipykernel_14856\\1829702115.py:42: FutureWarning: The frame.append method is deprecated and will be removed from pandas in a future version. Use pandas.concat instead.\n",
      "  results_df = results_df.append({\"URL\": url, \"ElementCount\": element_count}, ignore_index=True)\n"
     ]
    },
    {
     "name": "stdout",
     "output_type": "stream",
     "text": [
      "URL: https://chat.openai.com/share/f4dbb24b-7c93-4105-ac55-0b3599622c29, Elements with class names: 4\n"
     ]
    },
    {
     "name": "stderr",
     "output_type": "stream",
     "text": [
      "C:\\Users\\dell\\AppData\\Local\\Temp\\ipykernel_14856\\3993373829.py:44: FutureWarning: The frame.append method is deprecated and will be removed from pandas in a future version. Use pandas.concat instead.\n",
      "  results_df = results_df.append({\"URL\": url, \"ElementCount\": element_count}, ignore_index=True)\n"
     ]
    },
    {
     "name": "stdout",
     "output_type": "stream",
     "text": [
      "URL: https://chat.openai.com/share/8ce87c69-a8f4-4200-8e13-ebfa45719c67, Elements with class names: 84\n"
     ]
    },
    {
     "name": "stderr",
     "output_type": "stream",
     "text": [
      "C:\\Users\\dell\\AppData\\Local\\Temp\\ipykernel_14856\\1829702115.py:42: FutureWarning: The frame.append method is deprecated and will be removed from pandas in a future version. Use pandas.concat instead.\n",
      "  results_df = results_df.append({\"URL\": url, \"ElementCount\": element_count}, ignore_index=True)\n"
     ]
    },
    {
     "name": "stdout",
     "output_type": "stream",
     "text": [
      "URL: https://chat.openai.com/share/c70ac870-b8c9-4d58-b1c5-47d5f6e49332, Elements with class names: 8\n"
     ]
    },
    {
     "name": "stderr",
     "output_type": "stream",
     "text": [
      "C:\\Users\\dell\\AppData\\Local\\Temp\\ipykernel_14856\\3993373829.py:44: FutureWarning: The frame.append method is deprecated and will be removed from pandas in a future version. Use pandas.concat instead.\n",
      "  results_df = results_df.append({\"URL\": url, \"ElementCount\": element_count}, ignore_index=True)\n"
     ]
    },
    {
     "name": "stdout",
     "output_type": "stream",
     "text": [
      "URL: https://chat.openai.com/share/73e56b34-fb0d-4056-bfcc-daf800b5d213, Elements with class names: 22\n"
     ]
    },
    {
     "name": "stderr",
     "output_type": "stream",
     "text": [
      "C:\\Users\\dell\\AppData\\Local\\Temp\\ipykernel_14856\\3993373829.py:44: FutureWarning: The frame.append method is deprecated and will be removed from pandas in a future version. Use pandas.concat instead.\n",
      "  results_df = results_df.append({\"URL\": url, \"ElementCount\": element_count}, ignore_index=True)\n"
     ]
    },
    {
     "name": "stdout",
     "output_type": "stream",
     "text": [
      "URL: https://chat.openai.com/share/52d67aed-45fa-451d-bb95-46d8ba642fa8, Elements with class names: 10\n"
     ]
    },
    {
     "name": "stderr",
     "output_type": "stream",
     "text": [
      "C:\\Users\\dell\\AppData\\Local\\Temp\\ipykernel_14856\\3993373829.py:44: FutureWarning: The frame.append method is deprecated and will be removed from pandas in a future version. Use pandas.concat instead.\n",
      "  results_df = results_df.append({\"URL\": url, \"ElementCount\": element_count}, ignore_index=True)\n"
     ]
    },
    {
     "name": "stdout",
     "output_type": "stream",
     "text": [
      "URL: https://chat.openai.com/share/39fb281e-44dd-4e59-993c-b77227ae9e37, Elements with class names: 8\n"
     ]
    },
    {
     "name": "stderr",
     "output_type": "stream",
     "text": [
      "C:\\Users\\dell\\AppData\\Local\\Temp\\ipykernel_14856\\3993373829.py:44: FutureWarning: The frame.append method is deprecated and will be removed from pandas in a future version. Use pandas.concat instead.\n",
      "  results_df = results_df.append({\"URL\": url, \"ElementCount\": element_count}, ignore_index=True)\n"
     ]
    },
    {
     "name": "stdout",
     "output_type": "stream",
     "text": [
      "URL: https://chat.openai.com/share/9d1a293d-d357-4913-b20d-9e308bf9c7c9, Elements with class names: 6\n"
     ]
    },
    {
     "name": "stderr",
     "output_type": "stream",
     "text": [
      "C:\\Users\\dell\\AppData\\Local\\Temp\\ipykernel_14856\\3993373829.py:44: FutureWarning: The frame.append method is deprecated and will be removed from pandas in a future version. Use pandas.concat instead.\n",
      "  results_df = results_df.append({\"URL\": url, \"ElementCount\": element_count}, ignore_index=True)\n"
     ]
    },
    {
     "name": "stdout",
     "output_type": "stream",
     "text": [
      "URL: https://chat.openai.com/share/05af05bc-82c7-4f18-9873-2cc3b3a595fe, Elements with class names: 6\n"
     ]
    },
    {
     "name": "stderr",
     "output_type": "stream",
     "text": [
      "C:\\Users\\dell\\AppData\\Local\\Temp\\ipykernel_14856\\3993373829.py:44: FutureWarning: The frame.append method is deprecated and will be removed from pandas in a future version. Use pandas.concat instead.\n",
      "  results_df = results_df.append({\"URL\": url, \"ElementCount\": element_count}, ignore_index=True)\n"
     ]
    },
    {
     "name": "stdout",
     "output_type": "stream",
     "text": [
      "URL: https://chat.openai.com/share/795ad36a-0a38-431d-963f-fbd2ef14e44c, Elements with class names: 2\n"
     ]
    },
    {
     "name": "stderr",
     "output_type": "stream",
     "text": [
      "C:\\Users\\dell\\AppData\\Local\\Temp\\ipykernel_14856\\3993373829.py:44: FutureWarning: The frame.append method is deprecated and will be removed from pandas in a future version. Use pandas.concat instead.\n",
      "  results_df = results_df.append({\"URL\": url, \"ElementCount\": element_count}, ignore_index=True)\n"
     ]
    },
    {
     "name": "stdout",
     "output_type": "stream",
     "text": [
      "URL: https://chat.openai.com/share/2b616e34-2067-4682-adbd-9e57fe381f66, Elements with class names: 22\n",
      "Error counting elements on https://chat.openai.com/share/37bbb89b-8ef1-494a-9441-64c0cb138987: Waiting for selector \".font-semibold.select-none\" failed: timeout 30000ms exceeds.\n"
     ]
    },
    {
     "name": "stderr",
     "output_type": "stream",
     "text": [
      "C:\\Users\\dell\\AppData\\Local\\Temp\\ipykernel_14856\\1829702115.py:42: FutureWarning: The frame.append method is deprecated and will be removed from pandas in a future version. Use pandas.concat instead.\n",
      "  results_df = results_df.append({\"URL\": url, \"ElementCount\": element_count}, ignore_index=True)\n"
     ]
    },
    {
     "name": "stdout",
     "output_type": "stream",
     "text": [
      "URL: https://chat.openai.com/share/37bbb89b-8ef1-494a-9441-64c0cb138987, Elements with class names: 0\n"
     ]
    },
    {
     "name": "stderr",
     "output_type": "stream",
     "text": [
      "C:\\Users\\dell\\AppData\\Local\\Temp\\ipykernel_14856\\3993373829.py:44: FutureWarning: The frame.append method is deprecated and will be removed from pandas in a future version. Use pandas.concat instead.\n",
      "  results_df = results_df.append({\"URL\": url, \"ElementCount\": element_count}, ignore_index=True)\n"
     ]
    },
    {
     "name": "stdout",
     "output_type": "stream",
     "text": [
      "URL: https://chat.openai.com/share/6355d2fc-a95b-4c62-b528-ec4437801c17, Elements with class names: 2\n"
     ]
    },
    {
     "name": "stderr",
     "output_type": "stream",
     "text": [
      "C:\\Users\\dell\\AppData\\Local\\Temp\\ipykernel_14856\\1829702115.py:42: FutureWarning: The frame.append method is deprecated and will be removed from pandas in a future version. Use pandas.concat instead.\n",
      "  results_df = results_df.append({\"URL\": url, \"ElementCount\": element_count}, ignore_index=True)\n"
     ]
    },
    {
     "name": "stdout",
     "output_type": "stream",
     "text": [
      "URL: https://chat.openai.com/share/7ef86bff-ae4f-4934-8137-93badcb26702, Elements with class names: 40\n"
     ]
    },
    {
     "name": "stderr",
     "output_type": "stream",
     "text": [
      "C:\\Users\\dell\\AppData\\Local\\Temp\\ipykernel_14856\\3993373829.py:44: FutureWarning: The frame.append method is deprecated and will be removed from pandas in a future version. Use pandas.concat instead.\n",
      "  results_df = results_df.append({\"URL\": url, \"ElementCount\": element_count}, ignore_index=True)\n"
     ]
    },
    {
     "name": "stdout",
     "output_type": "stream",
     "text": [
      "URL: https://chat.openai.com/share/c89e041e-ea23-42f9-972f-8543f4407db7, Elements with class names: 16\n"
     ]
    },
    {
     "name": "stderr",
     "output_type": "stream",
     "text": [
      "C:\\Users\\dell\\AppData\\Local\\Temp\\ipykernel_14856\\1829702115.py:42: FutureWarning: The frame.append method is deprecated and will be removed from pandas in a future version. Use pandas.concat instead.\n",
      "  results_df = results_df.append({\"URL\": url, \"ElementCount\": element_count}, ignore_index=True)\n"
     ]
    },
    {
     "name": "stdout",
     "output_type": "stream",
     "text": [
      "URL: https://chat.openai.com/share/30040380-3d76-4d0a-ab24-da48f2b9a1ad, Elements with class names: 8\n"
     ]
    },
    {
     "name": "stderr",
     "output_type": "stream",
     "text": [
      "C:\\Users\\dell\\AppData\\Local\\Temp\\ipykernel_14856\\3993373829.py:44: FutureWarning: The frame.append method is deprecated and will be removed from pandas in a future version. Use pandas.concat instead.\n",
      "  results_df = results_df.append({\"URL\": url, \"ElementCount\": element_count}, ignore_index=True)\n"
     ]
    },
    {
     "name": "stdout",
     "output_type": "stream",
     "text": [
      "URL: https://chat.openai.com/share/76af53fb-7cc5-4f5c-acd5-7fd1c2ad26cf, Elements with class names: 40\n"
     ]
    },
    {
     "name": "stderr",
     "output_type": "stream",
     "text": [
      "C:\\Users\\dell\\AppData\\Local\\Temp\\ipykernel_14856\\1829702115.py:42: FutureWarning: The frame.append method is deprecated and will be removed from pandas in a future version. Use pandas.concat instead.\n",
      "  results_df = results_df.append({\"URL\": url, \"ElementCount\": element_count}, ignore_index=True)\n"
     ]
    },
    {
     "name": "stdout",
     "output_type": "stream",
     "text": [
      "URL: https://chat.openai.com/share/bae6b22c-31f1-435f-aac0-05812fbe7c73, Elements with class names: 2\n"
     ]
    },
    {
     "name": "stderr",
     "output_type": "stream",
     "text": [
      "C:\\Users\\dell\\AppData\\Local\\Temp\\ipykernel_14856\\3993373829.py:44: FutureWarning: The frame.append method is deprecated and will be removed from pandas in a future version. Use pandas.concat instead.\n",
      "  results_df = results_df.append({\"URL\": url, \"ElementCount\": element_count}, ignore_index=True)\n"
     ]
    },
    {
     "name": "stdout",
     "output_type": "stream",
     "text": [
      "URL: https://chat.openai.com/share/f082ae67-9f57-4ae9-a5fc-8352462064ee, Elements with class names: 6\n"
     ]
    },
    {
     "name": "stderr",
     "output_type": "stream",
     "text": [
      "C:\\Users\\dell\\AppData\\Local\\Temp\\ipykernel_14856\\1829702115.py:42: FutureWarning: The frame.append method is deprecated and will be removed from pandas in a future version. Use pandas.concat instead.\n",
      "  results_df = results_df.append({\"URL\": url, \"ElementCount\": element_count}, ignore_index=True)\n"
     ]
    },
    {
     "name": "stdout",
     "output_type": "stream",
     "text": [
      "URL: https://chat.openai.com/share/be2fb973-edbf-4352-bc26-de5cd7b6f549, Elements with class names: 6\n"
     ]
    },
    {
     "name": "stderr",
     "output_type": "stream",
     "text": [
      "C:\\Users\\dell\\AppData\\Local\\Temp\\ipykernel_14856\\3993373829.py:44: FutureWarning: The frame.append method is deprecated and will be removed from pandas in a future version. Use pandas.concat instead.\n",
      "  results_df = results_df.append({\"URL\": url, \"ElementCount\": element_count}, ignore_index=True)\n"
     ]
    },
    {
     "name": "stdout",
     "output_type": "stream",
     "text": [
      "URL: https://chat.openai.com/share/f082ae67-9f57-4ae9-a5fc-8352462064ee, Elements with class names: 6\n"
     ]
    },
    {
     "name": "stderr",
     "output_type": "stream",
     "text": [
      "C:\\Users\\dell\\AppData\\Local\\Temp\\ipykernel_14856\\1829702115.py:42: FutureWarning: The frame.append method is deprecated and will be removed from pandas in a future version. Use pandas.concat instead.\n",
      "  results_df = results_df.append({\"URL\": url, \"ElementCount\": element_count}, ignore_index=True)\n"
     ]
    },
    {
     "name": "stdout",
     "output_type": "stream",
     "text": [
      "URL: https://chat.openai.com/share/f1736dfb-f0b6-4f27-95ef-a6fbfbc63840, Elements with class names: 2\n"
     ]
    },
    {
     "name": "stderr",
     "output_type": "stream",
     "text": [
      "C:\\Users\\dell\\AppData\\Local\\Temp\\ipykernel_14856\\3993373829.py:44: FutureWarning: The frame.append method is deprecated and will be removed from pandas in a future version. Use pandas.concat instead.\n",
      "  results_df = results_df.append({\"URL\": url, \"ElementCount\": element_count}, ignore_index=True)\n"
     ]
    },
    {
     "name": "stdout",
     "output_type": "stream",
     "text": [
      "URL: https://chat.openai.com/share/be79a950-1231-4e55-aae0-2a90d8962d1d, Elements with class names: 6\n"
     ]
    },
    {
     "name": "stderr",
     "output_type": "stream",
     "text": [
      "C:\\Users\\dell\\AppData\\Local\\Temp\\ipykernel_14856\\1829702115.py:42: FutureWarning: The frame.append method is deprecated and will be removed from pandas in a future version. Use pandas.concat instead.\n",
      "  results_df = results_df.append({\"URL\": url, \"ElementCount\": element_count}, ignore_index=True)\n"
     ]
    },
    {
     "name": "stdout",
     "output_type": "stream",
     "text": [
      "URL: https://chat.openai.com/share/3c877b1b-f7b4-427f-a059-4bf01cfe743e, Elements with class names: 4\n"
     ]
    },
    {
     "name": "stderr",
     "output_type": "stream",
     "text": [
      "C:\\Users\\dell\\AppData\\Local\\Temp\\ipykernel_14856\\1829702115.py:42: FutureWarning: The frame.append method is deprecated and will be removed from pandas in a future version. Use pandas.concat instead.\n",
      "  results_df = results_df.append({\"URL\": url, \"ElementCount\": element_count}, ignore_index=True)\n"
     ]
    },
    {
     "name": "stdout",
     "output_type": "stream",
     "text": [
      "URL: https://chat.openai.com/share/d12f8a6e-8873-4aa4-992a-48125cc6aee5, Elements with class names: 12\n"
     ]
    },
    {
     "name": "stderr",
     "output_type": "stream",
     "text": [
      "C:\\Users\\dell\\AppData\\Local\\Temp\\ipykernel_14856\\3993373829.py:44: FutureWarning: The frame.append method is deprecated and will be removed from pandas in a future version. Use pandas.concat instead.\n",
      "  results_df = results_df.append({\"URL\": url, \"ElementCount\": element_count}, ignore_index=True)\n"
     ]
    },
    {
     "name": "stdout",
     "output_type": "stream",
     "text": [
      "URL: https://chat.openai.com/share/4cb1ea21-fb2a-4d93-bb05-2d5f2a8e9514, Elements with class names: 2\n"
     ]
    },
    {
     "name": "stderr",
     "output_type": "stream",
     "text": [
      "C:\\Users\\dell\\AppData\\Local\\Temp\\ipykernel_14856\\3993373829.py:44: FutureWarning: The frame.append method is deprecated and will be removed from pandas in a future version. Use pandas.concat instead.\n",
      "  results_df = results_df.append({\"URL\": url, \"ElementCount\": element_count}, ignore_index=True)\n"
     ]
    },
    {
     "name": "stdout",
     "output_type": "stream",
     "text": [
      "URL: https://chat.openai.com/share/0f8a3cf0-8199-4d7e-81c4-b49c4b4f25e5, Elements with class names: 2\n"
     ]
    },
    {
     "name": "stderr",
     "output_type": "stream",
     "text": [
      "C:\\Users\\dell\\AppData\\Local\\Temp\\ipykernel_14856\\3993373829.py:44: FutureWarning: The frame.append method is deprecated and will be removed from pandas in a future version. Use pandas.concat instead.\n",
      "  results_df = results_df.append({\"URL\": url, \"ElementCount\": element_count}, ignore_index=True)\n"
     ]
    },
    {
     "name": "stdout",
     "output_type": "stream",
     "text": [
      "URL: https://chat.openai.com/share/ba3847d4-8a7a-4f5e-b798-8a2584a6ccf7, Elements with class names: 8\n"
     ]
    },
    {
     "name": "stderr",
     "output_type": "stream",
     "text": [
      "C:\\Users\\dell\\AppData\\Local\\Temp\\ipykernel_14856\\3993373829.py:44: FutureWarning: The frame.append method is deprecated and will be removed from pandas in a future version. Use pandas.concat instead.\n",
      "  results_df = results_df.append({\"URL\": url, \"ElementCount\": element_count}, ignore_index=True)\n"
     ]
    },
    {
     "name": "stdout",
     "output_type": "stream",
     "text": [
      "URL: https://chat.openai.com/share/ba3847d4-8a7a-4f5e-b798-8a2584a6ccf7, Elements with class names: 8\n"
     ]
    },
    {
     "name": "stderr",
     "output_type": "stream",
     "text": [
      "C:\\Users\\dell\\AppData\\Local\\Temp\\ipykernel_14856\\3993373829.py:44: FutureWarning: The frame.append method is deprecated and will be removed from pandas in a future version. Use pandas.concat instead.\n",
      "  results_df = results_df.append({\"URL\": url, \"ElementCount\": element_count}, ignore_index=True)\n"
     ]
    },
    {
     "name": "stdout",
     "output_type": "stream",
     "text": [
      "URL: https://chat.openai.com/share/186b240c-7246-4719-975c-75c42e23ca90, Elements with class names: 4\n"
     ]
    },
    {
     "name": "stderr",
     "output_type": "stream",
     "text": [
      "C:\\Users\\dell\\AppData\\Local\\Temp\\ipykernel_14856\\3993373829.py:44: FutureWarning: The frame.append method is deprecated and will be removed from pandas in a future version. Use pandas.concat instead.\n",
      "  results_df = results_df.append({\"URL\": url, \"ElementCount\": element_count}, ignore_index=True)\n"
     ]
    },
    {
     "name": "stdout",
     "output_type": "stream",
     "text": [
      "URL: https://chat.openai.com/share/186b240c-7246-4719-975c-75c42e23ca90, Elements with class names: 4\n"
     ]
    },
    {
     "name": "stderr",
     "output_type": "stream",
     "text": [
      "C:\\Users\\dell\\AppData\\Local\\Temp\\ipykernel_14856\\3993373829.py:44: FutureWarning: The frame.append method is deprecated and will be removed from pandas in a future version. Use pandas.concat instead.\n",
      "  results_df = results_df.append({\"URL\": url, \"ElementCount\": element_count}, ignore_index=True)\n"
     ]
    },
    {
     "name": "stdout",
     "output_type": "stream",
     "text": [
      "URL: https://chat.openai.com/share/6a73f8aa-0e9e-4704-a469-a73e4531ef84, Elements with class names: 6\n",
      "Error counting elements on https://chat.openai.com/share/a75734fb-d070-4ab2-8141-36350e1b27e9: Waiting for selector \".font-semibold.select-none\" failed: timeout 30000ms exceeds.\n"
     ]
    },
    {
     "name": "stderr",
     "output_type": "stream",
     "text": [
      "C:\\Users\\dell\\AppData\\Local\\Temp\\ipykernel_14856\\1829702115.py:42: FutureWarning: The frame.append method is deprecated and will be removed from pandas in a future version. Use pandas.concat instead.\n",
      "  results_df = results_df.append({\"URL\": url, \"ElementCount\": element_count}, ignore_index=True)\n"
     ]
    },
    {
     "name": "stdout",
     "output_type": "stream",
     "text": [
      "URL: https://chat.openai.com/share/a75734fb-d070-4ab2-8141-36350e1b27e9, Elements with class names: 0\n"
     ]
    },
    {
     "name": "stderr",
     "output_type": "stream",
     "text": [
      "C:\\Users\\dell\\AppData\\Local\\Temp\\ipykernel_14856\\3993373829.py:44: FutureWarning: The frame.append method is deprecated and will be removed from pandas in a future version. Use pandas.concat instead.\n",
      "  results_df = results_df.append({\"URL\": url, \"ElementCount\": element_count}, ignore_index=True)\n"
     ]
    },
    {
     "name": "stdout",
     "output_type": "stream",
     "text": [
      "URL: https://chat.openai.com/share/13ce58f0-a37b-47d3-a50f-1b9b16278023, Elements with class names: 8\n"
     ]
    },
    {
     "name": "stderr",
     "output_type": "stream",
     "text": [
      "C:\\Users\\dell\\AppData\\Local\\Temp\\ipykernel_14856\\3993373829.py:44: FutureWarning: The frame.append method is deprecated and will be removed from pandas in a future version. Use pandas.concat instead.\n",
      "  results_df = results_df.append({\"URL\": url, \"ElementCount\": element_count}, ignore_index=True)\n"
     ]
    },
    {
     "name": "stdout",
     "output_type": "stream",
     "text": [
      "URL: https://chat.openai.com/share/9af123e7-5522-4d34-aa5f-dd0b891998a2, Elements with class names: 24\n"
     ]
    },
    {
     "name": "stderr",
     "output_type": "stream",
     "text": [
      "C:\\Users\\dell\\AppData\\Local\\Temp\\ipykernel_14856\\1829702115.py:42: FutureWarning: The frame.append method is deprecated and will be removed from pandas in a future version. Use pandas.concat instead.\n",
      "  results_df = results_df.append({\"URL\": url, \"ElementCount\": element_count}, ignore_index=True)\n"
     ]
    },
    {
     "name": "stdout",
     "output_type": "stream",
     "text": [
      "URL: https://chat.openai.com/share/336d4f49-40a4-47bf-9683-39d6d462556b, Elements with class names: 20\n"
     ]
    },
    {
     "name": "stderr",
     "output_type": "stream",
     "text": [
      "C:\\Users\\dell\\AppData\\Local\\Temp\\ipykernel_14856\\3993373829.py:44: FutureWarning: The frame.append method is deprecated and will be removed from pandas in a future version. Use pandas.concat instead.\n",
      "  results_df = results_df.append({\"URL\": url, \"ElementCount\": element_count}, ignore_index=True)\n"
     ]
    },
    {
     "name": "stdout",
     "output_type": "stream",
     "text": [
      "URL: https://chat.openai.com/share/bbf03be2-dc7b-4451-a614-1a542af33712, Elements with class names: 16\n"
     ]
    },
    {
     "name": "stderr",
     "output_type": "stream",
     "text": [
      "C:\\Users\\dell\\AppData\\Local\\Temp\\ipykernel_14856\\1829702115.py:42: FutureWarning: The frame.append method is deprecated and will be removed from pandas in a future version. Use pandas.concat instead.\n",
      "  results_df = results_df.append({\"URL\": url, \"ElementCount\": element_count}, ignore_index=True)\n"
     ]
    },
    {
     "name": "stdout",
     "output_type": "stream",
     "text": [
      "URL: https://chat.openai.com/share/a67aef02-7043-482e-99f7-286064507cc4, Elements with class names: 12\n"
     ]
    },
    {
     "name": "stderr",
     "output_type": "stream",
     "text": [
      "C:\\Users\\dell\\AppData\\Local\\Temp\\ipykernel_14856\\1829702115.py:42: FutureWarning: The frame.append method is deprecated and will be removed from pandas in a future version. Use pandas.concat instead.\n",
      "  results_df = results_df.append({\"URL\": url, \"ElementCount\": element_count}, ignore_index=True)\n"
     ]
    },
    {
     "name": "stdout",
     "output_type": "stream",
     "text": [
      "URL: https://chat.openai.com/share/97dbf284-129f-420b-b013-cd2b8f6a62f0, Elements with class names: 40\n"
     ]
    },
    {
     "name": "stderr",
     "output_type": "stream",
     "text": [
      "C:\\Users\\dell\\AppData\\Local\\Temp\\ipykernel_14856\\1829702115.py:42: FutureWarning: The frame.append method is deprecated and will be removed from pandas in a future version. Use pandas.concat instead.\n",
      "  results_df = results_df.append({\"URL\": url, \"ElementCount\": element_count}, ignore_index=True)\n"
     ]
    },
    {
     "name": "stdout",
     "output_type": "stream",
     "text": [
      "URL: https://chat.openai.com/share/aedf6150-7e30-4f4b-9abc-44534c266f18, Elements with class names: 2\n"
     ]
    },
    {
     "name": "stderr",
     "output_type": "stream",
     "text": [
      "C:\\Users\\dell\\AppData\\Local\\Temp\\ipykernel_14856\\3993373829.py:44: FutureWarning: The frame.append method is deprecated and will be removed from pandas in a future version. Use pandas.concat instead.\n",
      "  results_df = results_df.append({\"URL\": url, \"ElementCount\": element_count}, ignore_index=True)\n"
     ]
    },
    {
     "name": "stdout",
     "output_type": "stream",
     "text": [
      "URL: https://chat.openai.com/share/e4e17d6b-e664-44c1-b4bd-220ad8cb0df3, Elements with class names: 14\n"
     ]
    },
    {
     "name": "stderr",
     "output_type": "stream",
     "text": [
      "C:\\Users\\dell\\AppData\\Local\\Temp\\ipykernel_14856\\3993373829.py:44: FutureWarning: The frame.append method is deprecated and will be removed from pandas in a future version. Use pandas.concat instead.\n",
      "  results_df = results_df.append({\"URL\": url, \"ElementCount\": element_count}, ignore_index=True)\n"
     ]
    },
    {
     "name": "stdout",
     "output_type": "stream",
     "text": [
      "URL: https://chat.openai.com/share/67ff0200-dad4-48f2-884e-ccada57974f6, Elements with class names: 6\n"
     ]
    },
    {
     "name": "stderr",
     "output_type": "stream",
     "text": [
      "C:\\Users\\dell\\AppData\\Local\\Temp\\ipykernel_14856\\3993373829.py:44: FutureWarning: The frame.append method is deprecated and will be removed from pandas in a future version. Use pandas.concat instead.\n",
      "  results_df = results_df.append({\"URL\": url, \"ElementCount\": element_count}, ignore_index=True)\n"
     ]
    },
    {
     "name": "stdout",
     "output_type": "stream",
     "text": [
      "URL: https://chat.openai.com/share/132f9bdd-f09c-4ffa-ae80-28c04d5fc484, Elements with class names: 4\n"
     ]
    },
    {
     "name": "stderr",
     "output_type": "stream",
     "text": [
      "C:\\Users\\dell\\AppData\\Local\\Temp\\ipykernel_14856\\3993373829.py:44: FutureWarning: The frame.append method is deprecated and will be removed from pandas in a future version. Use pandas.concat instead.\n",
      "  results_df = results_df.append({\"URL\": url, \"ElementCount\": element_count}, ignore_index=True)\n"
     ]
    },
    {
     "name": "stdout",
     "output_type": "stream",
     "text": [
      "URL: https://chat.openai.com/share/7a56efac-27c4-4bac-a3cd-e11588e66dfd, Elements with class names: 20\n"
     ]
    },
    {
     "name": "stderr",
     "output_type": "stream",
     "text": [
      "C:\\Users\\dell\\AppData\\Local\\Temp\\ipykernel_14856\\3993373829.py:44: FutureWarning: The frame.append method is deprecated and will be removed from pandas in a future version. Use pandas.concat instead.\n",
      "  results_df = results_df.append({\"URL\": url, \"ElementCount\": element_count}, ignore_index=True)\n"
     ]
    },
    {
     "name": "stdout",
     "output_type": "stream",
     "text": [
      "URL: https://chat.openai.com/share/69616b53-6a75-478f-8985-09ea3fec73b0, Elements with class names: 2\n"
     ]
    },
    {
     "name": "stderr",
     "output_type": "stream",
     "text": [
      "C:\\Users\\dell\\AppData\\Local\\Temp\\ipykernel_14856\\3993373829.py:44: FutureWarning: The frame.append method is deprecated and will be removed from pandas in a future version. Use pandas.concat instead.\n",
      "  results_df = results_df.append({\"URL\": url, \"ElementCount\": element_count}, ignore_index=True)\n"
     ]
    },
    {
     "name": "stdout",
     "output_type": "stream",
     "text": [
      "URL: https://chat.openai.com/share/e8cbecdf-bdcc-4304-8bff-47adf8761d96, Elements with class names: 4\n"
     ]
    },
    {
     "name": "stderr",
     "output_type": "stream",
     "text": [
      "C:\\Users\\dell\\AppData\\Local\\Temp\\ipykernel_14856\\3993373829.py:44: FutureWarning: The frame.append method is deprecated and will be removed from pandas in a future version. Use pandas.concat instead.\n",
      "  results_df = results_df.append({\"URL\": url, \"ElementCount\": element_count}, ignore_index=True)\n"
     ]
    },
    {
     "name": "stdout",
     "output_type": "stream",
     "text": [
      "URL: https://chat.openai.com/share/91537f79-b48a-4b50-b109-12f94405f7b5, Elements with class names: 32\n",
      "Error counting elements on https://chat.openai.com/share/b175130a-0d77-465e-8187-59b92590df8b: Waiting for selector \".font-semibold.select-none\" failed: timeout 30000ms exceeds.\n"
     ]
    },
    {
     "name": "stderr",
     "output_type": "stream",
     "text": [
      "C:\\Users\\dell\\AppData\\Local\\Temp\\ipykernel_14856\\1829702115.py:42: FutureWarning: The frame.append method is deprecated and will be removed from pandas in a future version. Use pandas.concat instead.\n",
      "  results_df = results_df.append({\"URL\": url, \"ElementCount\": element_count}, ignore_index=True)\n"
     ]
    },
    {
     "name": "stdout",
     "output_type": "stream",
     "text": [
      "URL: https://chat.openai.com/share/b175130a-0d77-465e-8187-59b92590df8b, Elements with class names: 0\n"
     ]
    },
    {
     "name": "stderr",
     "output_type": "stream",
     "text": [
      "C:\\Users\\dell\\AppData\\Local\\Temp\\ipykernel_14856\\3993373829.py:44: FutureWarning: The frame.append method is deprecated and will be removed from pandas in a future version. Use pandas.concat instead.\n",
      "  results_df = results_df.append({\"URL\": url, \"ElementCount\": element_count}, ignore_index=True)\n"
     ]
    },
    {
     "name": "stdout",
     "output_type": "stream",
     "text": [
      "URL: https://chat.openai.com/share/beca8c14-7645-4e45-9d2f-4ee5879e1a35, Elements with class names: 2\n"
     ]
    },
    {
     "name": "stderr",
     "output_type": "stream",
     "text": [
      "C:\\Users\\dell\\AppData\\Local\\Temp\\ipykernel_14856\\1829702115.py:42: FutureWarning: The frame.append method is deprecated and will be removed from pandas in a future version. Use pandas.concat instead.\n",
      "  results_df = results_df.append({\"URL\": url, \"ElementCount\": element_count}, ignore_index=True)\n"
     ]
    },
    {
     "name": "stdout",
     "output_type": "stream",
     "text": [
      "URL: https://chat.openai.com/share/6af60e05-b164-4ada-ad9b-47c73cf6e74a, Elements with class names: 6\n"
     ]
    },
    {
     "name": "stderr",
     "output_type": "stream",
     "text": [
      "C:\\Users\\dell\\AppData\\Local\\Temp\\ipykernel_14856\\3993373829.py:44: FutureWarning: The frame.append method is deprecated and will be removed from pandas in a future version. Use pandas.concat instead.\n",
      "  results_df = results_df.append({\"URL\": url, \"ElementCount\": element_count}, ignore_index=True)\n"
     ]
    },
    {
     "name": "stdout",
     "output_type": "stream",
     "text": [
      "URL: https://chat.openai.com/share/b53130f9-3d0b-4539-8efb-cbe2e49a078a, Elements with class names: 4\n"
     ]
    },
    {
     "name": "stderr",
     "output_type": "stream",
     "text": [
      "C:\\Users\\dell\\AppData\\Local\\Temp\\ipykernel_14856\\1829702115.py:42: FutureWarning: The frame.append method is deprecated and will be removed from pandas in a future version. Use pandas.concat instead.\n",
      "  results_df = results_df.append({\"URL\": url, \"ElementCount\": element_count}, ignore_index=True)\n"
     ]
    },
    {
     "name": "stdout",
     "output_type": "stream",
     "text": [
      "URL: https://chat.openai.com/share/cfe2a21a-29e0-47ef-bc51-ebd02759a243, Elements with class names: 12\n"
     ]
    },
    {
     "name": "stderr",
     "output_type": "stream",
     "text": [
      "C:\\Users\\dell\\AppData\\Local\\Temp\\ipykernel_14856\\1829702115.py:42: FutureWarning: The frame.append method is deprecated and will be removed from pandas in a future version. Use pandas.concat instead.\n",
      "  results_df = results_df.append({\"URL\": url, \"ElementCount\": element_count}, ignore_index=True)\n"
     ]
    },
    {
     "name": "stdout",
     "output_type": "stream",
     "text": [
      "URL: https://chat.openai.com/share/caaa9e43-860a-4638-b16b-33b031883a59, Elements with class names: 4\n"
     ]
    },
    {
     "name": "stderr",
     "output_type": "stream",
     "text": [
      "C:\\Users\\dell\\AppData\\Local\\Temp\\ipykernel_14856\\1829702115.py:42: FutureWarning: The frame.append method is deprecated and will be removed from pandas in a future version. Use pandas.concat instead.\n",
      "  results_df = results_df.append({\"URL\": url, \"ElementCount\": element_count}, ignore_index=True)\n"
     ]
    },
    {
     "name": "stdout",
     "output_type": "stream",
     "text": [
      "URL: https://chat.openai.com/share/e8ad1d40-56f0-494e-96b9-63ae95e155bb, Elements with class names: 6\n"
     ]
    },
    {
     "name": "stderr",
     "output_type": "stream",
     "text": [
      "C:\\Users\\dell\\AppData\\Local\\Temp\\ipykernel_14856\\1829702115.py:42: FutureWarning: The frame.append method is deprecated and will be removed from pandas in a future version. Use pandas.concat instead.\n",
      "  results_df = results_df.append({\"URL\": url, \"ElementCount\": element_count}, ignore_index=True)\n"
     ]
    },
    {
     "name": "stdout",
     "output_type": "stream",
     "text": [
      "URL: https://chat.openai.com/share/bda008a6-9707-478f-ae4b-cfff38377c97, Elements with class names: 2\n"
     ]
    },
    {
     "name": "stderr",
     "output_type": "stream",
     "text": [
      "C:\\Users\\dell\\AppData\\Local\\Temp\\ipykernel_14856\\1829702115.py:42: FutureWarning: The frame.append method is deprecated and will be removed from pandas in a future version. Use pandas.concat instead.\n",
      "  results_df = results_df.append({\"URL\": url, \"ElementCount\": element_count}, ignore_index=True)\n"
     ]
    },
    {
     "name": "stdout",
     "output_type": "stream",
     "text": [
      "URL: https://chat.openai.com/share/43466094-df3c-4ae1-a2cd-775f2ead7c15, Elements with class names: 2\n"
     ]
    },
    {
     "name": "stderr",
     "output_type": "stream",
     "text": [
      "C:\\Users\\dell\\AppData\\Local\\Temp\\ipykernel_14856\\1829702115.py:42: FutureWarning: The frame.append method is deprecated and will be removed from pandas in a future version. Use pandas.concat instead.\n",
      "  results_df = results_df.append({\"URL\": url, \"ElementCount\": element_count}, ignore_index=True)\n"
     ]
    },
    {
     "name": "stdout",
     "output_type": "stream",
     "text": [
      "URL: https://chat.openai.com/share/fbd14b6c-0ba0-473f-9e94-db97c69fc040, Elements with class names: 2\n"
     ]
    },
    {
     "name": "stderr",
     "output_type": "stream",
     "text": [
      "C:\\Users\\dell\\AppData\\Local\\Temp\\ipykernel_14856\\1829702115.py:42: FutureWarning: The frame.append method is deprecated and will be removed from pandas in a future version. Use pandas.concat instead.\n",
      "  results_df = results_df.append({\"URL\": url, \"ElementCount\": element_count}, ignore_index=True)\n"
     ]
    },
    {
     "name": "stdout",
     "output_type": "stream",
     "text": [
      "URL: https://chat.openai.com/share/4320fdb9-3f31-4e45-85be-7acddfa66e00, Elements with class names: 2\n"
     ]
    },
    {
     "name": "stderr",
     "output_type": "stream",
     "text": [
      "C:\\Users\\dell\\AppData\\Local\\Temp\\ipykernel_14856\\1829702115.py:42: FutureWarning: The frame.append method is deprecated and will be removed from pandas in a future version. Use pandas.concat instead.\n",
      "  results_df = results_df.append({\"URL\": url, \"ElementCount\": element_count}, ignore_index=True)\n"
     ]
    },
    {
     "name": "stdout",
     "output_type": "stream",
     "text": [
      "URL: https://chat.openai.com/share/f0e957a3-f4fb-4388-a0ef-829ed26ad42c, Elements with class names: 2\n",
      "Error counting elements on https://chat.openai.com/share/558a8654-a0cb-4202-9097-b10041c2bdb9: Waiting for selector \".font-semibold.select-none\" failed: timeout 30000ms exceeds.\n"
     ]
    },
    {
     "name": "stderr",
     "output_type": "stream",
     "text": [
      "C:\\Users\\dell\\AppData\\Local\\Temp\\ipykernel_14856\\3993373829.py:44: FutureWarning: The frame.append method is deprecated and will be removed from pandas in a future version. Use pandas.concat instead.\n",
      "  results_df = results_df.append({\"URL\": url, \"ElementCount\": element_count}, ignore_index=True)\n"
     ]
    },
    {
     "name": "stdout",
     "output_type": "stream",
     "text": [
      "URL: https://chat.openai.com/share/558a8654-a0cb-4202-9097-b10041c2bdb9, Elements with class names: 0\n"
     ]
    },
    {
     "name": "stderr",
     "output_type": "stream",
     "text": [
      "C:\\Users\\dell\\AppData\\Local\\Temp\\ipykernel_14856\\1829702115.py:42: FutureWarning: The frame.append method is deprecated and will be removed from pandas in a future version. Use pandas.concat instead.\n",
      "  results_df = results_df.append({\"URL\": url, \"ElementCount\": element_count}, ignore_index=True)\n"
     ]
    },
    {
     "name": "stdout",
     "output_type": "stream",
     "text": [
      "URL: https://chat.openai.com/share/d232e00a-438e-4438-b73a-01f706498fb5, Elements with class names: 2\n"
     ]
    },
    {
     "name": "stderr",
     "output_type": "stream",
     "text": [
      "C:\\Users\\dell\\AppData\\Local\\Temp\\ipykernel_14856\\3993373829.py:44: FutureWarning: The frame.append method is deprecated and will be removed from pandas in a future version. Use pandas.concat instead.\n",
      "  results_df = results_df.append({\"URL\": url, \"ElementCount\": element_count}, ignore_index=True)\n"
     ]
    },
    {
     "name": "stdout",
     "output_type": "stream",
     "text": [
      "URL: https://chat.openai.com/share/fd02922f-4ef6-45e4-b5bb-c61f90ca6458, Elements with class names: 2\n"
     ]
    },
    {
     "name": "stderr",
     "output_type": "stream",
     "text": [
      "C:\\Users\\dell\\AppData\\Local\\Temp\\ipykernel_14856\\1829702115.py:42: FutureWarning: The frame.append method is deprecated and will be removed from pandas in a future version. Use pandas.concat instead.\n",
      "  results_df = results_df.append({\"URL\": url, \"ElementCount\": element_count}, ignore_index=True)\n"
     ]
    },
    {
     "name": "stdout",
     "output_type": "stream",
     "text": [
      "URL: https://chat.openai.com/share/d90616ca-f0d3-4271-9ff0-e07197e06cb0, Elements with class names: 2\n"
     ]
    },
    {
     "name": "stderr",
     "output_type": "stream",
     "text": [
      "C:\\Users\\dell\\AppData\\Local\\Temp\\ipykernel_14856\\3993373829.py:44: FutureWarning: The frame.append method is deprecated and will be removed from pandas in a future version. Use pandas.concat instead.\n",
      "  results_df = results_df.append({\"URL\": url, \"ElementCount\": element_count}, ignore_index=True)\n"
     ]
    },
    {
     "name": "stdout",
     "output_type": "stream",
     "text": [
      "URL: https://chat.openai.com/share/d9eec2fb-35d1-4135-ae96-17738c69ee63, Elements with class names: 8\n"
     ]
    },
    {
     "name": "stderr",
     "output_type": "stream",
     "text": [
      "C:\\Users\\dell\\AppData\\Local\\Temp\\ipykernel_14856\\3993373829.py:44: FutureWarning: The frame.append method is deprecated and will be removed from pandas in a future version. Use pandas.concat instead.\n",
      "  results_df = results_df.append({\"URL\": url, \"ElementCount\": element_count}, ignore_index=True)\n"
     ]
    },
    {
     "name": "stdout",
     "output_type": "stream",
     "text": [
      "URL: https://chat.openai.com/share/3c1a2dc4-3a2c-4714-ac0d-06f293ca1eba, Elements with class names: 14\n"
     ]
    },
    {
     "name": "stderr",
     "output_type": "stream",
     "text": [
      "C:\\Users\\dell\\AppData\\Local\\Temp\\ipykernel_14856\\1829702115.py:42: FutureWarning: The frame.append method is deprecated and will be removed from pandas in a future version. Use pandas.concat instead.\n",
      "  results_df = results_df.append({\"URL\": url, \"ElementCount\": element_count}, ignore_index=True)\n"
     ]
    },
    {
     "name": "stdout",
     "output_type": "stream",
     "text": [
      "URL: https://chat.openai.com/share/b43d2c98-46e0-4fd4-b1f6-4720b05a9bc9, Elements with class names: 2\n"
     ]
    },
    {
     "name": "stderr",
     "output_type": "stream",
     "text": [
      "C:\\Users\\dell\\AppData\\Local\\Temp\\ipykernel_14856\\3993373829.py:44: FutureWarning: The frame.append method is deprecated and will be removed from pandas in a future version. Use pandas.concat instead.\n",
      "  results_df = results_df.append({\"URL\": url, \"ElementCount\": element_count}, ignore_index=True)\n"
     ]
    },
    {
     "name": "stdout",
     "output_type": "stream",
     "text": [
      "URL: https://chat.openai.com/share/750e921a-6982-4371-a57e-4af873a620c5, Elements with class names: 8\n"
     ]
    },
    {
     "name": "stderr",
     "output_type": "stream",
     "text": [
      "C:\\Users\\dell\\AppData\\Local\\Temp\\ipykernel_14856\\1829702115.py:42: FutureWarning: The frame.append method is deprecated and will be removed from pandas in a future version. Use pandas.concat instead.\n",
      "  results_df = results_df.append({\"URL\": url, \"ElementCount\": element_count}, ignore_index=True)\n"
     ]
    },
    {
     "name": "stdout",
     "output_type": "stream",
     "text": [
      "URL: https://chat.openai.com/share/9d066417-7519-4b34-ae6d-76aba2c0b26d, Elements with class names: 2\n"
     ]
    },
    {
     "name": "stderr",
     "output_type": "stream",
     "text": [
      "C:\\Users\\dell\\AppData\\Local\\Temp\\ipykernel_14856\\3993373829.py:44: FutureWarning: The frame.append method is deprecated and will be removed from pandas in a future version. Use pandas.concat instead.\n",
      "  results_df = results_df.append({\"URL\": url, \"ElementCount\": element_count}, ignore_index=True)\n"
     ]
    },
    {
     "name": "stdout",
     "output_type": "stream",
     "text": [
      "URL: https://chat.openai.com/share/e7f79405-2e0b-4f90-bd85-1878c132a20a, Elements with class names: 2\n"
     ]
    },
    {
     "name": "stderr",
     "output_type": "stream",
     "text": [
      "C:\\Users\\dell\\AppData\\Local\\Temp\\ipykernel_14856\\1829702115.py:42: FutureWarning: The frame.append method is deprecated and will be removed from pandas in a future version. Use pandas.concat instead.\n",
      "  results_df = results_df.append({\"URL\": url, \"ElementCount\": element_count}, ignore_index=True)\n"
     ]
    },
    {
     "name": "stdout",
     "output_type": "stream",
     "text": [
      "URL: https://chat.openai.com/share/4ba0c013-466e-4bea-ad00-c8ba22dcdde5, Elements with class names: 4\n"
     ]
    },
    {
     "name": "stderr",
     "output_type": "stream",
     "text": [
      "C:\\Users\\dell\\AppData\\Local\\Temp\\ipykernel_14856\\3993373829.py:44: FutureWarning: The frame.append method is deprecated and will be removed from pandas in a future version. Use pandas.concat instead.\n",
      "  results_df = results_df.append({\"URL\": url, \"ElementCount\": element_count}, ignore_index=True)\n"
     ]
    },
    {
     "name": "stdout",
     "output_type": "stream",
     "text": [
      "URL: https://chat.openai.com/share/d6b76d96-4227-4166-8fdd-26a40b16d602, Elements with class names: 2\n"
     ]
    },
    {
     "name": "stderr",
     "output_type": "stream",
     "text": [
      "C:\\Users\\dell\\AppData\\Local\\Temp\\ipykernel_14856\\1829702115.py:42: FutureWarning: The frame.append method is deprecated and will be removed from pandas in a future version. Use pandas.concat instead.\n",
      "  results_df = results_df.append({\"URL\": url, \"ElementCount\": element_count}, ignore_index=True)\n"
     ]
    },
    {
     "name": "stdout",
     "output_type": "stream",
     "text": [
      "URL: https://chat.openai.com/share/0c857ebd-779a-4f40-93a9-c35cd27b9951, Elements with class names: 2\n"
     ]
    },
    {
     "name": "stderr",
     "output_type": "stream",
     "text": [
      "C:\\Users\\dell\\AppData\\Local\\Temp\\ipykernel_14856\\3993373829.py:44: FutureWarning: The frame.append method is deprecated and will be removed from pandas in a future version. Use pandas.concat instead.\n",
      "  results_df = results_df.append({\"URL\": url, \"ElementCount\": element_count}, ignore_index=True)\n"
     ]
    },
    {
     "name": "stdout",
     "output_type": "stream",
     "text": [
      "URL: https://chat.openai.com/share/cc949b43-b791-4ae8-be70-6d3e7d5b658a, Elements with class names: 2\n"
     ]
    },
    {
     "name": "stderr",
     "output_type": "stream",
     "text": [
      "C:\\Users\\dell\\AppData\\Local\\Temp\\ipykernel_14856\\1829702115.py:42: FutureWarning: The frame.append method is deprecated and will be removed from pandas in a future version. Use pandas.concat instead.\n",
      "  results_df = results_df.append({\"URL\": url, \"ElementCount\": element_count}, ignore_index=True)\n"
     ]
    },
    {
     "name": "stdout",
     "output_type": "stream",
     "text": [
      "URL: https://chat.openai.com/share/25e4cef6-321a-43f7-8d13-40d1fd1a81bc, Elements with class names: 18\n"
     ]
    },
    {
     "name": "stderr",
     "output_type": "stream",
     "text": [
      "C:\\Users\\dell\\AppData\\Local\\Temp\\ipykernel_14856\\3993373829.py:44: FutureWarning: The frame.append method is deprecated and will be removed from pandas in a future version. Use pandas.concat instead.\n",
      "  results_df = results_df.append({\"URL\": url, \"ElementCount\": element_count}, ignore_index=True)\n"
     ]
    },
    {
     "name": "stdout",
     "output_type": "stream",
     "text": [
      "URL: https://chat.openai.com/share/ca7b2833-60e0-4db0-9198-47696beb5d18, Elements with class names: 4\n"
     ]
    },
    {
     "name": "stderr",
     "output_type": "stream",
     "text": [
      "C:\\Users\\dell\\AppData\\Local\\Temp\\ipykernel_14856\\3993373829.py:44: FutureWarning: The frame.append method is deprecated and will be removed from pandas in a future version. Use pandas.concat instead.\n",
      "  results_df = results_df.append({\"URL\": url, \"ElementCount\": element_count}, ignore_index=True)\n"
     ]
    },
    {
     "name": "stdout",
     "output_type": "stream",
     "text": [
      "URL: https://chat.openai.com/share/3f347f56-d35f-41b2-bbf5-2d66fcd79475, Elements with class names: 2\n"
     ]
    },
    {
     "name": "stderr",
     "output_type": "stream",
     "text": [
      "C:\\Users\\dell\\AppData\\Local\\Temp\\ipykernel_14856\\3993373829.py:44: FutureWarning: The frame.append method is deprecated and will be removed from pandas in a future version. Use pandas.concat instead.\n",
      "  results_df = results_df.append({\"URL\": url, \"ElementCount\": element_count}, ignore_index=True)\n"
     ]
    },
    {
     "name": "stdout",
     "output_type": "stream",
     "text": [
      "URL: https://chat.openai.com/share/0ead9d73-741d-4d1d-a1ee-d33d02e78fa7, Elements with class names: 6\n"
     ]
    },
    {
     "name": "stderr",
     "output_type": "stream",
     "text": [
      "C:\\Users\\dell\\AppData\\Local\\Temp\\ipykernel_14856\\3993373829.py:44: FutureWarning: The frame.append method is deprecated and will be removed from pandas in a future version. Use pandas.concat instead.\n",
      "  results_df = results_df.append({\"URL\": url, \"ElementCount\": element_count}, ignore_index=True)\n"
     ]
    },
    {
     "name": "stdout",
     "output_type": "stream",
     "text": [
      "URL: https://chat.openai.com/share/7f563fc3-d7bb-4451-a283-9459b034fc80, Elements with class names: 2\n"
     ]
    },
    {
     "name": "stderr",
     "output_type": "stream",
     "text": [
      "C:\\Users\\dell\\AppData\\Local\\Temp\\ipykernel_14856\\3993373829.py:44: FutureWarning: The frame.append method is deprecated and will be removed from pandas in a future version. Use pandas.concat instead.\n",
      "  results_df = results_df.append({\"URL\": url, \"ElementCount\": element_count}, ignore_index=True)\n"
     ]
    },
    {
     "name": "stdout",
     "output_type": "stream",
     "text": [
      "URL: https://chat.openai.com/share/8ecca4a1-a44b-4016-9c8a-14febf30c5d3, Elements with class names: 4\n"
     ]
    },
    {
     "name": "stderr",
     "output_type": "stream",
     "text": [
      "C:\\Users\\dell\\AppData\\Local\\Temp\\ipykernel_14856\\3993373829.py:44: FutureWarning: The frame.append method is deprecated and will be removed from pandas in a future version. Use pandas.concat instead.\n",
      "  results_df = results_df.append({\"URL\": url, \"ElementCount\": element_count}, ignore_index=True)\n"
     ]
    },
    {
     "name": "stdout",
     "output_type": "stream",
     "text": [
      "URL: https://chat.openai.com/share/d8e1b2a0-8413-4635-83e3-8ef3f7b65432, Elements with class names: 50\n",
      "Error counting elements on https://chat.openai.com/share/f28ea616-1f7d-4108-9967-27eadfbe089d: Waiting for selector \".font-semibold.select-none\" failed: timeout 30000ms exceeds.\n"
     ]
    },
    {
     "name": "stderr",
     "output_type": "stream",
     "text": [
      "C:\\Users\\dell\\AppData\\Local\\Temp\\ipykernel_14856\\1829702115.py:42: FutureWarning: The frame.append method is deprecated and will be removed from pandas in a future version. Use pandas.concat instead.\n",
      "  results_df = results_df.append({\"URL\": url, \"ElementCount\": element_count}, ignore_index=True)\n"
     ]
    },
    {
     "name": "stdout",
     "output_type": "stream",
     "text": [
      "URL: https://chat.openai.com/share/f28ea616-1f7d-4108-9967-27eadfbe089d, Elements with class names: 0\n"
     ]
    },
    {
     "name": "stderr",
     "output_type": "stream",
     "text": [
      "C:\\Users\\dell\\AppData\\Local\\Temp\\ipykernel_14856\\3993373829.py:44: FutureWarning: The frame.append method is deprecated and will be removed from pandas in a future version. Use pandas.concat instead.\n",
      "  results_df = results_df.append({\"URL\": url, \"ElementCount\": element_count}, ignore_index=True)\n"
     ]
    },
    {
     "name": "stdout",
     "output_type": "stream",
     "text": [
      "URL: https://chat.openai.com/share/3cacc6b0-e4c9-4854-92d0-dc6ff6ae4645, Elements with class names: 2\n"
     ]
    },
    {
     "name": "stderr",
     "output_type": "stream",
     "text": [
      "C:\\Users\\dell\\AppData\\Local\\Temp\\ipykernel_14856\\1829702115.py:42: FutureWarning: The frame.append method is deprecated and will be removed from pandas in a future version. Use pandas.concat instead.\n",
      "  results_df = results_df.append({\"URL\": url, \"ElementCount\": element_count}, ignore_index=True)\n"
     ]
    },
    {
     "name": "stdout",
     "output_type": "stream",
     "text": [
      "URL: https://chat.openai.com/share/28633f0c-007f-48b6-a615-1581c3ef3041, Elements with class names: 2\n"
     ]
    },
    {
     "name": "stderr",
     "output_type": "stream",
     "text": [
      "C:\\Users\\dell\\AppData\\Local\\Temp\\ipykernel_14856\\3993373829.py:44: FutureWarning: The frame.append method is deprecated and will be removed from pandas in a future version. Use pandas.concat instead.\n",
      "  results_df = results_df.append({\"URL\": url, \"ElementCount\": element_count}, ignore_index=True)\n"
     ]
    },
    {
     "name": "stdout",
     "output_type": "stream",
     "text": [
      "URL: https://chat.openai.com/share/c0e9421e-6af4-4c26-9d6c-56d74556f74c, Elements with class names: 2\n"
     ]
    },
    {
     "name": "stderr",
     "output_type": "stream",
     "text": [
      "C:\\Users\\dell\\AppData\\Local\\Temp\\ipykernel_14856\\1829702115.py:42: FutureWarning: The frame.append method is deprecated and will be removed from pandas in a future version. Use pandas.concat instead.\n",
      "  results_df = results_df.append({\"URL\": url, \"ElementCount\": element_count}, ignore_index=True)\n"
     ]
    },
    {
     "name": "stdout",
     "output_type": "stream",
     "text": [
      "URL: https://chat.openai.com/share/4037c8b3-d1bf-4e66-b98d-b518aa73ab48, Elements with class names: 4\n"
     ]
    },
    {
     "name": "stderr",
     "output_type": "stream",
     "text": [
      "C:\\Users\\dell\\AppData\\Local\\Temp\\ipykernel_14856\\3993373829.py:44: FutureWarning: The frame.append method is deprecated and will be removed from pandas in a future version. Use pandas.concat instead.\n",
      "  results_df = results_df.append({\"URL\": url, \"ElementCount\": element_count}, ignore_index=True)\n"
     ]
    },
    {
     "name": "stdout",
     "output_type": "stream",
     "text": [
      "URL: https://chat.openai.com/share/440a5108-f641-40c2-9870-c93663cf3c75, Elements with class names: 2\n"
     ]
    },
    {
     "name": "stderr",
     "output_type": "stream",
     "text": [
      "C:\\Users\\dell\\AppData\\Local\\Temp\\ipykernel_14856\\1829702115.py:42: FutureWarning: The frame.append method is deprecated and will be removed from pandas in a future version. Use pandas.concat instead.\n",
      "  results_df = results_df.append({\"URL\": url, \"ElementCount\": element_count}, ignore_index=True)\n"
     ]
    },
    {
     "name": "stdout",
     "output_type": "stream",
     "text": [
      "URL: https://chat.openai.com/share/21e750c4-33f0-4ce6-b97b-c7bfbf6f4f34, Elements with class names: 2\n"
     ]
    },
    {
     "name": "stderr",
     "output_type": "stream",
     "text": [
      "C:\\Users\\dell\\AppData\\Local\\Temp\\ipykernel_14856\\3993373829.py:44: FutureWarning: The frame.append method is deprecated and will be removed from pandas in a future version. Use pandas.concat instead.\n",
      "  results_df = results_df.append({\"URL\": url, \"ElementCount\": element_count}, ignore_index=True)\n"
     ]
    },
    {
     "name": "stdout",
     "output_type": "stream",
     "text": [
      "URL: https://chat.openai.com/share/a201e58d-4c21-4eb5-b7ed-7633b8d436f9, Elements with class names: 2\n"
     ]
    },
    {
     "name": "stderr",
     "output_type": "stream",
     "text": [
      "C:\\Users\\dell\\AppData\\Local\\Temp\\ipykernel_14856\\1829702115.py:42: FutureWarning: The frame.append method is deprecated and will be removed from pandas in a future version. Use pandas.concat instead.\n",
      "  results_df = results_df.append({\"URL\": url, \"ElementCount\": element_count}, ignore_index=True)\n"
     ]
    },
    {
     "name": "stdout",
     "output_type": "stream",
     "text": [
      "URL: https://chat.openai.com/share/75122d92-12eb-4627-97a8-8300deaa8fe4, Elements with class names: 2\n"
     ]
    },
    {
     "name": "stderr",
     "output_type": "stream",
     "text": [
      "C:\\Users\\dell\\AppData\\Local\\Temp\\ipykernel_14856\\1829702115.py:42: FutureWarning: The frame.append method is deprecated and will be removed from pandas in a future version. Use pandas.concat instead.\n",
      "  results_df = results_df.append({\"URL\": url, \"ElementCount\": element_count}, ignore_index=True)\n"
     ]
    },
    {
     "name": "stdout",
     "output_type": "stream",
     "text": [
      "URL: https://chat.openai.com/share/f0f6371e-10c6-4708-ba5c-7503ca7e872f, Elements with class names: 2\n"
     ]
    },
    {
     "name": "stderr",
     "output_type": "stream",
     "text": [
      "C:\\Users\\dell\\AppData\\Local\\Temp\\ipykernel_14856\\3993373829.py:44: FutureWarning: The frame.append method is deprecated and will be removed from pandas in a future version. Use pandas.concat instead.\n",
      "  results_df = results_df.append({\"URL\": url, \"ElementCount\": element_count}, ignore_index=True)\n"
     ]
    },
    {
     "name": "stdout",
     "output_type": "stream",
     "text": [
      "URL: https://chat.openai.com/share/56d6fdff-5b47-49fe-a2b7-2a7c6561d8f6, Elements with class names: 2\n"
     ]
    },
    {
     "name": "stderr",
     "output_type": "stream",
     "text": [
      "C:\\Users\\dell\\AppData\\Local\\Temp\\ipykernel_14856\\1829702115.py:42: FutureWarning: The frame.append method is deprecated and will be removed from pandas in a future version. Use pandas.concat instead.\n",
      "  results_df = results_df.append({\"URL\": url, \"ElementCount\": element_count}, ignore_index=True)\n"
     ]
    },
    {
     "name": "stdout",
     "output_type": "stream",
     "text": [
      "URL: https://chat.openai.com/share/7b72b109-fb84-4988-891b-f2eecc4ce582, Elements with class names: 2\n"
     ]
    },
    {
     "name": "stderr",
     "output_type": "stream",
     "text": [
      "C:\\Users\\dell\\AppData\\Local\\Temp\\ipykernel_14856\\3993373829.py:44: FutureWarning: The frame.append method is deprecated and will be removed from pandas in a future version. Use pandas.concat instead.\n",
      "  results_df = results_df.append({\"URL\": url, \"ElementCount\": element_count}, ignore_index=True)\n"
     ]
    },
    {
     "name": "stdout",
     "output_type": "stream",
     "text": [
      "URL: https://chat.openai.com/share/92b4e61f-087c-4b58-afb4-1750b9c703a4, Elements with class names: 4\n"
     ]
    },
    {
     "name": "stderr",
     "output_type": "stream",
     "text": [
      "C:\\Users\\dell\\AppData\\Local\\Temp\\ipykernel_14856\\3993373829.py:44: FutureWarning: The frame.append method is deprecated and will be removed from pandas in a future version. Use pandas.concat instead.\n",
      "  results_df = results_df.append({\"URL\": url, \"ElementCount\": element_count}, ignore_index=True)\n"
     ]
    },
    {
     "name": "stdout",
     "output_type": "stream",
     "text": [
      "URL: https://chat.openai.com/share/0bd99bcb-a395-4175-a7a1-e7491b544747, Elements with class names: 16\n"
     ]
    },
    {
     "name": "stderr",
     "output_type": "stream",
     "text": [
      "C:\\Users\\dell\\AppData\\Local\\Temp\\ipykernel_14856\\1829702115.py:42: FutureWarning: The frame.append method is deprecated and will be removed from pandas in a future version. Use pandas.concat instead.\n",
      "  results_df = results_df.append({\"URL\": url, \"ElementCount\": element_count}, ignore_index=True)\n"
     ]
    },
    {
     "name": "stdout",
     "output_type": "stream",
     "text": [
      "URL: https://chat.openai.com/share/bd6eac38-5bac-4c6f-b405-7ca7d8a9213e, Elements with class names: 10\n"
     ]
    },
    {
     "name": "stderr",
     "output_type": "stream",
     "text": [
      "C:\\Users\\dell\\AppData\\Local\\Temp\\ipykernel_14856\\3993373829.py:44: FutureWarning: The frame.append method is deprecated and will be removed from pandas in a future version. Use pandas.concat instead.\n",
      "  results_df = results_df.append({\"URL\": url, \"ElementCount\": element_count}, ignore_index=True)\n"
     ]
    },
    {
     "name": "stdout",
     "output_type": "stream",
     "text": [
      "URL: https://chat.openai.com/share/932a5b9b-10d6-4414-b5d2-9c77678ddd46, Elements with class names: 2\n"
     ]
    },
    {
     "name": "stderr",
     "output_type": "stream",
     "text": [
      "C:\\Users\\dell\\AppData\\Local\\Temp\\ipykernel_14856\\1829702115.py:42: FutureWarning: The frame.append method is deprecated and will be removed from pandas in a future version. Use pandas.concat instead.\n",
      "  results_df = results_df.append({\"URL\": url, \"ElementCount\": element_count}, ignore_index=True)\n"
     ]
    },
    {
     "name": "stdout",
     "output_type": "stream",
     "text": [
      "URL: https://chat.openai.com/share/80fa7bc0-e099-4577-bad9-d026e7994660, Elements with class names: 10\n"
     ]
    },
    {
     "name": "stderr",
     "output_type": "stream",
     "text": [
      "C:\\Users\\dell\\AppData\\Local\\Temp\\ipykernel_14856\\3993373829.py:44: FutureWarning: The frame.append method is deprecated and will be removed from pandas in a future version. Use pandas.concat instead.\n",
      "  results_df = results_df.append({\"URL\": url, \"ElementCount\": element_count}, ignore_index=True)\n"
     ]
    },
    {
     "name": "stdout",
     "output_type": "stream",
     "text": [
      "URL: https://chat.openai.com/share/f09910cf-7862-429e-8cd9-189f3f99ddc1, Elements with class names: 2\n"
     ]
    },
    {
     "name": "stderr",
     "output_type": "stream",
     "text": [
      "C:\\Users\\dell\\AppData\\Local\\Temp\\ipykernel_14856\\1829702115.py:42: FutureWarning: The frame.append method is deprecated and will be removed from pandas in a future version. Use pandas.concat instead.\n",
      "  results_df = results_df.append({\"URL\": url, \"ElementCount\": element_count}, ignore_index=True)\n"
     ]
    },
    {
     "name": "stdout",
     "output_type": "stream",
     "text": [
      "URL: https://chat.openai.com/share/c26fee93-5d3d-48e2-a820-297974e4b01e, Elements with class names: 4\n"
     ]
    },
    {
     "name": "stderr",
     "output_type": "stream",
     "text": [
      "C:\\Users\\dell\\AppData\\Local\\Temp\\ipykernel_14856\\3993373829.py:44: FutureWarning: The frame.append method is deprecated and will be removed from pandas in a future version. Use pandas.concat instead.\n",
      "  results_df = results_df.append({\"URL\": url, \"ElementCount\": element_count}, ignore_index=True)\n"
     ]
    },
    {
     "name": "stdout",
     "output_type": "stream",
     "text": [
      "URL: https://chat.openai.com/share/9af21110-5e13-40ca-864f-21a44153343d, Elements with class names: 2\n"
     ]
    },
    {
     "name": "stderr",
     "output_type": "stream",
     "text": [
      "C:\\Users\\dell\\AppData\\Local\\Temp\\ipykernel_14856\\1829702115.py:42: FutureWarning: The frame.append method is deprecated and will be removed from pandas in a future version. Use pandas.concat instead.\n",
      "  results_df = results_df.append({\"URL\": url, \"ElementCount\": element_count}, ignore_index=True)\n"
     ]
    },
    {
     "name": "stdout",
     "output_type": "stream",
     "text": [
      "URL: https://chat.openai.com/share/cb3a477b-57bd-46fd-92c9-4a30168cd310, Elements with class names: 6\n"
     ]
    },
    {
     "name": "stderr",
     "output_type": "stream",
     "text": [
      "C:\\Users\\dell\\AppData\\Local\\Temp\\ipykernel_14856\\3993373829.py:44: FutureWarning: The frame.append method is deprecated and will be removed from pandas in a future version. Use pandas.concat instead.\n",
      "  results_df = results_df.append({\"URL\": url, \"ElementCount\": element_count}, ignore_index=True)\n"
     ]
    },
    {
     "name": "stdout",
     "output_type": "stream",
     "text": [
      "URL: https://chat.openai.com/share/01ee8c64-bb40-4936-8dba-26697677dc53, Elements with class names: 2\n"
     ]
    },
    {
     "name": "stderr",
     "output_type": "stream",
     "text": [
      "C:\\Users\\dell\\AppData\\Local\\Temp\\ipykernel_14856\\3993373829.py:44: FutureWarning: The frame.append method is deprecated and will be removed from pandas in a future version. Use pandas.concat instead.\n",
      "  results_df = results_df.append({\"URL\": url, \"ElementCount\": element_count}, ignore_index=True)\n"
     ]
    },
    {
     "name": "stdout",
     "output_type": "stream",
     "text": [
      "URL: https://chat.openai.com/share/90662a41-7bcd-4f17-9af3-3e48a570a8b4, Elements with class names: 4\n"
     ]
    },
    {
     "name": "stderr",
     "output_type": "stream",
     "text": [
      "C:\\Users\\dell\\AppData\\Local\\Temp\\ipykernel_14856\\3993373829.py:44: FutureWarning: The frame.append method is deprecated and will be removed from pandas in a future version. Use pandas.concat instead.\n",
      "  results_df = results_df.append({\"URL\": url, \"ElementCount\": element_count}, ignore_index=True)\n"
     ]
    },
    {
     "name": "stdout",
     "output_type": "stream",
     "text": [
      "URL: https://chat.openai.com/share/a05fee36-09eb-4c94-8004-c3c33f0e89f5, Elements with class names: 2\n"
     ]
    },
    {
     "name": "stderr",
     "output_type": "stream",
     "text": [
      "C:\\Users\\dell\\AppData\\Local\\Temp\\ipykernel_14856\\3993373829.py:44: FutureWarning: The frame.append method is deprecated and will be removed from pandas in a future version. Use pandas.concat instead.\n",
      "  results_df = results_df.append({\"URL\": url, \"ElementCount\": element_count}, ignore_index=True)\n"
     ]
    },
    {
     "name": "stdout",
     "output_type": "stream",
     "text": [
      "URL: https://chat.openai.com/share/4e1cabc4-2443-462b-923c-c4b184521407, Elements with class names: 4\n"
     ]
    },
    {
     "name": "stderr",
     "output_type": "stream",
     "text": [
      "C:\\Users\\dell\\AppData\\Local\\Temp\\ipykernel_14856\\3993373829.py:44: FutureWarning: The frame.append method is deprecated and will be removed from pandas in a future version. Use pandas.concat instead.\n",
      "  results_df = results_df.append({\"URL\": url, \"ElementCount\": element_count}, ignore_index=True)\n"
     ]
    },
    {
     "name": "stdout",
     "output_type": "stream",
     "text": [
      "URL: https://chat.openai.com/share/0d2400f7-3945-4b9b-a39d-4b4f93b2b043, Elements with class names: 2\n"
     ]
    },
    {
     "name": "stderr",
     "output_type": "stream",
     "text": [
      "C:\\Users\\dell\\AppData\\Local\\Temp\\ipykernel_14856\\3993373829.py:44: FutureWarning: The frame.append method is deprecated and will be removed from pandas in a future version. Use pandas.concat instead.\n",
      "  results_df = results_df.append({\"URL\": url, \"ElementCount\": element_count}, ignore_index=True)\n"
     ]
    },
    {
     "name": "stdout",
     "output_type": "stream",
     "text": [
      "URL: https://chat.openai.com/share/5f884af6-ef68-4a40-89f9-093fb3c18cde, Elements with class names: 2\n",
      "Error counting elements on https://chat.openai.com/share/784134ea-6c96-4fb7-bd3a-4f3ffa400aa9: Waiting for selector \".font-semibold.select-none\" failed: timeout 30000ms exceeds.\n"
     ]
    },
    {
     "name": "stderr",
     "output_type": "stream",
     "text": [
      "C:\\Users\\dell\\AppData\\Local\\Temp\\ipykernel_14856\\1829702115.py:42: FutureWarning: The frame.append method is deprecated and will be removed from pandas in a future version. Use pandas.concat instead.\n",
      "  results_df = results_df.append({\"URL\": url, \"ElementCount\": element_count}, ignore_index=True)\n"
     ]
    },
    {
     "name": "stdout",
     "output_type": "stream",
     "text": [
      "URL: https://chat.openai.com/share/784134ea-6c96-4fb7-bd3a-4f3ffa400aa9, Elements with class names: 0\n"
     ]
    },
    {
     "name": "stderr",
     "output_type": "stream",
     "text": [
      "C:\\Users\\dell\\AppData\\Local\\Temp\\ipykernel_14856\\3993373829.py:44: FutureWarning: The frame.append method is deprecated and will be removed from pandas in a future version. Use pandas.concat instead.\n",
      "  results_df = results_df.append({\"URL\": url, \"ElementCount\": element_count}, ignore_index=True)\n"
     ]
    },
    {
     "name": "stdout",
     "output_type": "stream",
     "text": [
      "URL: https://chat.openai.com/share/bb0e173b-4c2c-4889-b0c8-f01d516b88cf, Elements with class names: 2\n"
     ]
    },
    {
     "name": "stderr",
     "output_type": "stream",
     "text": [
      "C:\\Users\\dell\\AppData\\Local\\Temp\\ipykernel_14856\\1829702115.py:42: FutureWarning: The frame.append method is deprecated and will be removed from pandas in a future version. Use pandas.concat instead.\n",
      "  results_df = results_df.append({\"URL\": url, \"ElementCount\": element_count}, ignore_index=True)\n"
     ]
    },
    {
     "name": "stdout",
     "output_type": "stream",
     "text": [
      "URL: https://chat.openai.com/share/8e89a16f-f182-4f62-b9fa-f93cd5641fec, Elements with class names: 2\n"
     ]
    },
    {
     "name": "stderr",
     "output_type": "stream",
     "text": [
      "C:\\Users\\dell\\AppData\\Local\\Temp\\ipykernel_14856\\3993373829.py:44: FutureWarning: The frame.append method is deprecated and will be removed from pandas in a future version. Use pandas.concat instead.\n",
      "  results_df = results_df.append({\"URL\": url, \"ElementCount\": element_count}, ignore_index=True)\n"
     ]
    },
    {
     "name": "stdout",
     "output_type": "stream",
     "text": [
      "URL: https://chat.openai.com/share/6acff982-d67e-4122-a42a-3cc17e964079, Elements with class names: 2\n"
     ]
    },
    {
     "name": "stderr",
     "output_type": "stream",
     "text": [
      "C:\\Users\\dell\\AppData\\Local\\Temp\\ipykernel_14856\\1829702115.py:42: FutureWarning: The frame.append method is deprecated and will be removed from pandas in a future version. Use pandas.concat instead.\n",
      "  results_df = results_df.append({\"URL\": url, \"ElementCount\": element_count}, ignore_index=True)\n"
     ]
    },
    {
     "name": "stdout",
     "output_type": "stream",
     "text": [
      "URL: https://chat.openai.com/share/d1428952-84e6-42be-9e0a-2ce62b132068, Elements with class names: 8\n"
     ]
    },
    {
     "name": "stderr",
     "output_type": "stream",
     "text": [
      "C:\\Users\\dell\\AppData\\Local\\Temp\\ipykernel_14856\\3993373829.py:44: FutureWarning: The frame.append method is deprecated and will be removed from pandas in a future version. Use pandas.concat instead.\n",
      "  results_df = results_df.append({\"URL\": url, \"ElementCount\": element_count}, ignore_index=True)\n"
     ]
    },
    {
     "name": "stdout",
     "output_type": "stream",
     "text": [
      "URL: https://chat.openai.com/share/17eeb93a-1096-4622-a255-c20d60eaa3e1, Elements with class names: 2\n"
     ]
    },
    {
     "name": "stderr",
     "output_type": "stream",
     "text": [
      "C:\\Users\\dell\\AppData\\Local\\Temp\\ipykernel_14856\\1829702115.py:42: FutureWarning: The frame.append method is deprecated and will be removed from pandas in a future version. Use pandas.concat instead.\n",
      "  results_df = results_df.append({\"URL\": url, \"ElementCount\": element_count}, ignore_index=True)\n"
     ]
    },
    {
     "name": "stdout",
     "output_type": "stream",
     "text": [
      "URL: https://chat.openai.com/share/b85a59d9-2678-45c8-8c2e-8b8a80577441, Elements with class names: 4\n"
     ]
    },
    {
     "name": "stderr",
     "output_type": "stream",
     "text": [
      "C:\\Users\\dell\\AppData\\Local\\Temp\\ipykernel_14856\\3993373829.py:44: FutureWarning: The frame.append method is deprecated and will be removed from pandas in a future version. Use pandas.concat instead.\n",
      "  results_df = results_df.append({\"URL\": url, \"ElementCount\": element_count}, ignore_index=True)\n"
     ]
    },
    {
     "name": "stdout",
     "output_type": "stream",
     "text": [
      "URL: https://chat.openai.com/share/8ae7c8c2-651a-46d6-9ab4-44939125ca15, Elements with class names: 4\n"
     ]
    },
    {
     "name": "stderr",
     "output_type": "stream",
     "text": [
      "C:\\Users\\dell\\AppData\\Local\\Temp\\ipykernel_14856\\1829702115.py:42: FutureWarning: The frame.append method is deprecated and will be removed from pandas in a future version. Use pandas.concat instead.\n",
      "  results_df = results_df.append({\"URL\": url, \"ElementCount\": element_count}, ignore_index=True)\n"
     ]
    },
    {
     "name": "stdout",
     "output_type": "stream",
     "text": [
      "URL: https://chat.openai.com/share/88b0358e-c96d-4880-b939-7c62cf8b6127, Elements with class names: 4\n"
     ]
    },
    {
     "name": "stderr",
     "output_type": "stream",
     "text": [
      "C:\\Users\\dell\\AppData\\Local\\Temp\\ipykernel_14856\\3993373829.py:44: FutureWarning: The frame.append method is deprecated and will be removed from pandas in a future version. Use pandas.concat instead.\n",
      "  results_df = results_df.append({\"URL\": url, \"ElementCount\": element_count}, ignore_index=True)\n"
     ]
    },
    {
     "name": "stdout",
     "output_type": "stream",
     "text": [
      "URL: https://chat.openai.com/share/94e1cf09-183a-41c1-ade4-7759639d9f54, Elements with class names: 2\n"
     ]
    },
    {
     "name": "stderr",
     "output_type": "stream",
     "text": [
      "C:\\Users\\dell\\AppData\\Local\\Temp\\ipykernel_14856\\1829702115.py:42: FutureWarning: The frame.append method is deprecated and will be removed from pandas in a future version. Use pandas.concat instead.\n",
      "  results_df = results_df.append({\"URL\": url, \"ElementCount\": element_count}, ignore_index=True)\n"
     ]
    },
    {
     "name": "stdout",
     "output_type": "stream",
     "text": [
      "URL: https://chat.openai.com/share/50fd27af-7515-4f89-b0e1-22850130306c, Elements with class names: 2\n"
     ]
    },
    {
     "name": "stderr",
     "output_type": "stream",
     "text": [
      "C:\\Users\\dell\\AppData\\Local\\Temp\\ipykernel_14856\\3993373829.py:44: FutureWarning: The frame.append method is deprecated and will be removed from pandas in a future version. Use pandas.concat instead.\n",
      "  results_df = results_df.append({\"URL\": url, \"ElementCount\": element_count}, ignore_index=True)\n"
     ]
    },
    {
     "name": "stdout",
     "output_type": "stream",
     "text": [
      "URL: https://chat.openai.com/share/141480e4-3e79-4dff-a2f0-72fda8685c3b, Elements with class names: 2\n"
     ]
    },
    {
     "name": "stderr",
     "output_type": "stream",
     "text": [
      "C:\\Users\\dell\\AppData\\Local\\Temp\\ipykernel_14856\\1829702115.py:42: FutureWarning: The frame.append method is deprecated and will be removed from pandas in a future version. Use pandas.concat instead.\n",
      "  results_df = results_df.append({\"URL\": url, \"ElementCount\": element_count}, ignore_index=True)\n"
     ]
    },
    {
     "name": "stdout",
     "output_type": "stream",
     "text": [
      "URL: https://chat.openai.com/share/3b8faf2e-4eca-4d52-97fb-ac89a4923955, Elements with class names: 2\n"
     ]
    },
    {
     "name": "stderr",
     "output_type": "stream",
     "text": [
      "C:\\Users\\dell\\AppData\\Local\\Temp\\ipykernel_14856\\3993373829.py:44: FutureWarning: The frame.append method is deprecated and will be removed from pandas in a future version. Use pandas.concat instead.\n",
      "  results_df = results_df.append({\"URL\": url, \"ElementCount\": element_count}, ignore_index=True)\n"
     ]
    },
    {
     "name": "stdout",
     "output_type": "stream",
     "text": [
      "URL: https://chat.openai.com/share/65d3e63b-7618-4522-a436-e88964f4d293, Elements with class names: 40\n"
     ]
    },
    {
     "name": "stderr",
     "output_type": "stream",
     "text": [
      "C:\\Users\\dell\\AppData\\Local\\Temp\\ipykernel_14856\\1829702115.py:42: FutureWarning: The frame.append method is deprecated and will be removed from pandas in a future version. Use pandas.concat instead.\n",
      "  results_df = results_df.append({\"URL\": url, \"ElementCount\": element_count}, ignore_index=True)\n"
     ]
    },
    {
     "name": "stdout",
     "output_type": "stream",
     "text": [
      "URL: https://chat.openai.com/share/0776231c-7369-4ff3-af32-bb9abc06aea5, Elements with class names: 6\n"
     ]
    },
    {
     "name": "stderr",
     "output_type": "stream",
     "text": [
      "C:\\Users\\dell\\AppData\\Local\\Temp\\ipykernel_14856\\3993373829.py:44: FutureWarning: The frame.append method is deprecated and will be removed from pandas in a future version. Use pandas.concat instead.\n",
      "  results_df = results_df.append({\"URL\": url, \"ElementCount\": element_count}, ignore_index=True)\n"
     ]
    },
    {
     "name": "stdout",
     "output_type": "stream",
     "text": [
      "URL: https://chat.openai.com/share/3515f114-9487-45e2-af46-4eeb1c1a0b87, Elements with class names: 2\n"
     ]
    },
    {
     "name": "stderr",
     "output_type": "stream",
     "text": [
      "C:\\Users\\dell\\AppData\\Local\\Temp\\ipykernel_14856\\1829702115.py:42: FutureWarning: The frame.append method is deprecated and will be removed from pandas in a future version. Use pandas.concat instead.\n",
      "  results_df = results_df.append({\"URL\": url, \"ElementCount\": element_count}, ignore_index=True)\n"
     ]
    },
    {
     "name": "stdout",
     "output_type": "stream",
     "text": [
      "URL: https://chat.openai.com/share/0776231c-7369-4ff3-af32-bb9abc06aea5, Elements with class names: 6\n"
     ]
    },
    {
     "name": "stderr",
     "output_type": "stream",
     "text": [
      "C:\\Users\\dell\\AppData\\Local\\Temp\\ipykernel_14856\\3993373829.py:44: FutureWarning: The frame.append method is deprecated and will be removed from pandas in a future version. Use pandas.concat instead.\n",
      "  results_df = results_df.append({\"URL\": url, \"ElementCount\": element_count}, ignore_index=True)\n"
     ]
    },
    {
     "name": "stdout",
     "output_type": "stream",
     "text": [
      "URL: https://chat.openai.com/share/3abf955f-69db-4614-9f30-192af04f7e41, Elements with class names: 2\n"
     ]
    },
    {
     "name": "stderr",
     "output_type": "stream",
     "text": [
      "C:\\Users\\dell\\AppData\\Local\\Temp\\ipykernel_14856\\1829702115.py:42: FutureWarning: The frame.append method is deprecated and will be removed from pandas in a future version. Use pandas.concat instead.\n",
      "  results_df = results_df.append({\"URL\": url, \"ElementCount\": element_count}, ignore_index=True)\n"
     ]
    },
    {
     "name": "stdout",
     "output_type": "stream",
     "text": [
      "URL: https://chat.openai.com/share/eecc2b70-1089-4e9b-87e2-fcbb15b3378c, Elements with class names: 90\n"
     ]
    },
    {
     "name": "stderr",
     "output_type": "stream",
     "text": [
      "C:\\Users\\dell\\AppData\\Local\\Temp\\ipykernel_14856\\3993373829.py:44: FutureWarning: The frame.append method is deprecated and will be removed from pandas in a future version. Use pandas.concat instead.\n",
      "  results_df = results_df.append({\"URL\": url, \"ElementCount\": element_count}, ignore_index=True)\n"
     ]
    },
    {
     "name": "stdout",
     "output_type": "stream",
     "text": [
      "URL: https://chat.openai.com/share/e1c11ece-e2ff-46b6-b401-1c3640e2520b, Elements with class names: 2\n"
     ]
    },
    {
     "name": "stderr",
     "output_type": "stream",
     "text": [
      "C:\\Users\\dell\\AppData\\Local\\Temp\\ipykernel_14856\\3993373829.py:44: FutureWarning: The frame.append method is deprecated and will be removed from pandas in a future version. Use pandas.concat instead.\n",
      "  results_df = results_df.append({\"URL\": url, \"ElementCount\": element_count}, ignore_index=True)\n"
     ]
    },
    {
     "name": "stdout",
     "output_type": "stream",
     "text": [
      "URL: https://chat.openai.com/share/e1c11ece-e2ff-46b6-b401-1c3640e2520b, Elements with class names: 2\n"
     ]
    },
    {
     "name": "stderr",
     "output_type": "stream",
     "text": [
      "C:\\Users\\dell\\AppData\\Local\\Temp\\ipykernel_14856\\1829702115.py:42: FutureWarning: The frame.append method is deprecated and will be removed from pandas in a future version. Use pandas.concat instead.\n",
      "  results_df = results_df.append({\"URL\": url, \"ElementCount\": element_count}, ignore_index=True)\n"
     ]
    },
    {
     "name": "stdout",
     "output_type": "stream",
     "text": [
      "URL: https://chat.openai.com/share/f5341665-7f08-4fca-9639-04201363506e, Elements with class names: 128\n"
     ]
    },
    {
     "name": "stderr",
     "output_type": "stream",
     "text": [
      "C:\\Users\\dell\\AppData\\Local\\Temp\\ipykernel_14856\\3993373829.py:44: FutureWarning: The frame.append method is deprecated and will be removed from pandas in a future version. Use pandas.concat instead.\n",
      "  results_df = results_df.append({\"URL\": url, \"ElementCount\": element_count}, ignore_index=True)\n"
     ]
    },
    {
     "name": "stdout",
     "output_type": "stream",
     "text": [
      "URL: https://chat.openai.com/share/b79affb0-06e4-431d-a3ab-094504a96468, Elements with class names: 2\n"
     ]
    },
    {
     "name": "stderr",
     "output_type": "stream",
     "text": [
      "C:\\Users\\dell\\AppData\\Local\\Temp\\ipykernel_14856\\1829702115.py:42: FutureWarning: The frame.append method is deprecated and will be removed from pandas in a future version. Use pandas.concat instead.\n",
      "  results_df = results_df.append({\"URL\": url, \"ElementCount\": element_count}, ignore_index=True)\n"
     ]
    },
    {
     "name": "stdout",
     "output_type": "stream",
     "text": [
      "URL: https://chat.openai.com/share/4435152f-ba13-45a5-a116-eb4f57b27ab2, Elements with class names: 2\n"
     ]
    }
   ],
   "source": [
    "import asyncio\n",
    "import pandas as pd\n",
    "from pyppeteer import launch\n",
    "\n",
    "async def count_mentions(url, class_names):\n",
    "    browser = await launch({'headless': False}) \n",
    "    page = await browser.newPage()\n",
    "\n",
    "    try:\n",
    "        await page.goto(url, waitUntil='domcontentloaded')\n",
    "        \n",
    "        try:\n",
    "            await page.waitForSelector(class_names)\n",
    "            count = await page.evaluate(f'document.querySelectorAll(\"{class_names}\").length')\n",
    "        except Exception as e:\n",
    "            print(f\"Error counting elements on {url}: {str(e)}\")\n",
    "            count = 0\n",
    "        \n",
    "        return count\n",
    "    finally:\n",
    "        await browser.close()\n",
    "\n",
    "async def main():\n",
    "    df = pd.read_csv(\"ChatGPT_Link_Sharing.csv\")\n",
    "    class_names_to_find = '.font-semibold.select-none'\n",
    "    results_df = pd.DataFrame(columns=[\"URL\", \"ElementCount\"])\n",
    "    for index, row in df.iterrows():\n",
    "        url = row[\"URL\"]\n",
    "        try:\n",
    "            element_count = await count_mentions(url, class_names_to_find)\n",
    "            results_df = results_df.append({\"URL\": url, \"ElementCount\": element_count}, ignore_index=True)\n",
    "            print(f\"URL: {url}, Elements with class names: {element_count}\")\n",
    "        except Exception as e:\n",
    "            print(f\"Error processing {url}: {str(e)}\")\n",
    "    results_df.to_csv(\"results.csv\", index=False)\n",
    "\n",
    "if asyncio.get_event_loop().is_running():\n",
    "    asyncio.run_coroutine_threadsafe(main(), asyncio.get_event_loop())\n",
    "else:\n",
    "    asyncio.get_event_loop().run_until_complete(main())\n"
   ]
  },
  {
   "cell_type": "code",
   "execution_count": 8,
   "id": "bd4d7f9e",
   "metadata": {},
   "outputs": [
    {
     "name": "stdout",
     "output_type": "stream",
     "text": [
      "Collecting selenium\n",
      "  Obtaining dependency information for selenium from https://files.pythonhosted.org/packages/0e/59/aae37fa93e2d4292c3148efcc3066c8ecfe5cfaa72bf8c0b1a5614622cf7/selenium-4.15.2-py3-none-any.whl.metadata\n",
      "  Downloading selenium-4.15.2-py3-none-any.whl.metadata (6.9 kB)\n",
      "Requirement already satisfied: urllib3[socks]<3,>=1.26 in d:\\new folder\\lib\\site-packages (from selenium) (1.26.16)\n",
      "Collecting trio~=0.17 (from selenium)\n",
      "  Obtaining dependency information for trio~=0.17 from https://files.pythonhosted.org/packages/39/46/620fbe56f41fa3ccdda2136d947fb9bacce3d1eb163f057f0262a0ddf5e0/trio-0.23.1-py3-none-any.whl.metadata\n",
      "  Downloading trio-0.23.1-py3-none-any.whl.metadata (4.9 kB)\n",
      "Collecting trio-websocket~=0.9 (from selenium)\n",
      "  Obtaining dependency information for trio-websocket~=0.9 from https://files.pythonhosted.org/packages/48/be/a9ae5f50cad5b6f85bd2574c2c923730098530096e170c1ce7452394d7aa/trio_websocket-0.11.1-py3-none-any.whl.metadata\n",
      "  Downloading trio_websocket-0.11.1-py3-none-any.whl.metadata (4.7 kB)\n",
      "Requirement already satisfied: certifi>=2021.10.8 in d:\\new folder\\lib\\site-packages (from selenium) (2023.7.22)\n",
      "Requirement already satisfied: attrs>=20.1.0 in d:\\new folder\\lib\\site-packages (from trio~=0.17->selenium) (22.1.0)\n",
      "Requirement already satisfied: sortedcontainers in d:\\new folder\\lib\\site-packages (from trio~=0.17->selenium) (2.4.0)\n",
      "Requirement already satisfied: idna in d:\\new folder\\lib\\site-packages (from trio~=0.17->selenium) (3.4)\n",
      "Collecting outcome (from trio~=0.17->selenium)\n",
      "  Obtaining dependency information for outcome from https://files.pythonhosted.org/packages/55/8b/5ab7257531a5d830fc8000c476e63c935488d74609b50f9384a643ec0a62/outcome-1.3.0.post0-py2.py3-none-any.whl.metadata\n",
      "  Downloading outcome-1.3.0.post0-py2.py3-none-any.whl.metadata (2.6 kB)\n",
      "Collecting sniffio>=1.3.0 (from trio~=0.17->selenium)\n",
      "  Using cached sniffio-1.3.0-py3-none-any.whl (10 kB)\n",
      "Requirement already satisfied: cffi>=1.14 in d:\\new folder\\lib\\site-packages (from trio~=0.17->selenium) (1.15.1)\n",
      "Collecting wsproto>=0.14 (from trio-websocket~=0.9->selenium)\n",
      "  Downloading wsproto-1.2.0-py3-none-any.whl (24 kB)\n",
      "Requirement already satisfied: PySocks!=1.5.7,<2.0,>=1.5.6 in d:\\new folder\\lib\\site-packages (from urllib3[socks]<3,>=1.26->selenium) (1.7.1)\n",
      "Requirement already satisfied: pycparser in d:\\new folder\\lib\\site-packages (from cffi>=1.14->trio~=0.17->selenium) (2.21)\n",
      "Requirement already satisfied: h11<1,>=0.9.0 in d:\\new folder\\lib\\site-packages (from wsproto>=0.14->trio-websocket~=0.9->selenium) (0.14.0)\n",
      "Downloading selenium-4.15.2-py3-none-any.whl (10.2 MB)\n",
      "   ---------------------------------------- 0.0/10.2 MB ? eta -:--:--\n",
      "   ---------------------------------------- 0.0/10.2 MB 1.3 MB/s eta 0:00:08\n",
      "   ---------------------------------------- 0.0/10.2 MB 653.6 kB/s eta 0:00:16\n",
      "   ---------------------------------------- 0.0/10.2 MB 653.6 kB/s eta 0:00:16\n",
      "   ---------------------------------------- 0.0/10.2 MB 653.6 kB/s eta 0:00:16\n",
      "   ---------------------------------------- 0.0/10.2 MB 653.6 kB/s eta 0:00:16\n",
      "   ---------------------------------------- 0.1/10.2 MB 192.5 kB/s eta 0:00:53\n",
      "   ---------------------------------------- 0.1/10.2 MB 312.2 kB/s eta 0:00:33\n",
      "   ---------------------------------------- 0.1/10.2 MB 312.2 kB/s eta 0:00:33\n",
      "   ---------------------------------------- 0.1/10.2 MB 312.2 kB/s eta 0:00:33\n",
      "   ---------------------------------------- 0.1/10.2 MB 240.2 kB/s eta 0:00:42\n",
      "   ---------------------------------------- 0.1/10.2 MB 240.2 kB/s eta 0:00:42\n",
      "   ---------------------------------------- 0.1/10.2 MB 240.2 kB/s eta 0:00:42\n",
      "   ---------------------------------------- 0.1/10.2 MB 240.2 kB/s eta 0:00:42\n",
      "   ---------------------------------------- 0.1/10.2 MB 240.2 kB/s eta 0:00:42\n",
      "    --------------------------------------- 0.1/10.2 MB 198.1 kB/s eta 0:00:51\n",
      "    --------------------------------------- 0.1/10.2 MB 198.1 kB/s eta 0:00:51\n",
      "    --------------------------------------- 0.1/10.2 MB 198.1 kB/s eta 0:00:51\n",
      "    --------------------------------------- 0.2/10.2 MB 230.5 kB/s eta 0:00:44\n",
      "   - -------------------------------------- 0.3/10.2 MB 309.6 kB/s eta 0:00:32\n",
      "   - -------------------------------------- 0.3/10.2 MB 309.6 kB/s eta 0:00:32\n",
      "   - -------------------------------------- 0.3/10.2 MB 309.6 kB/s eta 0:00:32\n",
      "   - -------------------------------------- 0.3/10.2 MB 280.7 kB/s eta 0:00:36\n",
      "   - -------------------------------------- 0.3/10.2 MB 279.4 kB/s eta 0:00:36\n",
      "   - -------------------------------------- 0.3/10.2 MB 279.4 kB/s eta 0:00:36\n",
      "   - -------------------------------------- 0.3/10.2 MB 269.2 kB/s eta 0:00:37\n",
      "   - -------------------------------------- 0.3/10.2 MB 269.2 kB/s eta 0:00:37\n",
      "   - -------------------------------------- 0.4/10.2 MB 323.4 kB/s eta 0:00:31\n",
      "   - -------------------------------------- 0.4/10.2 MB 323.4 kB/s eta 0:00:31\n",
      "   - -------------------------------------- 0.5/10.2 MB 358.8 kB/s eta 0:00:28\n",
      "   - -------------------------------------- 0.5/10.2 MB 362.4 kB/s eta 0:00:27\n",
      "   -- ------------------------------------- 0.6/10.2 MB 415.1 kB/s eta 0:00:24\n",
      "   -- ------------------------------------- 0.6/10.2 MB 415.1 kB/s eta 0:00:24\n",
      "   -- ------------------------------------- 0.6/10.2 MB 415.1 kB/s eta 0:00:24\n",
      "   -- ------------------------------------- 0.6/10.2 MB 402.8 kB/s eta 0:00:24\n",
      "   -- ------------------------------------- 0.6/10.2 MB 385.4 kB/s eta 0:00:25\n",
      "   -- ------------------------------------- 0.6/10.2 MB 385.4 kB/s eta 0:00:25\n",
      "   -- ------------------------------------- 0.7/10.2 MB 375.3 kB/s eta 0:00:26\n",
      "   -- ------------------------------------- 0.8/10.2 MB 419.7 kB/s eta 0:00:23\n",
      "   --- ------------------------------------ 0.9/10.2 MB 468.8 kB/s eta 0:00:20\n",
      "   --- ------------------------------------ 0.9/10.2 MB 487.4 kB/s eta 0:00:20\n",
      "   --- ------------------------------------ 0.9/10.2 MB 478.2 kB/s eta 0:00:20\n",
      "   --- ------------------------------------ 0.9/10.2 MB 480.8 kB/s eta 0:00:20\n",
      "   --- ------------------------------------ 0.9/10.2 MB 480.8 kB/s eta 0:00:20\n",
      "   --- ------------------------------------ 0.9/10.2 MB 480.8 kB/s eta 0:00:20\n",
      "   --- ------------------------------------ 1.0/10.2 MB 456.7 kB/s eta 0:00:21\n",
      "   --- ------------------------------------ 1.0/10.2 MB 456.7 kB/s eta 0:00:21\n",
      "   --- ------------------------------------ 1.0/10.2 MB 449.6 kB/s eta 0:00:21\n",
      "   ---- ----------------------------------- 1.1/10.2 MB 507.6 kB/s eta 0:00:18\n",
      "   ---- ----------------------------------- 1.2/10.2 MB 542.3 kB/s eta 0:00:17\n",
      "   ---- ----------------------------------- 1.2/10.2 MB 546.8 kB/s eta 0:00:17\n",
      "   ---- ----------------------------------- 1.2/10.2 MB 546.8 kB/s eta 0:00:17\n",
      "   ---- ----------------------------------- 1.3/10.2 MB 523.5 kB/s eta 0:00:18\n",
      "   ---- ----------------------------------- 1.3/10.2 MB 523.5 kB/s eta 0:00:18\n",
      "   ----- ---------------------------------- 1.3/10.2 MB 507.9 kB/s eta 0:00:18\n",
      "   ----- ---------------------------------- 1.3/10.2 MB 507.9 kB/s eta 0:00:18\n",
      "   ----- ---------------------------------- 1.3/10.2 MB 507.9 kB/s eta 0:00:18\n",
      "   ----- ---------------------------------- 1.3/10.2 MB 494.3 kB/s eta 0:00:18\n",
      "   ----- ---------------------------------- 1.3/10.2 MB 494.3 kB/s eta 0:00:18\n",
      "   ----- ---------------------------------- 1.3/10.2 MB 481.1 kB/s eta 0:00:19\n",
      "   ----- ---------------------------------- 1.5/10.2 MB 535.1 kB/s eta 0:00:17\n",
      "   ------ --------------------------------- 1.6/10.2 MB 561.7 kB/s eta 0:00:16\n",
      "   ------ --------------------------------- 1.6/10.2 MB 561.7 kB/s eta 0:00:16\n",
      "   ------ --------------------------------- 1.6/10.2 MB 550.7 kB/s eta 0:00:16\n",
      "   ------ --------------------------------- 1.6/10.2 MB 551.4 kB/s eta 0:00:16\n",
      "   ------ --------------------------------- 1.6/10.2 MB 551.4 kB/s eta 0:00:16\n",
      "   ------ --------------------------------- 1.7/10.2 MB 543.9 kB/s eta 0:00:16\n",
      "   ------ --------------------------------- 1.7/10.2 MB 539.5 kB/s eta 0:00:16\n",
      "   ------ --------------------------------- 1.7/10.2 MB 547.2 kB/s eta 0:00:16\n",
      "   ------ --------------------------------- 1.7/10.2 MB 545.1 kB/s eta 0:00:16\n",
      "   ------- -------------------------------- 1.8/10.2 MB 559.9 kB/s eta 0:00:15\n",
      "   ------- -------------------------------- 1.9/10.2 MB 583.2 kB/s eta 0:00:15\n",
      "   ------- -------------------------------- 2.0/10.2 MB 602.5 kB/s eta 0:00:14\n",
      "   ------- -------------------------------- 2.0/10.2 MB 602.5 kB/s eta 0:00:14\n",
      "   ------- -------------------------------- 2.0/10.2 MB 602.5 kB/s eta 0:00:14\n",
      "   ------- -------------------------------- 2.0/10.2 MB 602.5 kB/s eta 0:00:14\n",
      "   ------- -------------------------------- 2.0/10.2 MB 581.2 kB/s eta 0:00:15\n",
      "   ------- -------------------------------- 2.0/10.2 MB 581.2 kB/s eta 0:00:15\n",
      "   ------- -------------------------------- 2.0/10.2 MB 568.7 kB/s eta 0:00:15\n",
      "   -------- ------------------------------- 2.0/10.2 MB 564.5 kB/s eta 0:00:15\n",
      "   -------- ------------------------------- 2.1/10.2 MB 560.2 kB/s eta 0:00:15\n",
      "   -------- ------------------------------- 2.1/10.2 MB 560.2 kB/s eta 0:00:15\n",
      "   -------- ------------------------------- 2.1/10.2 MB 551.6 kB/s eta 0:00:15\n",
      "   -------- ------------------------------- 2.1/10.2 MB 558.3 kB/s eta 0:00:15\n",
      "   --------- ------------------------------ 2.4/10.2 MB 610.4 kB/s eta 0:00:13\n",
      "   --------- ------------------------------ 2.4/10.2 MB 610.4 kB/s eta 0:00:13\n",
      "   --------- ------------------------------ 2.4/10.2 MB 603.3 kB/s eta 0:00:13\n",
      "   --------- ------------------------------ 2.4/10.2 MB 601.3 kB/s eta 0:00:13\n",
      "   --------- ------------------------------ 2.4/10.2 MB 597.3 kB/s eta 0:00:13\n",
      "   --------- ------------------------------ 2.4/10.2 MB 597.3 kB/s eta 0:00:13\n",
      "   --------- ------------------------------ 2.4/10.2 MB 597.3 kB/s eta 0:00:13\n",
      "   --------- ------------------------------ 2.4/10.2 MB 597.3 kB/s eta 0:00:13\n",
      "   --------- ------------------------------ 2.5/10.2 MB 575.8 kB/s eta 0:00:14\n",
      "   --------- ------------------------------ 2.5/10.2 MB 569.8 kB/s eta 0:00:14\n",
      "   --------- ------------------------------ 2.5/10.2 MB 575.8 kB/s eta 0:00:14\n",
      "   ---------- ----------------------------- 2.6/10.2 MB 595.1 kB/s eta 0:00:13\n",
      "   ---------- ----------------------------- 2.8/10.2 MB 618.6 kB/s eta 0:00:12\n",
      "   ----------- ---------------------------- 2.8/10.2 MB 625.8 kB/s eta 0:00:12\n",
      "   ----------- ---------------------------- 2.8/10.2 MB 625.8 kB/s eta 0:00:12\n",
      "   ----------- ---------------------------- 2.8/10.2 MB 625.8 kB/s eta 0:00:12\n",
      "   ----------- ---------------------------- 2.9/10.2 MB 615.5 kB/s eta 0:00:12\n",
      "   ----------- ---------------------------- 2.9/10.2 MB 615.5 kB/s eta 0:00:12\n",
      "   ----------- ---------------------------- 2.9/10.2 MB 605.4 kB/s eta 0:00:13\n",
      "   ----------- ---------------------------- 2.9/10.2 MB 610.1 kB/s eta 0:00:12\n",
      "   ------------ --------------------------- 3.1/10.2 MB 640.4 kB/s eta 0:00:12\n",
      "   ------------ --------------------------- 3.2/10.2 MB 651.1 kB/s eta 0:00:11\n",
      "   ------------ --------------------------- 3.2/10.2 MB 651.1 kB/s eta 0:00:11\n",
      "   ------------ --------------------------- 3.2/10.2 MB 647.0 kB/s eta 0:00:11\n",
      "   ------------ --------------------------- 3.2/10.2 MB 647.0 kB/s eta 0:00:11\n",
      "   ------------ --------------------------- 3.2/10.2 MB 639.1 kB/s eta 0:00:11\n",
      "   ------------ --------------------------- 3.3/10.2 MB 639.4 kB/s eta 0:00:11\n",
      "   ------------- -------------------------- 3.5/10.2 MB 677.0 kB/s eta 0:00:10\n",
      "   -------------- ------------------------- 3.6/10.2 MB 688.5 kB/s eta 0:00:10\n",
      "   -------------- ------------------------- 3.6/10.2 MB 688.5 kB/s eta 0:00:10\n",
      "   -------------- ------------------------- 3.6/10.2 MB 680.2 kB/s eta 0:00:10\n",
      "   -------------- ------------------------- 3.6/10.2 MB 680.2 kB/s eta 0:00:10\n",
      "   -------------- ------------------------- 3.7/10.2 MB 678.0 kB/s eta 0:00:10\n",
      "   -------------- ------------------------- 3.7/10.2 MB 666.5 kB/s eta 0:00:10\n",
      "   -------------- ------------------------- 3.7/10.2 MB 668.3 kB/s eta 0:00:10\n",
      "   -------------- ------------------------- 3.7/10.2 MB 668.3 kB/s eta 0:00:10\n",
      "   -------------- ------------------------- 3.8/10.2 MB 662.5 kB/s eta 0:00:10\n",
      "   --------------- ------------------------ 3.8/10.2 MB 666.1 kB/s eta 0:00:10\n",
      "   --------------- ------------------------ 3.9/10.2 MB 669.6 kB/s eta 0:00:10\n",
      "   --------------- ------------------------ 3.9/10.2 MB 669.6 kB/s eta 0:00:10\n",
      "   --------------- ------------------------ 3.9/10.2 MB 669.6 kB/s eta 0:00:10\n",
      "   --------------- ------------------------ 3.9/10.2 MB 669.6 kB/s eta 0:00:10\n",
      "   --------------- ------------------------ 3.9/10.2 MB 669.6 kB/s eta 0:00:10\n",
      "   --------------- ------------------------ 3.9/10.2 MB 669.6 kB/s eta 0:00:10\n",
      "   --------------- ------------------------ 3.9/10.2 MB 669.6 kB/s eta 0:00:10\n",
      "   --------------- ------------------------ 3.9/10.2 MB 669.6 kB/s eta 0:00:10\n",
      "   ---------------- ----------------------- 4.3/10.2 MB 696.8 kB/s eta 0:00:09\n",
      "   ---------------- ----------------------- 4.3/10.2 MB 696.7 kB/s eta 0:00:09\n",
      "   ----------------- ---------------------- 4.3/10.2 MB 691.3 kB/s eta 0:00:09\n",
      "   ----------------- ---------------------- 4.4/10.2 MB 699.1 kB/s eta 0:00:09\n",
      "   ----------------- ---------------------- 4.5/10.2 MB 703.6 kB/s eta 0:00:09\n",
      "   ----------------- ---------------------- 4.6/10.2 MB 713.0 kB/s eta 0:00:08\n",
      "   ------------------ --------------------- 4.6/10.2 MB 718.9 kB/s eta 0:00:08\n",
      "   ------------------ --------------------- 4.6/10.2 MB 718.9 kB/s eta 0:00:08\n",
      "   ------------------ --------------------- 4.6/10.2 MB 710.3 kB/s eta 0:00:08\n",
      "   ------------------ --------------------- 4.6/10.2 MB 710.3 kB/s eta 0:00:08\n",
      "   ------------------ --------------------- 4.7/10.2 MB 703.1 kB/s eta 0:00:08\n",
      "   ------------------ --------------------- 4.7/10.2 MB 701.2 kB/s eta 0:00:08\n",
      "   ------------------ --------------------- 4.8/10.2 MB 705.5 kB/s eta 0:00:08\n",
      "   ------------------- -------------------- 4.8/10.2 MB 712.8 kB/s eta 0:00:08\n",
      "   ------------------- -------------------- 5.0/10.2 MB 726.0 kB/s eta 0:00:08\n",
      "   ------------------- -------------------- 5.0/10.2 MB 725.5 kB/s eta 0:00:08\n",
      "   ------------------- -------------------- 5.0/10.2 MB 721.7 kB/s eta 0:00:08\n",
      "   ------------------- -------------------- 5.0/10.2 MB 721.7 kB/s eta 0:00:08\n",
      "   ------------------- -------------------- 5.0/10.2 MB 715.1 kB/s eta 0:00:08\n",
      "   ------------------- -------------------- 5.0/10.2 MB 715.1 kB/s eta 0:00:08\n",
      "   ------------------- -------------------- 5.0/10.2 MB 715.1 kB/s eta 0:00:08\n",
      "   ------------------- -------------------- 5.1/10.2 MB 706.9 kB/s eta 0:00:08\n",
      "   ------------------- -------------------- 5.1/10.2 MB 703.8 kB/s eta 0:00:08\n",
      "   -------------------- ------------------- 5.1/10.2 MB 702.0 kB/s eta 0:00:08\n",
      "   -------------------- ------------------- 5.1/10.2 MB 702.0 kB/s eta 0:00:08\n",
      "   -------------------- ------------------- 5.1/10.2 MB 702.0 kB/s eta 0:00:08\n",
      "   -------------------- ------------------- 5.1/10.2 MB 702.0 kB/s eta 0:00:08\n",
      "   -------------------- ------------------- 5.1/10.2 MB 702.0 kB/s eta 0:00:08\n",
      "   --------------------- ------------------ 5.5/10.2 MB 728.6 kB/s eta 0:00:07\n",
      "   --------------------- ------------------ 5.6/10.2 MB 732.4 kB/s eta 0:00:07\n",
      "   --------------------- ------------------ 5.6/10.2 MB 732.4 kB/s eta 0:00:07\n",
      "   --------------------- ------------------ 5.6/10.2 MB 732.4 kB/s eta 0:00:07\n",
      "   --------------------- ------------------ 5.6/10.2 MB 726.1 kB/s eta 0:00:07\n",
      "   --------------------- ------------------ 5.6/10.2 MB 726.1 kB/s eta 0:00:07\n",
      "   --------------------- ------------------ 5.6/10.2 MB 718.6 kB/s eta 0:00:07\n",
      "   ---------------------- ----------------- 5.6/10.2 MB 715.5 kB/s eta 0:00:07\n",
      "   ---------------------- ----------------- 5.6/10.2 MB 715.2 kB/s eta 0:00:07\n",
      "   ---------------------- ----------------- 5.7/10.2 MB 720.0 kB/s eta 0:00:07\n",
      "   ---------------------- ----------------- 5.8/10.2 MB 731.2 kB/s eta 0:00:06\n",
      "   ---------------------- ----------------- 5.8/10.2 MB 731.2 kB/s eta 0:00:06\n",
      "   ---------------------- ----------------- 5.8/10.2 MB 725.3 kB/s eta 0:00:06\n",
      "   ---------------------- ----------------- 5.8/10.2 MB 725.3 kB/s eta 0:00:06\n",
      "   ---------------------- ----------------- 5.8/10.2 MB 725.3 kB/s eta 0:00:06\n",
      "   ---------------------- ----------------- 5.8/10.2 MB 725.3 kB/s eta 0:00:06\n",
      "   ----------------------- ---------------- 5.9/10.2 MB 714.0 kB/s eta 0:00:07\n",
      "   ----------------------- ---------------- 5.9/10.2 MB 712.3 kB/s eta 0:00:07\n",
      "   ----------------------- ---------------- 6.0/10.2 MB 718.1 kB/s eta 0:00:06\n",
      "   ----------------------- ---------------- 6.1/10.2 MB 730.2 kB/s eta 0:00:06\n",
      "   ----------------------- ---------------- 6.1/10.2 MB 730.2 kB/s eta 0:00:06\n",
      "   ----------------------- ---------------- 6.1/10.2 MB 730.2 kB/s eta 0:00:06\n",
      "   ------------------------ --------------- 6.1/10.2 MB 724.3 kB/s eta 0:00:06\n",
      "   ------------------------ --------------- 6.1/10.2 MB 724.3 kB/s eta 0:00:06\n",
      "   ------------------------ --------------- 6.2/10.2 MB 717.5 kB/s eta 0:00:06\n",
      "   ------------------------ --------------- 6.2/10.2 MB 714.7 kB/s eta 0:00:06\n",
      "   ------------------------ --------------- 6.2/10.2 MB 713.3 kB/s eta 0:00:06\n",
      "   ------------------------ --------------- 6.2/10.2 MB 713.3 kB/s eta 0:00:06\n",
      "   ------------------------ --------------- 6.2/10.2 MB 713.3 kB/s eta 0:00:06\n",
      "   ------------------------ --------------- 6.2/10.2 MB 704.2 kB/s eta 0:00:06\n",
      "   ------------------------ --------------- 6.2/10.2 MB 704.2 kB/s eta 0:00:06\n",
      "   ------------------------ --------------- 6.2/10.2 MB 700.4 kB/s eta 0:00:06\n",
      "   ------------------------- -------------- 6.4/10.2 MB 712.7 kB/s eta 0:00:06\n",
      "   ------------------------- -------------- 6.5/10.2 MB 719.4 kB/s eta 0:00:06\n",
      "   ------------------------- -------------- 6.5/10.2 MB 717.9 kB/s eta 0:00:06\n",
      "   ------------------------- -------------- 6.5/10.2 MB 717.9 kB/s eta 0:00:06\n",
      "   ------------------------- -------------- 6.5/10.2 MB 712.6 kB/s eta 0:00:06\n",
      "   ------------------------- -------------- 6.5/10.2 MB 712.6 kB/s eta 0:00:06\n",
      "   ------------------------- -------------- 6.5/10.2 MB 708.7 kB/s eta 0:00:06\n",
      "   -------------------------- ------------- 6.7/10.2 MB 723.9 kB/s eta 0:00:05\n",
      "   -------------------------- ------------- 6.8/10.2 MB 724.6 kB/s eta 0:00:05\n",
      "   -------------------------- ------------- 6.8/10.2 MB 723.3 kB/s eta 0:00:05\n",
      "   -------------------------- ------------- 6.8/10.2 MB 718.3 kB/s eta 0:00:05\n",
      "   -------------------------- ------------- 6.8/10.2 MB 718.3 kB/s eta 0:00:05\n",
      "   -------------------------- ------------- 6.8/10.2 MB 713.4 kB/s eta 0:00:05\n",
      "   -------------------------- ------------- 6.8/10.2 MB 714.2 kB/s eta 0:00:05\n",
      "   -------------------------- ------------- 6.9/10.2 MB 710.7 kB/s eta 0:00:05\n",
      "   --------------------------- ------------ 6.9/10.2 MB 711.6 kB/s eta 0:00:05\n",
      "   --------------------------- ------------ 6.9/10.2 MB 711.6 kB/s eta 0:00:05\n",
      "   --------------------------- ------------ 6.9/10.2 MB 711.6 kB/s eta 0:00:05\n",
      "   --------------------------- ------------ 6.9/10.2 MB 701.3 kB/s eta 0:00:05\n",
      "   --------------------------- ------------ 6.9/10.2 MB 700.1 kB/s eta 0:00:05\n",
      "   --------------------------- ------------ 6.9/10.2 MB 701.0 kB/s eta 0:00:05\n",
      "   --------------------------- ------------ 7.0/10.2 MB 704.8 kB/s eta 0:00:05\n",
      "   ---------------------------- ----------- 7.2/10.2 MB 718.1 kB/s eta 0:00:05\n",
      "   ---------------------------- ----------- 7.2/10.2 MB 718.1 kB/s eta 0:00:05\n",
      "   ---------------------------- ----------- 7.2/10.2 MB 718.1 kB/s eta 0:00:05\n",
      "   ---------------------------- ----------- 7.2/10.2 MB 718.1 kB/s eta 0:00:05\n",
      "   ---------------------------- ----------- 7.2/10.2 MB 706.8 kB/s eta 0:00:05\n",
      "   ---------------------------- ----------- 7.2/10.2 MB 706.8 kB/s eta 0:00:05\n",
      "   ---------------------------- ----------- 7.3/10.2 MB 709.2 kB/s eta 0:00:05\n",
      "   ----------------------------- ---------- 7.5/10.2 MB 721.9 kB/s eta 0:00:04\n",
      "   ----------------------------- ---------- 7.5/10.2 MB 721.9 kB/s eta 0:00:04\n",
      "   ----------------------------- ---------- 7.5/10.2 MB 717.4 kB/s eta 0:00:04\n",
      "   ----------------------------- ---------- 7.5/10.2 MB 716.2 kB/s eta 0:00:04\n",
      "   ----------------------------- ---------- 7.5/10.2 MB 716.2 kB/s eta 0:00:04\n",
      "   ----------------------------- ---------- 7.5/10.2 MB 716.2 kB/s eta 0:00:04\n",
      "   ----------------------------- ---------- 7.5/10.2 MB 707.6 kB/s eta 0:00:04\n",
      "   ----------------------------- ---------- 7.5/10.2 MB 707.6 kB/s eta 0:00:04\n",
      "   ----------------------------- ---------- 7.5/10.2 MB 704.4 kB/s eta 0:00:04\n",
      "   ------------------------------ --------- 7.6/10.2 MB 712.8 kB/s eta 0:00:04\n",
      "   ------------------------------ --------- 7.7/10.2 MB 717.3 kB/s eta 0:00:04\n",
      "   ------------------------------ --------- 7.7/10.2 MB 717.3 kB/s eta 0:00:04\n",
      "   ------------------------------ --------- 7.8/10.2 MB 717.0 kB/s eta 0:00:04\n",
      "   ------------------------------ --------- 7.8/10.2 MB 716.7 kB/s eta 0:00:04\n",
      "   ------------------------------ --------- 7.8/10.2 MB 715.5 kB/s eta 0:00:04\n",
      "   ------------------------------ --------- 7.8/10.2 MB 715.5 kB/s eta 0:00:04\n",
      "   ------------------------------ --------- 7.8/10.2 MB 715.5 kB/s eta 0:00:04\n",
      "   ------------------------------ --------- 7.8/10.2 MB 707.2 kB/s eta 0:00:04\n",
      "   ------------------------------ --------- 7.8/10.2 MB 707.2 kB/s eta 0:00:04\n",
      "   ------------------------------ --------- 7.9/10.2 MB 705.1 kB/s eta 0:00:04\n",
      "   ------------------------------ --------- 7.9/10.2 MB 704.0 kB/s eta 0:00:04\n",
      "   ------------------------------- -------- 7.9/10.2 MB 706.5 kB/s eta 0:00:04\n",
      "   ------------------------------- -------- 7.9/10.2 MB 703.5 kB/s eta 0:00:04\n",
      "   ------------------------------- -------- 8.0/10.2 MB 706.7 kB/s eta 0:00:04\n",
      "   ------------------------------- -------- 8.1/10.2 MB 712.1 kB/s eta 0:00:03\n",
      "   ------------------------------- -------- 8.1/10.2 MB 712.1 kB/s eta 0:00:03\n",
      "   -------------------------------- ------- 8.2/10.2 MB 709.8 kB/s eta 0:00:03\n",
      "   -------------------------------- ------- 8.2/10.2 MB 709.8 kB/s eta 0:00:03\n",
      "   -------------------------------- ------- 8.2/10.2 MB 703.0 kB/s eta 0:00:03\n",
      "   -------------------------------- ------- 8.2/10.2 MB 705.6 kB/s eta 0:00:03\n",
      "   -------------------------------- ------- 8.2/10.2 MB 704.4 kB/s eta 0:00:03\n",
      "   -------------------------------- ------- 8.3/10.2 MB 706.1 kB/s eta 0:00:03\n",
      "   -------------------------------- ------- 8.3/10.2 MB 706.1 kB/s eta 0:00:03\n",
      "   -------------------------------- ------- 8.3/10.2 MB 703.0 kB/s eta 0:00:03\n",
      "   --------------------------------- ------ 8.5/10.2 MB 712.3 kB/s eta 0:00:03\n",
      "   --------------------------------- ------ 8.5/10.2 MB 712.3 kB/s eta 0:00:03\n",
      "   --------------------------------- ------ 8.5/10.2 MB 709.4 kB/s eta 0:00:03\n",
      "   --------------------------------- ------ 8.5/10.2 MB 706.4 kB/s eta 0:00:03\n",
      "   --------------------------------- ------ 8.5/10.2 MB 703.6 kB/s eta 0:00:03\n",
      "   --------------------------------- ------ 8.5/10.2 MB 701.7 kB/s eta 0:00:03\n",
      "   --------------------------------- ------ 8.6/10.2 MB 703.0 kB/s eta 0:00:03\n",
      "   ---------------------------------- ----- 8.7/10.2 MB 708.0 kB/s eta 0:00:03\n",
      "   ---------------------------------- ----- 8.8/10.2 MB 711.1 kB/s eta 0:00:02\n",
      "   ---------------------------------- ----- 8.8/10.2 MB 708.2 kB/s eta 0:00:02\n",
      "   ---------------------------------- ----- 8.8/10.2 MB 708.2 kB/s eta 0:00:02\n",
      "   ---------------------------------- ----- 8.8/10.2 MB 708.2 kB/s eta 0:00:02\n",
      "   ---------------------------------- ----- 8.8/10.2 MB 702.8 kB/s eta 0:00:02\n",
      "   ---------------------------------- ----- 8.8/10.2 MB 702.8 kB/s eta 0:00:02\n",
      "   ---------------------------------- ----- 8.8/10.2 MB 702.8 kB/s eta 0:00:02\n",
      "   ---------------------------------- ----- 8.8/10.2 MB 696.7 kB/s eta 0:00:02\n",
      "   ---------------------------------- ----- 8.9/10.2 MB 696.4 kB/s eta 0:00:02\n",
      "   ----------------------------------- ---- 9.0/10.2 MB 703.5 kB/s eta 0:00:02\n",
      "   ----------------------------------- ---- 9.1/10.2 MB 709.8 kB/s eta 0:00:02\n",
      "   ----------------------------------- ---- 9.1/10.2 MB 709.8 kB/s eta 0:00:02\n",
      "   ----------------------------------- ---- 9.1/10.2 MB 706.3 kB/s eta 0:00:02\n",
      "   ----------------------------------- ---- 9.1/10.2 MB 706.3 kB/s eta 0:00:02\n",
      "   ----------------------------------- ---- 9.1/10.2 MB 706.3 kB/s eta 0:00:02\n",
      "   ----------------------------------- ---- 9.1/10.2 MB 702.7 kB/s eta 0:00:02\n",
      "   ----------------------------------- ---- 9.1/10.2 MB 701.0 kB/s eta 0:00:02\n",
      "   ----------------------------------- ---- 9.1/10.2 MB 701.0 kB/s eta 0:00:02\n",
      "   ----------------------------------- ---- 9.1/10.2 MB 701.0 kB/s eta 0:00:02\n",
      "   ----------------------------------- ---- 9.2/10.2 MB 694.2 kB/s eta 0:00:02\n",
      "   ------------------------------------ --- 9.3/10.2 MB 698.6 kB/s eta 0:00:02\n",
      "   ------------------------------------ --- 9.4/10.2 MB 706.1 kB/s eta 0:00:02\n",
      "   ------------------------------------- -- 9.4/10.2 MB 705.1 kB/s eta 0:00:02\n",
      "   ------------------------------------- -- 9.4/10.2 MB 701.8 kB/s eta 0:00:02\n",
      "   ------------------------------------- -- 9.4/10.2 MB 701.8 kB/s eta 0:00:02\n",
      "   ------------------------------------- -- 9.4/10.2 MB 701.8 kB/s eta 0:00:02\n",
      "   ------------------------------------- -- 9.5/10.2 MB 696.0 kB/s eta 0:00:01\n",
      "   -------------------------------------- - 9.7/10.2 MB 707.0 kB/s eta 0:00:01\n",
      "   -------------------------------------- - 9.7/10.2 MB 710.7 kB/s eta 0:00:01\n",
      "   -------------------------------------- - 9.7/10.2 MB 710.7 kB/s eta 0:00:01\n",
      "   -------------------------------------- - 9.8/10.2 MB 705.7 kB/s eta 0:00:01\n",
      "   -------------------------------------- - 9.8/10.2 MB 705.7 kB/s eta 0:00:01\n",
      "   -------------------------------------- - 9.8/10.2 MB 702.4 kB/s eta 0:00:01\n",
      "   -------------------------------------- - 9.8/10.2 MB 701.5 kB/s eta 0:00:01\n",
      "   -------------------------------------- - 9.8/10.2 MB 700.6 kB/s eta 0:00:01\n",
      "   -------------------------------------- - 9.9/10.2 MB 703.5 kB/s eta 0:00:01\n",
      "   ---------------------------------------  10.0/10.2 MB 706.9 kB/s eta 0:00:01\n",
      "   ---------------------------------------  10.0/10.2 MB 706.8 kB/s eta 0:00:01\n",
      "   ---------------------------------------  10.0/10.2 MB 706.8 kB/s eta 0:00:01\n",
      "   ---------------------------------------  10.0/10.2 MB 704.4 kB/s eta 0:00:01\n",
      "   ---------------------------------------  10.1/10.2 MB 704.2 kB/s eta 0:00:01\n",
      "   ---------------------------------------  10.1/10.2 MB 704.2 kB/s eta 0:00:01\n",
      "   ---------------------------------------  10.1/10.2 MB 701.0 kB/s eta 0:00:01\n",
      "   ---------------------------------------  10.2/10.2 MB 703.6 kB/s eta 0:00:01\n",
      "   ---------------------------------------- 10.2/10.2 MB 700.3 kB/s eta 0:00:00\n",
      "Downloading trio-0.23.1-py3-none-any.whl (448 kB)\n",
      "   ---------------------------------------- 0.0/448.3 kB ? eta -:--:--\n",
      "   ---------------------------------------- 0.0/448.3 kB ? eta -:--:--\n",
      "   ---------------------------------------- 0.0/448.3 kB ? eta -:--:--\n",
      "    --------------------------------------- 10.2/448.3 kB ? eta -:--:--\n",
      "   --- ----------------------------------- 41.0/448.3 kB 653.6 kB/s eta 0:00:01\n",
      "   -------- ------------------------------ 92.2/448.3 kB 880.9 kB/s eta 0:00:01\n",
      "   ------------ ------------------------- 143.4/448.3 kB 950.9 kB/s eta 0:00:01\n",
      "   ------------------ --------------------- 204.8/448.3 kB 1.1 MB/s eta 0:00:01\n",
      "   ------------------------- -------------- 286.7/448.3 kB 1.4 MB/s eta 0:00:01\n",
      "   ------------------------- -------------- 286.7/448.3 kB 1.4 MB/s eta 0:00:01\n",
      "   ------------------------- -------------- 286.7/448.3 kB 1.4 MB/s eta 0:00:01\n",
      "   -------------------------- ----------- 307.2/448.3 kB 951.8 kB/s eta 0:00:01\n",
      "   -------------------------------- ----- 389.1/448.3 kB 933.2 kB/s eta 0:00:01\n",
      "   ----------------------------------- -- 419.8/448.3 kB 970.6 kB/s eta 0:00:01\n",
      "   -------------------------------------  440.3/448.3 kB 888.6 kB/s eta 0:00:01\n",
      "   -------------------------------------- 448.3/448.3 kB 876.0 kB/s eta 0:00:00\n",
      "Downloading trio_websocket-0.11.1-py3-none-any.whl (17 kB)\n",
      "Downloading outcome-1.3.0.post0-py2.py3-none-any.whl (10 kB)\n",
      "Installing collected packages: wsproto, sniffio, outcome, trio, trio-websocket, selenium\n",
      "  Attempting uninstall: sniffio\n",
      "    Found existing installation: sniffio 1.2.0\n",
      "    Uninstalling sniffio-1.2.0:\n",
      "      Successfully uninstalled sniffio-1.2.0\n",
      "Successfully installed outcome-1.3.0.post0 selenium-4.15.2 sniffio-1.3.0 trio-0.23.1 trio-websocket-0.11.1 wsproto-1.2.0\n",
      "Note: you may need to restart the kernel to use updated packages.\n"
     ]
    }
   ],
   "source": [
    "pip install selenium\n"
   ]
  },
  {
   "cell_type": "code",
   "execution_count": 5,
   "id": "29741005",
   "metadata": {},
   "outputs": [
    {
     "name": "stdout",
     "output_type": "stream",
     "text": [
      "Collecting pyppeteer\n",
      "  Downloading pyppeteer-1.0.2-py3-none-any.whl (83 kB)\n",
      "     ---------------------------------------- 0.0/83.4 kB ? eta -:--:--\n",
      "     -------------- ------------------------- 30.7/83.4 kB ? eta -:--:--\n",
      "     ---------------------------------------- 83.4/83.4 kB 1.2 MB/s eta 0:00:00\n",
      "Requirement already satisfied: appdirs<2.0.0,>=1.4.3 in d:\\new folder\\lib\\site-packages (from pyppeteer) (1.4.4)\n",
      "Requirement already satisfied: certifi>=2021 in d:\\new folder\\lib\\site-packages (from pyppeteer) (2023.7.22)\n",
      "Requirement already satisfied: importlib-metadata>=1.4 in d:\\new folder\\lib\\site-packages (from pyppeteer) (6.0.0)\n",
      "Collecting pyee<9.0.0,>=8.1.0 (from pyppeteer)\n",
      "  Downloading pyee-8.2.2-py2.py3-none-any.whl (12 kB)\n",
      "Requirement already satisfied: tqdm<5.0.0,>=4.42.1 in d:\\new folder\\lib\\site-packages (from pyppeteer) (4.65.0)\n",
      "Requirement already satisfied: urllib3<2.0.0,>=1.25.8 in d:\\new folder\\lib\\site-packages (from pyppeteer) (1.26.16)\n",
      "Collecting websockets<11.0,>=10.0 (from pyppeteer)\n",
      "  Downloading websockets-10.4-cp311-cp311-win_amd64.whl (101 kB)\n",
      "     ---------------------------------------- 0.0/101.4 kB ? eta -:--:--\n",
      "     --------------------------- ----------- 71.7/101.4 kB 1.3 MB/s eta 0:00:01\n",
      "     -------------------------------------- 101.4/101.4 kB 1.5 MB/s eta 0:00:00\n",
      "Requirement already satisfied: zipp>=0.5 in d:\\new folder\\lib\\site-packages (from importlib-metadata>=1.4->pyppeteer) (3.11.0)\n",
      "Requirement already satisfied: colorama in c:\\users\\dell\\appdata\\roaming\\python\\python311\\site-packages (from tqdm<5.0.0,>=4.42.1->pyppeteer) (0.4.6)\n",
      "Installing collected packages: pyee, websockets, pyppeteer\n",
      "Successfully installed pyee-8.2.2 pyppeteer-1.0.2 websockets-10.4\n",
      "Note: you may need to restart the kernel to use updated packages.\n"
     ]
    }
   ],
   "source": [
    "pip install pyppeteer\n"
   ]
  },
  {
   "cell_type": "code",
   "execution_count": 18,
   "id": "2db5527e",
   "metadata": {},
   "outputs": [
    {
     "name": "stdout",
     "output_type": "stream",
     "text": [
      "URL: https://chat.openai.com/share/17a9692d-b893-47da-bca1-b46554f00962, Elements with class names: 10\n"
     ]
    }
   ],
   "source": [
    "import asyncio\n",
    "from pyppeteer import launch\n",
    "\n",
    "async def count_mentions(url, class_names):\n",
    "    browser = await launch({'headless': False})  # Change to headless=True for production\n",
    "    page = await browser.newPage()\n",
    "\n",
    "    try:\n",
    "        await page.goto(url, waitUntil='domcontentloaded')\n",
    "        await page.waitForSelector(class_names)\n",
    "        \n",
    "        count = await page.evaluate(f'document.querySelectorAll(\"{class_names}\").length')\n",
    "        return count\n",
    "    finally:\n",
    "        await browser.close()\n",
    "\n",
    "async def main():\n",
    "    url = 'https://chat.openai.com/share/17a9692d-b893-47da-bca1-b46554f00962'\n",
    "    class_names_to_find = '.font-semibold.select-none'\n",
    "\n",
    "    count = await count_mentions(url, class_names_to_find)\n",
    "    print(f'URL: {url}, Elements with class names: {count}')\n",
    "\n",
    "if asyncio.get_event_loop().is_running():\n",
    "    asyncio.run_coroutine_threadsafe(main(), asyncio.get_event_loop())\n",
    "else:\n",
    "    asyncio.get_event_loop().run_until_complete(main())\n"
   ]
  },
  {
   "cell_type": "code",
   "execution_count": 29,
   "id": "3bf03a4e",
   "metadata": {},
   "outputs": [
    {
     "ename": "PermissionError",
     "evalue": "[Errno 13] Permission denied: 'output.csv'",
     "output_type": "error",
     "traceback": [
      "\u001b[1;31m---------------------------------------------------------------------------\u001b[0m",
      "\u001b[1;31mPermissionError\u001b[0m                           Traceback (most recent call last)",
      "Cell \u001b[1;32mIn[29], line 28\u001b[0m\n\u001b[0;32m     26\u001b[0m \u001b[38;5;66;03m# Write CSV file\u001b[39;00m\n\u001b[0;32m     27\u001b[0m csv_filename \u001b[38;5;241m=\u001b[39m \u001b[38;5;124m\"\u001b[39m\u001b[38;5;124moutput.csv\u001b[39m\u001b[38;5;124m\"\u001b[39m\n\u001b[1;32m---> 28\u001b[0m \u001b[38;5;28;01mwith\u001b[39;00m \u001b[38;5;28;43mopen\u001b[39;49m\u001b[43m(\u001b[49m\u001b[43mcsv_filename\u001b[49m\u001b[43m,\u001b[49m\u001b[43m \u001b[49m\u001b[43mmode\u001b[49m\u001b[38;5;241;43m=\u001b[39;49m\u001b[38;5;124;43m'\u001b[39;49m\u001b[38;5;124;43mw\u001b[39;49m\u001b[38;5;124;43m'\u001b[39;49m\u001b[43m,\u001b[49m\u001b[43m \u001b[49m\u001b[43mnewline\u001b[49m\u001b[38;5;241;43m=\u001b[39;49m\u001b[38;5;124;43m'\u001b[39;49m\u001b[38;5;124;43m'\u001b[39;49m\u001b[43m)\u001b[49m \u001b[38;5;28;01mas\u001b[39;00m file:\n\u001b[0;32m     29\u001b[0m     writer \u001b[38;5;241m=\u001b[39m csv\u001b[38;5;241m.\u001b[39mwriter(file)\n\u001b[0;32m     30\u001b[0m     writer\u001b[38;5;241m.\u001b[39mwriterows(csv_data)\n",
      "File \u001b[1;32m~\\AppData\\Roaming\\Python\\Python311\\site-packages\\IPython\\core\\interactiveshell.py:284\u001b[0m, in \u001b[0;36m_modified_open\u001b[1;34m(file, *args, **kwargs)\u001b[0m\n\u001b[0;32m    277\u001b[0m \u001b[38;5;28;01mif\u001b[39;00m file \u001b[38;5;129;01min\u001b[39;00m {\u001b[38;5;241m0\u001b[39m, \u001b[38;5;241m1\u001b[39m, \u001b[38;5;241m2\u001b[39m}:\n\u001b[0;32m    278\u001b[0m     \u001b[38;5;28;01mraise\u001b[39;00m \u001b[38;5;167;01mValueError\u001b[39;00m(\n\u001b[0;32m    279\u001b[0m         \u001b[38;5;124mf\u001b[39m\u001b[38;5;124m\"\u001b[39m\u001b[38;5;124mIPython won\u001b[39m\u001b[38;5;124m'\u001b[39m\u001b[38;5;124mt let you open fd=\u001b[39m\u001b[38;5;132;01m{\u001b[39;00mfile\u001b[38;5;132;01m}\u001b[39;00m\u001b[38;5;124m by default \u001b[39m\u001b[38;5;124m\"\u001b[39m\n\u001b[0;32m    280\u001b[0m         \u001b[38;5;124m\"\u001b[39m\u001b[38;5;124mas it is likely to crash IPython. If you know what you are doing, \u001b[39m\u001b[38;5;124m\"\u001b[39m\n\u001b[0;32m    281\u001b[0m         \u001b[38;5;124m\"\u001b[39m\u001b[38;5;124myou can use builtins\u001b[39m\u001b[38;5;124m'\u001b[39m\u001b[38;5;124m open.\u001b[39m\u001b[38;5;124m\"\u001b[39m\n\u001b[0;32m    282\u001b[0m     )\n\u001b[1;32m--> 284\u001b[0m \u001b[38;5;28;01mreturn\u001b[39;00m \u001b[43mio_open\u001b[49m\u001b[43m(\u001b[49m\u001b[43mfile\u001b[49m\u001b[43m,\u001b[49m\u001b[43m \u001b[49m\u001b[38;5;241;43m*\u001b[39;49m\u001b[43margs\u001b[49m\u001b[43m,\u001b[49m\u001b[43m \u001b[49m\u001b[38;5;241;43m*\u001b[39;49m\u001b[38;5;241;43m*\u001b[39;49m\u001b[43mkwargs\u001b[49m\u001b[43m)\u001b[49m\n",
      "\u001b[1;31mPermissionError\u001b[0m: [Errno 13] Permission denied: 'output.csv'"
     ]
    },
    {
     "name": "stderr",
     "output_type": "stream",
     "text": [
      "C:\\Users\\dell\\AppData\\Local\\Temp\\ipykernel_14856\\1829702115.py:42: FutureWarning: The frame.append method is deprecated and will be removed from pandas in a future version. Use pandas.concat instead.\n",
      "  results_df = results_df.append({\"URL\": url, \"ElementCount\": element_count}, ignore_index=True)\n"
     ]
    },
    {
     "name": "stdout",
     "output_type": "stream",
     "text": [
      "URL: https://chat.openai.com/share/59b0ac04-5fb0-4649-a32d-5efc7ea1212b, Elements with class names: 4\n"
     ]
    },
    {
     "name": "stderr",
     "output_type": "stream",
     "text": [
      "C:\\Users\\dell\\AppData\\Local\\Temp\\ipykernel_14856\\1829702115.py:42: FutureWarning: The frame.append method is deprecated and will be removed from pandas in a future version. Use pandas.concat instead.\n",
      "  results_df = results_df.append({\"URL\": url, \"ElementCount\": element_count}, ignore_index=True)\n"
     ]
    },
    {
     "name": "stdout",
     "output_type": "stream",
     "text": [
      "URL: https://chat.openai.com/share/df7f803b-02d4-4e4f-bc1c-b717f77494dc, Elements with class names: 60\n"
     ]
    },
    {
     "name": "stderr",
     "output_type": "stream",
     "text": [
      "C:\\Users\\dell\\AppData\\Local\\Temp\\ipykernel_14856\\1829702115.py:42: FutureWarning: The frame.append method is deprecated and will be removed from pandas in a future version. Use pandas.concat instead.\n",
      "  results_df = results_df.append({\"URL\": url, \"ElementCount\": element_count}, ignore_index=True)\n"
     ]
    },
    {
     "name": "stdout",
     "output_type": "stream",
     "text": [
      "URL: https://chat.openai.com/share/4d399cd1-6993-444e-a960-4e56b5a17982, Elements with class names: 36\n"
     ]
    },
    {
     "name": "stderr",
     "output_type": "stream",
     "text": [
      "C:\\Users\\dell\\AppData\\Local\\Temp\\ipykernel_14856\\1829702115.py:42: FutureWarning: The frame.append method is deprecated and will be removed from pandas in a future version. Use pandas.concat instead.\n",
      "  results_df = results_df.append({\"URL\": url, \"ElementCount\": element_count}, ignore_index=True)\n"
     ]
    },
    {
     "name": "stdout",
     "output_type": "stream",
     "text": [
      "URL: https://chat.openai.com/share/1cffb5a3-5f4b-4b96-a46d-de5a5cca4abe, Elements with class names: 12\n"
     ]
    },
    {
     "name": "stderr",
     "output_type": "stream",
     "text": [
      "C:\\Users\\dell\\AppData\\Local\\Temp\\ipykernel_14856\\1829702115.py:42: FutureWarning: The frame.append method is deprecated and will be removed from pandas in a future version. Use pandas.concat instead.\n",
      "  results_df = results_df.append({\"URL\": url, \"ElementCount\": element_count}, ignore_index=True)\n"
     ]
    },
    {
     "name": "stdout",
     "output_type": "stream",
     "text": [
      "URL: https://chat.openai.com/share/27c13317-2a72-480c-a72e-f789363b45b9, Elements with class names: 10\n"
     ]
    },
    {
     "name": "stderr",
     "output_type": "stream",
     "text": [
      "C:\\Users\\dell\\AppData\\Local\\Temp\\ipykernel_14856\\1829702115.py:42: FutureWarning: The frame.append method is deprecated and will be removed from pandas in a future version. Use pandas.concat instead.\n",
      "  results_df = results_df.append({\"URL\": url, \"ElementCount\": element_count}, ignore_index=True)\n"
     ]
    },
    {
     "name": "stdout",
     "output_type": "stream",
     "text": [
      "URL: https://chat.openai.com/share/07483ca1-22e7-4305-b6c9-84bafab64e85, Elements with class names: 14\n"
     ]
    },
    {
     "name": "stderr",
     "output_type": "stream",
     "text": [
      "C:\\Users\\dell\\AppData\\Local\\Temp\\ipykernel_14856\\1829702115.py:42: FutureWarning: The frame.append method is deprecated and will be removed from pandas in a future version. Use pandas.concat instead.\n",
      "  results_df = results_df.append({\"URL\": url, \"ElementCount\": element_count}, ignore_index=True)\n"
     ]
    },
    {
     "name": "stdout",
     "output_type": "stream",
     "text": [
      "URL: https://chat.openai.com/share/e1754b27-4859-494f-99c7-02648c7883ab, Elements with class names: 44\n"
     ]
    },
    {
     "name": "stderr",
     "output_type": "stream",
     "text": [
      "C:\\Users\\dell\\AppData\\Local\\Temp\\ipykernel_14856\\1829702115.py:42: FutureWarning: The frame.append method is deprecated and will be removed from pandas in a future version. Use pandas.concat instead.\n",
      "  results_df = results_df.append({\"URL\": url, \"ElementCount\": element_count}, ignore_index=True)\n"
     ]
    },
    {
     "name": "stdout",
     "output_type": "stream",
     "text": [
      "URL: https://chat.openai.com/share/68599fd3-2ec7-4e6d-a410-42a1d52b1aac, Elements with class names: 22\n"
     ]
    },
    {
     "name": "stderr",
     "output_type": "stream",
     "text": [
      "C:\\Users\\dell\\AppData\\Local\\Temp\\ipykernel_14856\\1829702115.py:42: FutureWarning: The frame.append method is deprecated and will be removed from pandas in a future version. Use pandas.concat instead.\n",
      "  results_df = results_df.append({\"URL\": url, \"ElementCount\": element_count}, ignore_index=True)\n"
     ]
    },
    {
     "name": "stdout",
     "output_type": "stream",
     "text": [
      "URL: https://chat.openai.com/share/902e81d3-a0b5-484b-838f-757a8d873520, Elements with class names: 4\n"
     ]
    },
    {
     "name": "stderr",
     "output_type": "stream",
     "text": [
      "C:\\Users\\dell\\AppData\\Local\\Temp\\ipykernel_14856\\1829702115.py:42: FutureWarning: The frame.append method is deprecated and will be removed from pandas in a future version. Use pandas.concat instead.\n",
      "  results_df = results_df.append({\"URL\": url, \"ElementCount\": element_count}, ignore_index=True)\n"
     ]
    },
    {
     "name": "stdout",
     "output_type": "stream",
     "text": [
      "URL: https://chat.openai.com/share/3e7fe2d6-4527-4f76-8806-f4f3f3cefc76, Elements with class names: 2\n"
     ]
    },
    {
     "name": "stderr",
     "output_type": "stream",
     "text": [
      "C:\\Users\\dell\\AppData\\Local\\Temp\\ipykernel_14856\\1829702115.py:42: FutureWarning: The frame.append method is deprecated and will be removed from pandas in a future version. Use pandas.concat instead.\n",
      "  results_df = results_df.append({\"URL\": url, \"ElementCount\": element_count}, ignore_index=True)\n"
     ]
    },
    {
     "name": "stdout",
     "output_type": "stream",
     "text": [
      "URL: https://chat.openai.com/share/d930237a-3e74-4ff1-afc8-f002af485479, Elements with class names: 2\n"
     ]
    },
    {
     "name": "stderr",
     "output_type": "stream",
     "text": [
      "C:\\Users\\dell\\AppData\\Local\\Temp\\ipykernel_14856\\1829702115.py:42: FutureWarning: The frame.append method is deprecated and will be removed from pandas in a future version. Use pandas.concat instead.\n",
      "  results_df = results_df.append({\"URL\": url, \"ElementCount\": element_count}, ignore_index=True)\n"
     ]
    },
    {
     "name": "stdout",
     "output_type": "stream",
     "text": [
      "URL: https://chat.openai.com/share/0966d14e-427a-4df0-8004-a7ec917ff91d, Elements with class names: 6\n"
     ]
    },
    {
     "name": "stderr",
     "output_type": "stream",
     "text": [
      "C:\\Users\\dell\\AppData\\Local\\Temp\\ipykernel_14856\\1829702115.py:42: FutureWarning: The frame.append method is deprecated and will be removed from pandas in a future version. Use pandas.concat instead.\n",
      "  results_df = results_df.append({\"URL\": url, \"ElementCount\": element_count}, ignore_index=True)\n"
     ]
    },
    {
     "name": "stdout",
     "output_type": "stream",
     "text": [
      "URL: https://chat.openai.com/share/fe78d051-540e-44e8-b115-5f523c1a7e49, Elements with class names: 10\n"
     ]
    },
    {
     "name": "stderr",
     "output_type": "stream",
     "text": [
      "C:\\Users\\dell\\AppData\\Local\\Temp\\ipykernel_14856\\1829702115.py:42: FutureWarning: The frame.append method is deprecated and will be removed from pandas in a future version. Use pandas.concat instead.\n",
      "  results_df = results_df.append({\"URL\": url, \"ElementCount\": element_count}, ignore_index=True)\n"
     ]
    },
    {
     "name": "stdout",
     "output_type": "stream",
     "text": [
      "URL: https://chat.openai.com/share/b49f7ca7-7bd5-4a49-a691-f7150cf36676, Elements with class names: 66\n"
     ]
    },
    {
     "name": "stderr",
     "output_type": "stream",
     "text": [
      "C:\\Users\\dell\\AppData\\Local\\Temp\\ipykernel_14856\\1829702115.py:42: FutureWarning: The frame.append method is deprecated and will be removed from pandas in a future version. Use pandas.concat instead.\n",
      "  results_df = results_df.append({\"URL\": url, \"ElementCount\": element_count}, ignore_index=True)\n"
     ]
    },
    {
     "name": "stdout",
     "output_type": "stream",
     "text": [
      "URL: https://chat.openai.com/share/c48bc91a-607c-4f7f-ba5c-b763724586ce, Elements with class names: 6\n"
     ]
    },
    {
     "name": "stderr",
     "output_type": "stream",
     "text": [
      "C:\\Users\\dell\\AppData\\Local\\Temp\\ipykernel_14856\\1829702115.py:42: FutureWarning: The frame.append method is deprecated and will be removed from pandas in a future version. Use pandas.concat instead.\n",
      "  results_df = results_df.append({\"URL\": url, \"ElementCount\": element_count}, ignore_index=True)\n"
     ]
    },
    {
     "name": "stdout",
     "output_type": "stream",
     "text": [
      "URL: https://chat.openai.com/share/750e75a0-f7bc-4f4f-bb3e-1341713915d1, Elements with class names: 20\n"
     ]
    },
    {
     "name": "stderr",
     "output_type": "stream",
     "text": [
      "C:\\Users\\dell\\AppData\\Local\\Temp\\ipykernel_14856\\1829702115.py:42: FutureWarning: The frame.append method is deprecated and will be removed from pandas in a future version. Use pandas.concat instead.\n",
      "  results_df = results_df.append({\"URL\": url, \"ElementCount\": element_count}, ignore_index=True)\n"
     ]
    },
    {
     "name": "stdout",
     "output_type": "stream",
     "text": [
      "URL: https://chat.openai.com/share/7a487192-168b-4d19-b8d8-5689a40f177e, Elements with class names: 10\n",
      "Error counting elements on https://chat.openai.com/share/eeac65a1-bdc5-40db-8332-58e9b0f24efd: Waiting for selector \".font-semibold.select-none\" failed: timeout 30000ms exceeds.\n"
     ]
    },
    {
     "name": "stderr",
     "output_type": "stream",
     "text": [
      "C:\\Users\\dell\\AppData\\Local\\Temp\\ipykernel_14856\\1829702115.py:42: FutureWarning: The frame.append method is deprecated and will be removed from pandas in a future version. Use pandas.concat instead.\n",
      "  results_df = results_df.append({\"URL\": url, \"ElementCount\": element_count}, ignore_index=True)\n"
     ]
    },
    {
     "name": "stdout",
     "output_type": "stream",
     "text": [
      "URL: https://chat.openai.com/share/eeac65a1-bdc5-40db-8332-58e9b0f24efd, Elements with class names: 0\n"
     ]
    },
    {
     "name": "stderr",
     "output_type": "stream",
     "text": [
      "C:\\Users\\dell\\AppData\\Local\\Temp\\ipykernel_14856\\1829702115.py:42: FutureWarning: The frame.append method is deprecated and will be removed from pandas in a future version. Use pandas.concat instead.\n",
      "  results_df = results_df.append({\"URL\": url, \"ElementCount\": element_count}, ignore_index=True)\n"
     ]
    },
    {
     "name": "stdout",
     "output_type": "stream",
     "text": [
      "URL: https://chat.openai.com/share/60872539-7283-4552-ab65-987164e94431, Elements with class names: 20\n"
     ]
    },
    {
     "name": "stderr",
     "output_type": "stream",
     "text": [
      "C:\\Users\\dell\\AppData\\Local\\Temp\\ipykernel_14856\\1829702115.py:42: FutureWarning: The frame.append method is deprecated and will be removed from pandas in a future version. Use pandas.concat instead.\n",
      "  results_df = results_df.append({\"URL\": url, \"ElementCount\": element_count}, ignore_index=True)\n"
     ]
    },
    {
     "name": "stdout",
     "output_type": "stream",
     "text": [
      "URL: https://chat.openai.com/share/a3f00d53-259b-4bbc-bc1a-bed455066a04, Elements with class names: 8\n"
     ]
    },
    {
     "name": "stderr",
     "output_type": "stream",
     "text": [
      "C:\\Users\\dell\\AppData\\Local\\Temp\\ipykernel_14856\\1829702115.py:42: FutureWarning: The frame.append method is deprecated and will be removed from pandas in a future version. Use pandas.concat instead.\n",
      "  results_df = results_df.append({\"URL\": url, \"ElementCount\": element_count}, ignore_index=True)\n"
     ]
    },
    {
     "name": "stdout",
     "output_type": "stream",
     "text": [
      "URL: https://chat.openai.com/share/0ebc4dbd-5261-403c-8803-747494fe5966, Elements with class names: 6\n"
     ]
    },
    {
     "name": "stderr",
     "output_type": "stream",
     "text": [
      "C:\\Users\\dell\\AppData\\Local\\Temp\\ipykernel_14856\\1829702115.py:42: FutureWarning: The frame.append method is deprecated and will be removed from pandas in a future version. Use pandas.concat instead.\n",
      "  results_df = results_df.append({\"URL\": url, \"ElementCount\": element_count}, ignore_index=True)\n"
     ]
    },
    {
     "name": "stdout",
     "output_type": "stream",
     "text": [
      "URL: https://chat.openai.com/share/66fd02a1-76d0-473f-be36-57898fb5e69e, Elements with class names: 20\n"
     ]
    },
    {
     "name": "stderr",
     "output_type": "stream",
     "text": [
      "C:\\Users\\dell\\AppData\\Local\\Temp\\ipykernel_14856\\1829702115.py:42: FutureWarning: The frame.append method is deprecated and will be removed from pandas in a future version. Use pandas.concat instead.\n",
      "  results_df = results_df.append({\"URL\": url, \"ElementCount\": element_count}, ignore_index=True)\n"
     ]
    },
    {
     "name": "stdout",
     "output_type": "stream",
     "text": [
      "URL: https://chat.openai.com/share/56efaf6b-bfa6-4b2f-8a6c-6da866325731, Elements with class names: 2\n"
     ]
    },
    {
     "name": "stderr",
     "output_type": "stream",
     "text": [
      "C:\\Users\\dell\\AppData\\Local\\Temp\\ipykernel_14856\\1829702115.py:42: FutureWarning: The frame.append method is deprecated and will be removed from pandas in a future version. Use pandas.concat instead.\n",
      "  results_df = results_df.append({\"URL\": url, \"ElementCount\": element_count}, ignore_index=True)\n"
     ]
    },
    {
     "name": "stdout",
     "output_type": "stream",
     "text": [
      "URL: https://chat.openai.com/share/cca269ac-3bdc-4b65-9e33-9de69c75e6ff, Elements with class names: 30\n"
     ]
    },
    {
     "name": "stderr",
     "output_type": "stream",
     "text": [
      "C:\\Users\\dell\\AppData\\Local\\Temp\\ipykernel_14856\\1829702115.py:42: FutureWarning: The frame.append method is deprecated and will be removed from pandas in a future version. Use pandas.concat instead.\n",
      "  results_df = results_df.append({\"URL\": url, \"ElementCount\": element_count}, ignore_index=True)\n"
     ]
    },
    {
     "name": "stdout",
     "output_type": "stream",
     "text": [
      "URL: https://chat.openai.com/share/b57234b6-d22a-419b-adb1-d9829ce518ac, Elements with class names: 16\n"
     ]
    },
    {
     "name": "stderr",
     "output_type": "stream",
     "text": [
      "C:\\Users\\dell\\AppData\\Local\\Temp\\ipykernel_14856\\1829702115.py:42: FutureWarning: The frame.append method is deprecated and will be removed from pandas in a future version. Use pandas.concat instead.\n",
      "  results_df = results_df.append({\"URL\": url, \"ElementCount\": element_count}, ignore_index=True)\n"
     ]
    },
    {
     "name": "stdout",
     "output_type": "stream",
     "text": [
      "URL: https://chat.openai.com/share/1bd1db5b-f86b-4428-bcba-fc142f112738, Elements with class names: 14\n"
     ]
    },
    {
     "name": "stderr",
     "output_type": "stream",
     "text": [
      "C:\\Users\\dell\\AppData\\Local\\Temp\\ipykernel_14856\\1829702115.py:42: FutureWarning: The frame.append method is deprecated and will be removed from pandas in a future version. Use pandas.concat instead.\n",
      "  results_df = results_df.append({\"URL\": url, \"ElementCount\": element_count}, ignore_index=True)\n"
     ]
    },
    {
     "name": "stdout",
     "output_type": "stream",
     "text": [
      "URL: https://chat.openai.com/share/bb05145a-32be-45d6-873c-024f01c19417, Elements with class names: 8\n"
     ]
    },
    {
     "name": "stderr",
     "output_type": "stream",
     "text": [
      "C:\\Users\\dell\\AppData\\Local\\Temp\\ipykernel_14856\\1829702115.py:42: FutureWarning: The frame.append method is deprecated and will be removed from pandas in a future version. Use pandas.concat instead.\n",
      "  results_df = results_df.append({\"URL\": url, \"ElementCount\": element_count}, ignore_index=True)\n"
     ]
    },
    {
     "name": "stdout",
     "output_type": "stream",
     "text": [
      "URL: https://chat.openai.com/share/e6dbeeea-0138-42ba-be28-98ecd34297b4, Elements with class names: 2\n"
     ]
    },
    {
     "name": "stderr",
     "output_type": "stream",
     "text": [
      "C:\\Users\\dell\\AppData\\Local\\Temp\\ipykernel_14856\\1829702115.py:42: FutureWarning: The frame.append method is deprecated and will be removed from pandas in a future version. Use pandas.concat instead.\n",
      "  results_df = results_df.append({\"URL\": url, \"ElementCount\": element_count}, ignore_index=True)\n"
     ]
    },
    {
     "name": "stdout",
     "output_type": "stream",
     "text": [
      "URL: https://chat.openai.com/share/a7d6319b-7b05-4dd7-b873-a6765c72d0cd, Elements with class names: 20\n"
     ]
    },
    {
     "name": "stderr",
     "output_type": "stream",
     "text": [
      "C:\\Users\\dell\\AppData\\Local\\Temp\\ipykernel_14856\\1829702115.py:42: FutureWarning: The frame.append method is deprecated and will be removed from pandas in a future version. Use pandas.concat instead.\n",
      "  results_df = results_df.append({\"URL\": url, \"ElementCount\": element_count}, ignore_index=True)\n"
     ]
    },
    {
     "name": "stdout",
     "output_type": "stream",
     "text": [
      "URL: https://chat.openai.com/share/0776807c-1cc0-4dc8-a0e0-4d42c8d24d07, Elements with class names: 6\n"
     ]
    },
    {
     "name": "stderr",
     "output_type": "stream",
     "text": [
      "C:\\Users\\dell\\AppData\\Local\\Temp\\ipykernel_14856\\1829702115.py:42: FutureWarning: The frame.append method is deprecated and will be removed from pandas in a future version. Use pandas.concat instead.\n",
      "  results_df = results_df.append({\"URL\": url, \"ElementCount\": element_count}, ignore_index=True)\n"
     ]
    },
    {
     "name": "stdout",
     "output_type": "stream",
     "text": [
      "URL: https://chat.openai.com/share/88d9701d-8e95-4e07-aac2-ce8fe4574693, Elements with class names: 22\n"
     ]
    },
    {
     "name": "stderr",
     "output_type": "stream",
     "text": [
      "C:\\Users\\dell\\AppData\\Local\\Temp\\ipykernel_14856\\1829702115.py:42: FutureWarning: The frame.append method is deprecated and will be removed from pandas in a future version. Use pandas.concat instead.\n",
      "  results_df = results_df.append({\"URL\": url, \"ElementCount\": element_count}, ignore_index=True)\n"
     ]
    },
    {
     "name": "stdout",
     "output_type": "stream",
     "text": [
      "URL: https://chat.openai.com/share/5a308d19-0d59-4909-acb2-0d1c2635fc3d, Elements with class names: 18\n"
     ]
    },
    {
     "name": "stderr",
     "output_type": "stream",
     "text": [
      "C:\\Users\\dell\\AppData\\Local\\Temp\\ipykernel_14856\\1829702115.py:42: FutureWarning: The frame.append method is deprecated and will be removed from pandas in a future version. Use pandas.concat instead.\n",
      "  results_df = results_df.append({\"URL\": url, \"ElementCount\": element_count}, ignore_index=True)\n"
     ]
    },
    {
     "name": "stdout",
     "output_type": "stream",
     "text": [
      "URL: https://chat.openai.com/share/65808a05-a3ea-482e-982d-854c4f4293b1, Elements with class names: 2\n",
      "Error counting elements on https://chat.openai.com/share/5f3f2019-2051-4217-93ea-c926fa3c2749: Waiting for selector \".font-semibold.select-none\" failed: timeout 30000ms exceeds.\n"
     ]
    },
    {
     "name": "stderr",
     "output_type": "stream",
     "text": [
      "C:\\Users\\dell\\AppData\\Local\\Temp\\ipykernel_14856\\1829702115.py:42: FutureWarning: The frame.append method is deprecated and will be removed from pandas in a future version. Use pandas.concat instead.\n",
      "  results_df = results_df.append({\"URL\": url, \"ElementCount\": element_count}, ignore_index=True)\n"
     ]
    },
    {
     "name": "stdout",
     "output_type": "stream",
     "text": [
      "URL: https://chat.openai.com/share/5f3f2019-2051-4217-93ea-c926fa3c2749, Elements with class names: 0\n"
     ]
    },
    {
     "name": "stderr",
     "output_type": "stream",
     "text": [
      "C:\\Users\\dell\\AppData\\Local\\Temp\\ipykernel_14856\\1829702115.py:42: FutureWarning: The frame.append method is deprecated and will be removed from pandas in a future version. Use pandas.concat instead.\n",
      "  results_df = results_df.append({\"URL\": url, \"ElementCount\": element_count}, ignore_index=True)\n"
     ]
    },
    {
     "name": "stdout",
     "output_type": "stream",
     "text": [
      "URL: https://chat.openai.com/share/7a6a0b57-add1-45fc-9051-62edfa5b5fbd, Elements with class names: 6\n"
     ]
    },
    {
     "name": "stderr",
     "output_type": "stream",
     "text": [
      "C:\\Users\\dell\\AppData\\Local\\Temp\\ipykernel_14856\\1829702115.py:42: FutureWarning: The frame.append method is deprecated and will be removed from pandas in a future version. Use pandas.concat instead.\n",
      "  results_df = results_df.append({\"URL\": url, \"ElementCount\": element_count}, ignore_index=True)\n"
     ]
    },
    {
     "name": "stdout",
     "output_type": "stream",
     "text": [
      "URL: https://chat.openai.com/share/60f20280-ae30-4b76-b146-258196be8b68, Elements with class names: 2\n"
     ]
    },
    {
     "name": "stderr",
     "output_type": "stream",
     "text": [
      "C:\\Users\\dell\\AppData\\Local\\Temp\\ipykernel_14856\\1829702115.py:42: FutureWarning: The frame.append method is deprecated and will be removed from pandas in a future version. Use pandas.concat instead.\n",
      "  results_df = results_df.append({\"URL\": url, \"ElementCount\": element_count}, ignore_index=True)\n"
     ]
    },
    {
     "name": "stdout",
     "output_type": "stream",
     "text": [
      "URL: https://chat.openai.com/share/18f74710-af16-4af7-8969-987a45b51ced, Elements with class names: 6\n"
     ]
    },
    {
     "name": "stderr",
     "output_type": "stream",
     "text": [
      "C:\\Users\\dell\\AppData\\Local\\Temp\\ipykernel_14856\\1829702115.py:42: FutureWarning: The frame.append method is deprecated and will be removed from pandas in a future version. Use pandas.concat instead.\n",
      "  results_df = results_df.append({\"URL\": url, \"ElementCount\": element_count}, ignore_index=True)\n"
     ]
    },
    {
     "name": "stdout",
     "output_type": "stream",
     "text": [
      "URL: https://chat.openai.com/share/931e6a20-daca-44d6-b3f5-845ee488eb10, Elements with class names: 2\n"
     ]
    },
    {
     "name": "stderr",
     "output_type": "stream",
     "text": [
      "C:\\Users\\dell\\AppData\\Local\\Temp\\ipykernel_14856\\1829702115.py:42: FutureWarning: The frame.append method is deprecated and will be removed from pandas in a future version. Use pandas.concat instead.\n",
      "  results_df = results_df.append({\"URL\": url, \"ElementCount\": element_count}, ignore_index=True)\n"
     ]
    },
    {
     "name": "stdout",
     "output_type": "stream",
     "text": [
      "URL: https://chat.openai.com/share/ad9c594c-0bc7-4658-a301-aa7211a1d441, Elements with class names: 2\n",
      "Error counting elements on https://chat.openai.com/share/8ae7436e-491b-4f02-b74a-5cee693ad94f: Waiting for selector \".font-semibold.select-none\" failed: timeout 30000ms exceeds.\n"
     ]
    },
    {
     "name": "stderr",
     "output_type": "stream",
     "text": [
      "C:\\Users\\dell\\AppData\\Local\\Temp\\ipykernel_14856\\1829702115.py:42: FutureWarning: The frame.append method is deprecated and will be removed from pandas in a future version. Use pandas.concat instead.\n",
      "  results_df = results_df.append({\"URL\": url, \"ElementCount\": element_count}, ignore_index=True)\n"
     ]
    },
    {
     "name": "stdout",
     "output_type": "stream",
     "text": [
      "URL: https://chat.openai.com/share/8ae7436e-491b-4f02-b74a-5cee693ad94f, Elements with class names: 0\n"
     ]
    },
    {
     "name": "stderr",
     "output_type": "stream",
     "text": [
      "C:\\Users\\dell\\AppData\\Local\\Temp\\ipykernel_14856\\1829702115.py:42: FutureWarning: The frame.append method is deprecated and will be removed from pandas in a future version. Use pandas.concat instead.\n",
      "  results_df = results_df.append({\"URL\": url, \"ElementCount\": element_count}, ignore_index=True)\n"
     ]
    },
    {
     "name": "stdout",
     "output_type": "stream",
     "text": [
      "URL: https://chat.openai.com/share/6df8adc2-c6a4-4aad-8ac8-4f401aa2b926, Elements with class names: 8\n"
     ]
    },
    {
     "name": "stderr",
     "output_type": "stream",
     "text": [
      "C:\\Users\\dell\\AppData\\Local\\Temp\\ipykernel_14856\\1829702115.py:42: FutureWarning: The frame.append method is deprecated and will be removed from pandas in a future version. Use pandas.concat instead.\n",
      "  results_df = results_df.append({\"URL\": url, \"ElementCount\": element_count}, ignore_index=True)\n"
     ]
    },
    {
     "name": "stdout",
     "output_type": "stream",
     "text": [
      "URL: https://chat.openai.com/share/787eb93d-2032-4eec-8fde-9c4e81f4b84a, Elements with class names: 4\n"
     ]
    },
    {
     "name": "stderr",
     "output_type": "stream",
     "text": [
      "C:\\Users\\dell\\AppData\\Local\\Temp\\ipykernel_14856\\1829702115.py:42: FutureWarning: The frame.append method is deprecated and will be removed from pandas in a future version. Use pandas.concat instead.\n",
      "  results_df = results_df.append({\"URL\": url, \"ElementCount\": element_count}, ignore_index=True)\n"
     ]
    },
    {
     "name": "stdout",
     "output_type": "stream",
     "text": [
      "URL: https://chat.openai.com/share/b11fdcab-f9dc-49b2-b0f0-8670ecb44f75, Elements with class names: 2\n"
     ]
    },
    {
     "name": "stderr",
     "output_type": "stream",
     "text": [
      "C:\\Users\\dell\\AppData\\Local\\Temp\\ipykernel_14856\\1829702115.py:42: FutureWarning: The frame.append method is deprecated and will be removed from pandas in a future version. Use pandas.concat instead.\n",
      "  results_df = results_df.append({\"URL\": url, \"ElementCount\": element_count}, ignore_index=True)\n"
     ]
    },
    {
     "name": "stdout",
     "output_type": "stream",
     "text": [
      "URL: https://chat.openai.com/share/75e92538-7be6-404e-b3f9-83da7d845c27, Elements with class names: 6\n"
     ]
    },
    {
     "name": "stderr",
     "output_type": "stream",
     "text": [
      "C:\\Users\\dell\\AppData\\Local\\Temp\\ipykernel_14856\\1829702115.py:42: FutureWarning: The frame.append method is deprecated and will be removed from pandas in a future version. Use pandas.concat instead.\n",
      "  results_df = results_df.append({\"URL\": url, \"ElementCount\": element_count}, ignore_index=True)\n"
     ]
    },
    {
     "name": "stdout",
     "output_type": "stream",
     "text": [
      "URL: https://chat.openai.com/share/a59c3f53-2fef-4c04-8f03-79441991cb32, Elements with class names: 2\n"
     ]
    },
    {
     "name": "stderr",
     "output_type": "stream",
     "text": [
      "C:\\Users\\dell\\AppData\\Local\\Temp\\ipykernel_14856\\1829702115.py:42: FutureWarning: The frame.append method is deprecated and will be removed from pandas in a future version. Use pandas.concat instead.\n",
      "  results_df = results_df.append({\"URL\": url, \"ElementCount\": element_count}, ignore_index=True)\n"
     ]
    },
    {
     "name": "stdout",
     "output_type": "stream",
     "text": [
      "URL: https://chat.openai.com/share/98aebdd1-328c-4016-9860-02583f9f18b7, Elements with class names: 24\n",
      "Error counting elements on https://chat.openai.com/share/4f5015cb-9ff6-4e3b-8702-ad3ea0f57dbb: Waiting for selector \".font-semibold.select-none\" failed: timeout 30000ms exceeds.\n"
     ]
    },
    {
     "name": "stderr",
     "output_type": "stream",
     "text": [
      "C:\\Users\\dell\\AppData\\Local\\Temp\\ipykernel_14856\\1829702115.py:42: FutureWarning: The frame.append method is deprecated and will be removed from pandas in a future version. Use pandas.concat instead.\n",
      "  results_df = results_df.append({\"URL\": url, \"ElementCount\": element_count}, ignore_index=True)\n"
     ]
    },
    {
     "name": "stdout",
     "output_type": "stream",
     "text": [
      "URL: https://chat.openai.com/share/4f5015cb-9ff6-4e3b-8702-ad3ea0f57dbb, Elements with class names: 0\n"
     ]
    },
    {
     "name": "stderr",
     "output_type": "stream",
     "text": [
      "C:\\Users\\dell\\AppData\\Local\\Temp\\ipykernel_14856\\1829702115.py:42: FutureWarning: The frame.append method is deprecated and will be removed from pandas in a future version. Use pandas.concat instead.\n",
      "  results_df = results_df.append({\"URL\": url, \"ElementCount\": element_count}, ignore_index=True)\n"
     ]
    },
    {
     "name": "stdout",
     "output_type": "stream",
     "text": [
      "URL: https://chat.openai.com/share/0f065845-8df1-4133-a70e-aaac5111a034, Elements with class names: 2\n"
     ]
    },
    {
     "name": "stderr",
     "output_type": "stream",
     "text": [
      "C:\\Users\\dell\\AppData\\Local\\Temp\\ipykernel_14856\\1829702115.py:42: FutureWarning: The frame.append method is deprecated and will be removed from pandas in a future version. Use pandas.concat instead.\n",
      "  results_df = results_df.append({\"URL\": url, \"ElementCount\": element_count}, ignore_index=True)\n"
     ]
    },
    {
     "name": "stdout",
     "output_type": "stream",
     "text": [
      "URL: https://chat.openai.com/share/12ba06e2-f0e1-4eab-89c9-b9157b0fa01c, Elements with class names: 32\n"
     ]
    },
    {
     "name": "stderr",
     "output_type": "stream",
     "text": [
      "C:\\Users\\dell\\AppData\\Local\\Temp\\ipykernel_14856\\1829702115.py:42: FutureWarning: The frame.append method is deprecated and will be removed from pandas in a future version. Use pandas.concat instead.\n",
      "  results_df = results_df.append({\"URL\": url, \"ElementCount\": element_count}, ignore_index=True)\n"
     ]
    },
    {
     "name": "stdout",
     "output_type": "stream",
     "text": [
      "URL: https://chat.openai.com/share/899a363c-37a5-427e-be63-58c780fdd06d, Elements with class names: 14\n",
      "Error counting elements on https://chat.openai.com/share/313c53ee-61cc-44c6-821c-15e78f6c8663: Waiting for selector \".font-semibold.select-none\" failed: timeout 30000ms exceeds.\n"
     ]
    },
    {
     "name": "stderr",
     "output_type": "stream",
     "text": [
      "C:\\Users\\dell\\AppData\\Local\\Temp\\ipykernel_14856\\1829702115.py:42: FutureWarning: The frame.append method is deprecated and will be removed from pandas in a future version. Use pandas.concat instead.\n",
      "  results_df = results_df.append({\"URL\": url, \"ElementCount\": element_count}, ignore_index=True)\n"
     ]
    },
    {
     "name": "stdout",
     "output_type": "stream",
     "text": [
      "URL: https://chat.openai.com/share/313c53ee-61cc-44c6-821c-15e78f6c8663, Elements with class names: 0\n",
      "Error counting elements on https://chat.openai.com/share/aa6b5463-0d06-45d5-8ecf-57464d0bd0f2: Waiting for selector \".font-semibold.select-none\" failed: timeout 30000ms exceeds.\n"
     ]
    },
    {
     "name": "stderr",
     "output_type": "stream",
     "text": [
      "C:\\Users\\dell\\AppData\\Local\\Temp\\ipykernel_14856\\1829702115.py:42: FutureWarning: The frame.append method is deprecated and will be removed from pandas in a future version. Use pandas.concat instead.\n",
      "  results_df = results_df.append({\"URL\": url, \"ElementCount\": element_count}, ignore_index=True)\n"
     ]
    },
    {
     "name": "stdout",
     "output_type": "stream",
     "text": [
      "URL: https://chat.openai.com/share/aa6b5463-0d06-45d5-8ecf-57464d0bd0f2, Elements with class names: 0\n",
      "Error counting elements on https://chat.openai.com/share/c86ee413-f6c1-4c02-9b09-0811dfaf7895: Waiting for selector \".font-semibold.select-none\" failed: timeout 30000ms exceeds.\n"
     ]
    },
    {
     "name": "stderr",
     "output_type": "stream",
     "text": [
      "C:\\Users\\dell\\AppData\\Local\\Temp\\ipykernel_14856\\1829702115.py:42: FutureWarning: The frame.append method is deprecated and will be removed from pandas in a future version. Use pandas.concat instead.\n",
      "  results_df = results_df.append({\"URL\": url, \"ElementCount\": element_count}, ignore_index=True)\n"
     ]
    },
    {
     "name": "stdout",
     "output_type": "stream",
     "text": [
      "URL: https://chat.openai.com/share/c86ee413-f6c1-4c02-9b09-0811dfaf7895, Elements with class names: 0\n",
      "Error counting elements on https://chat.openai.com/share/f780d87c-3a03-4ff1-9485-c5d28a282ee1: Waiting for selector \".font-semibold.select-none\" failed: timeout 30000ms exceeds.\n"
     ]
    },
    {
     "name": "stderr",
     "output_type": "stream",
     "text": [
      "C:\\Users\\dell\\AppData\\Local\\Temp\\ipykernel_14856\\1829702115.py:42: FutureWarning: The frame.append method is deprecated and will be removed from pandas in a future version. Use pandas.concat instead.\n",
      "  results_df = results_df.append({\"URL\": url, \"ElementCount\": element_count}, ignore_index=True)\n"
     ]
    },
    {
     "name": "stdout",
     "output_type": "stream",
     "text": [
      "URL: https://chat.openai.com/share/f780d87c-3a03-4ff1-9485-c5d28a282ee1, Elements with class names: 0\n"
     ]
    },
    {
     "name": "stderr",
     "output_type": "stream",
     "text": [
      "C:\\Users\\dell\\AppData\\Local\\Temp\\ipykernel_14856\\1829702115.py:42: FutureWarning: The frame.append method is deprecated and will be removed from pandas in a future version. Use pandas.concat instead.\n",
      "  results_df = results_df.append({\"URL\": url, \"ElementCount\": element_count}, ignore_index=True)\n"
     ]
    },
    {
     "name": "stdout",
     "output_type": "stream",
     "text": [
      "URL: https://chat.openai.com/share/a9e4292c-929e-4d0b-93f9-4a501957ce42, Elements with class names: 10\n"
     ]
    },
    {
     "name": "stderr",
     "output_type": "stream",
     "text": [
      "C:\\Users\\dell\\AppData\\Local\\Temp\\ipykernel_14856\\1829702115.py:42: FutureWarning: The frame.append method is deprecated and will be removed from pandas in a future version. Use pandas.concat instead.\n",
      "  results_df = results_df.append({\"URL\": url, \"ElementCount\": element_count}, ignore_index=True)\n"
     ]
    },
    {
     "name": "stdout",
     "output_type": "stream",
     "text": [
      "URL: https://chat.openai.com/share/820bd765-ac2c-4b92-b2c3-083937c49a93, Elements with class names: 14\n"
     ]
    },
    {
     "name": "stderr",
     "output_type": "stream",
     "text": [
      "C:\\Users\\dell\\AppData\\Local\\Temp\\ipykernel_14856\\1829702115.py:42: FutureWarning: The frame.append method is deprecated and will be removed from pandas in a future version. Use pandas.concat instead.\n",
      "  results_df = results_df.append({\"URL\": url, \"ElementCount\": element_count}, ignore_index=True)\n"
     ]
    },
    {
     "name": "stdout",
     "output_type": "stream",
     "text": [
      "URL: https://chat.openai.com/share/57140803-d03f-41bb-b310-2ca29d341421, Elements with class names: 2\n",
      "Error counting elements on https://chat.openai.com/share/fe27a52f-44c0-460a-b857-e848469048c5: Waiting for selector \".font-semibold.select-none\" failed: timeout 30000ms exceeds.\n"
     ]
    },
    {
     "name": "stderr",
     "output_type": "stream",
     "text": [
      "C:\\Users\\dell\\AppData\\Local\\Temp\\ipykernel_14856\\1829702115.py:42: FutureWarning: The frame.append method is deprecated and will be removed from pandas in a future version. Use pandas.concat instead.\n",
      "  results_df = results_df.append({\"URL\": url, \"ElementCount\": element_count}, ignore_index=True)\n"
     ]
    },
    {
     "name": "stdout",
     "output_type": "stream",
     "text": [
      "URL: https://chat.openai.com/share/fe27a52f-44c0-460a-b857-e848469048c5, Elements with class names: 0\n"
     ]
    },
    {
     "name": "stderr",
     "output_type": "stream",
     "text": [
      "C:\\Users\\dell\\AppData\\Local\\Temp\\ipykernel_14856\\1829702115.py:42: FutureWarning: The frame.append method is deprecated and will be removed from pandas in a future version. Use pandas.concat instead.\n",
      "  results_df = results_df.append({\"URL\": url, \"ElementCount\": element_count}, ignore_index=True)\n"
     ]
    },
    {
     "name": "stdout",
     "output_type": "stream",
     "text": [
      "URL: https://chat.openai.com/share/8142378b-57e8-446e-8cff-b351c59f44bc, Elements with class names: 140\n",
      "Error counting elements on https://chat.openai.com/share/ddd9e3a9-b41d-40b7-b5f0-21c745e9c4e1: Waiting for selector \".font-semibold.select-none\" failed: timeout 30000ms exceeds.\n"
     ]
    },
    {
     "name": "stderr",
     "output_type": "stream",
     "text": [
      "C:\\Users\\dell\\AppData\\Local\\Temp\\ipykernel_14856\\1829702115.py:42: FutureWarning: The frame.append method is deprecated and will be removed from pandas in a future version. Use pandas.concat instead.\n",
      "  results_df = results_df.append({\"URL\": url, \"ElementCount\": element_count}, ignore_index=True)\n"
     ]
    },
    {
     "name": "stdout",
     "output_type": "stream",
     "text": [
      "URL: https://chat.openai.com/share/ddd9e3a9-b41d-40b7-b5f0-21c745e9c4e1, Elements with class names: 0\n"
     ]
    },
    {
     "name": "stderr",
     "output_type": "stream",
     "text": [
      "C:\\Users\\dell\\AppData\\Local\\Temp\\ipykernel_14856\\1829702115.py:42: FutureWarning: The frame.append method is deprecated and will be removed from pandas in a future version. Use pandas.concat instead.\n",
      "  results_df = results_df.append({\"URL\": url, \"ElementCount\": element_count}, ignore_index=True)\n"
     ]
    },
    {
     "name": "stdout",
     "output_type": "stream",
     "text": [
      "URL: https://chat.openai.com/share/2db8a303-c2d4-4f54-b581-ea7023dfdcfd, Elements with class names: 4\n"
     ]
    },
    {
     "name": "stderr",
     "output_type": "stream",
     "text": [
      "C:\\Users\\dell\\AppData\\Local\\Temp\\ipykernel_14856\\1829702115.py:42: FutureWarning: The frame.append method is deprecated and will be removed from pandas in a future version. Use pandas.concat instead.\n",
      "  results_df = results_df.append({\"URL\": url, \"ElementCount\": element_count}, ignore_index=True)\n"
     ]
    },
    {
     "name": "stdout",
     "output_type": "stream",
     "text": [
      "URL: https://chat.openai.com/share/07c15419-e600-421c-906a-8a3d9a87a81b, Elements with class names: 4\n"
     ]
    },
    {
     "name": "stderr",
     "output_type": "stream",
     "text": [
      "C:\\Users\\dell\\AppData\\Local\\Temp\\ipykernel_14856\\1829702115.py:42: FutureWarning: The frame.append method is deprecated and will be removed from pandas in a future version. Use pandas.concat instead.\n",
      "  results_df = results_df.append({\"URL\": url, \"ElementCount\": element_count}, ignore_index=True)\n"
     ]
    },
    {
     "name": "stdout",
     "output_type": "stream",
     "text": [
      "URL: https://chat.openai.com/share/a28277fc-807a-4227-967a-cf1ad92cd288, Elements with class names: 8\n"
     ]
    },
    {
     "name": "stderr",
     "output_type": "stream",
     "text": [
      "C:\\Users\\dell\\AppData\\Local\\Temp\\ipykernel_14856\\1829702115.py:42: FutureWarning: The frame.append method is deprecated and will be removed from pandas in a future version. Use pandas.concat instead.\n",
      "  results_df = results_df.append({\"URL\": url, \"ElementCount\": element_count}, ignore_index=True)\n"
     ]
    },
    {
     "name": "stdout",
     "output_type": "stream",
     "text": [
      "URL: https://chat.openai.com/share/02a0fddd-807c-4a0e-bb79-367c2660abe4, Elements with class names: 24\n"
     ]
    },
    {
     "name": "stderr",
     "output_type": "stream",
     "text": [
      "C:\\Users\\dell\\AppData\\Local\\Temp\\ipykernel_14856\\1829702115.py:42: FutureWarning: The frame.append method is deprecated and will be removed from pandas in a future version. Use pandas.concat instead.\n",
      "  results_df = results_df.append({\"URL\": url, \"ElementCount\": element_count}, ignore_index=True)\n"
     ]
    },
    {
     "name": "stdout",
     "output_type": "stream",
     "text": [
      "URL: https://chat.openai.com/share/862a6123-fb6a-4f89-9134-5a06fc43b01e, Elements with class names: 2\n"
     ]
    },
    {
     "name": "stderr",
     "output_type": "stream",
     "text": [
      "C:\\Users\\dell\\AppData\\Local\\Temp\\ipykernel_14856\\1829702115.py:42: FutureWarning: The frame.append method is deprecated and will be removed from pandas in a future version. Use pandas.concat instead.\n",
      "  results_df = results_df.append({\"URL\": url, \"ElementCount\": element_count}, ignore_index=True)\n"
     ]
    },
    {
     "name": "stdout",
     "output_type": "stream",
     "text": [
      "URL: https://chat.openai.com/share/fbf98147-3987-4d75-b7c5-52b67a1048a6, Elements with class names: 2\n"
     ]
    },
    {
     "name": "stderr",
     "output_type": "stream",
     "text": [
      "C:\\Users\\dell\\AppData\\Local\\Temp\\ipykernel_14856\\1829702115.py:42: FutureWarning: The frame.append method is deprecated and will be removed from pandas in a future version. Use pandas.concat instead.\n",
      "  results_df = results_df.append({\"URL\": url, \"ElementCount\": element_count}, ignore_index=True)\n"
     ]
    },
    {
     "name": "stdout",
     "output_type": "stream",
     "text": [
      "URL: https://chat.openai.com/share/99b39e15-397a-496c-8689-1d023344b37d, Elements with class names: 8\n"
     ]
    },
    {
     "name": "stderr",
     "output_type": "stream",
     "text": [
      "C:\\Users\\dell\\AppData\\Local\\Temp\\ipykernel_14856\\1829702115.py:42: FutureWarning: The frame.append method is deprecated and will be removed from pandas in a future version. Use pandas.concat instead.\n",
      "  results_df = results_df.append({\"URL\": url, \"ElementCount\": element_count}, ignore_index=True)\n"
     ]
    },
    {
     "name": "stdout",
     "output_type": "stream",
     "text": [
      "URL: https://chat.openai.com/share/48c25d80-fe7c-4b67-8983-14fd74d26a96, Elements with class names: 48\n"
     ]
    },
    {
     "name": "stderr",
     "output_type": "stream",
     "text": [
      "C:\\Users\\dell\\AppData\\Local\\Temp\\ipykernel_14856\\1829702115.py:42: FutureWarning: The frame.append method is deprecated and will be removed from pandas in a future version. Use pandas.concat instead.\n",
      "  results_df = results_df.append({\"URL\": url, \"ElementCount\": element_count}, ignore_index=True)\n"
     ]
    },
    {
     "name": "stdout",
     "output_type": "stream",
     "text": [
      "URL: https://chat.openai.com/share/ac7686b3-44e8-4df0-82ec-4bcab2288b73, Elements with class names: 6\n"
     ]
    },
    {
     "name": "stderr",
     "output_type": "stream",
     "text": [
      "C:\\Users\\dell\\AppData\\Local\\Temp\\ipykernel_14856\\1829702115.py:42: FutureWarning: The frame.append method is deprecated and will be removed from pandas in a future version. Use pandas.concat instead.\n",
      "  results_df = results_df.append({\"URL\": url, \"ElementCount\": element_count}, ignore_index=True)\n"
     ]
    },
    {
     "name": "stdout",
     "output_type": "stream",
     "text": [
      "URL: https://chat.openai.com/share/0f065845-8df1-4133-a70e-aaac5111a034, Elements with class names: 2\n"
     ]
    },
    {
     "name": "stderr",
     "output_type": "stream",
     "text": [
      "C:\\Users\\dell\\AppData\\Local\\Temp\\ipykernel_14856\\1829702115.py:42: FutureWarning: The frame.append method is deprecated and will be removed from pandas in a future version. Use pandas.concat instead.\n",
      "  results_df = results_df.append({\"URL\": url, \"ElementCount\": element_count}, ignore_index=True)\n"
     ]
    },
    {
     "name": "stdout",
     "output_type": "stream",
     "text": [
      "URL: https://chat.openai.com/share/12ba06e2-f0e1-4eab-89c9-b9157b0fa01c, Elements with class names: 32\n"
     ]
    },
    {
     "name": "stderr",
     "output_type": "stream",
     "text": [
      "C:\\Users\\dell\\AppData\\Local\\Temp\\ipykernel_14856\\1829702115.py:42: FutureWarning: The frame.append method is deprecated and will be removed from pandas in a future version. Use pandas.concat instead.\n",
      "  results_df = results_df.append({\"URL\": url, \"ElementCount\": element_count}, ignore_index=True)\n"
     ]
    },
    {
     "name": "stdout",
     "output_type": "stream",
     "text": [
      "URL: https://chat.openai.com/share/899a363c-37a5-427e-be63-58c780fdd06d, Elements with class names: 14\n",
      "Error counting elements on https://chat.openai.com/share/313c53ee-61cc-44c6-821c-15e78f6c8663: Waiting for selector \".font-semibold.select-none\" failed: timeout 30000ms exceeds.\n"
     ]
    },
    {
     "name": "stderr",
     "output_type": "stream",
     "text": [
      "C:\\Users\\dell\\AppData\\Local\\Temp\\ipykernel_14856\\1829702115.py:42: FutureWarning: The frame.append method is deprecated and will be removed from pandas in a future version. Use pandas.concat instead.\n",
      "  results_df = results_df.append({\"URL\": url, \"ElementCount\": element_count}, ignore_index=True)\n"
     ]
    },
    {
     "name": "stdout",
     "output_type": "stream",
     "text": [
      "URL: https://chat.openai.com/share/313c53ee-61cc-44c6-821c-15e78f6c8663, Elements with class names: 0\n"
     ]
    },
    {
     "name": "stderr",
     "output_type": "stream",
     "text": [
      "C:\\Users\\dell\\AppData\\Local\\Temp\\ipykernel_14856\\1829702115.py:42: FutureWarning: The frame.append method is deprecated and will be removed from pandas in a future version. Use pandas.concat instead.\n",
      "  results_df = results_df.append({\"URL\": url, \"ElementCount\": element_count}, ignore_index=True)\n"
     ]
    },
    {
     "name": "stdout",
     "output_type": "stream",
     "text": [
      "URL: https://chat.openai.com/share/d1a3a2b3-57da-4412-80f9-53cb40465e05, Elements with class names: 2\n"
     ]
    },
    {
     "name": "stderr",
     "output_type": "stream",
     "text": [
      "C:\\Users\\dell\\AppData\\Local\\Temp\\ipykernel_14856\\1829702115.py:42: FutureWarning: The frame.append method is deprecated and will be removed from pandas in a future version. Use pandas.concat instead.\n",
      "  results_df = results_df.append({\"URL\": url, \"ElementCount\": element_count}, ignore_index=True)\n"
     ]
    },
    {
     "name": "stdout",
     "output_type": "stream",
     "text": [
      "URL: https://chat.openai.com/share/04d9a93f-f0f5-4f90-bf6d-9e5fe83c5f92, Elements with class names: 6\n"
     ]
    },
    {
     "name": "stderr",
     "output_type": "stream",
     "text": [
      "C:\\Users\\dell\\AppData\\Local\\Temp\\ipykernel_14856\\1829702115.py:42: FutureWarning: The frame.append method is deprecated and will be removed from pandas in a future version. Use pandas.concat instead.\n",
      "  results_df = results_df.append({\"URL\": url, \"ElementCount\": element_count}, ignore_index=True)\n"
     ]
    },
    {
     "name": "stdout",
     "output_type": "stream",
     "text": [
      "URL: https://chat.openai.com/share/d9036192-7b76-477e-aecb-31568aa855cd, Elements with class names: 8\n",
      "Error counting elements on https://chat.openai.com/share/ca5e0c33-7a19-41a1-8f8a-b146b68e2d1a: Waiting for selector \".font-semibold.select-none\" failed: timeout 30000ms exceeds.\n"
     ]
    },
    {
     "name": "stderr",
     "output_type": "stream",
     "text": [
      "C:\\Users\\dell\\AppData\\Local\\Temp\\ipykernel_14856\\1829702115.py:42: FutureWarning: The frame.append method is deprecated and will be removed from pandas in a future version. Use pandas.concat instead.\n",
      "  results_df = results_df.append({\"URL\": url, \"ElementCount\": element_count}, ignore_index=True)\n"
     ]
    },
    {
     "name": "stdout",
     "output_type": "stream",
     "text": [
      "URL: https://chat.openai.com/share/ca5e0c33-7a19-41a1-8f8a-b146b68e2d1a, Elements with class names: 0\n"
     ]
    },
    {
     "name": "stderr",
     "output_type": "stream",
     "text": [
      "C:\\Users\\dell\\AppData\\Local\\Temp\\ipykernel_14856\\1829702115.py:42: FutureWarning: The frame.append method is deprecated and will be removed from pandas in a future version. Use pandas.concat instead.\n",
      "  results_df = results_df.append({\"URL\": url, \"ElementCount\": element_count}, ignore_index=True)\n"
     ]
    },
    {
     "name": "stdout",
     "output_type": "stream",
     "text": [
      "URL: https://chat.openai.com/share/1171acc9-67dc-4445-bb89-da6b0c9063f8, Elements with class names: 10\n"
     ]
    },
    {
     "name": "stderr",
     "output_type": "stream",
     "text": [
      "C:\\Users\\dell\\AppData\\Local\\Temp\\ipykernel_14856\\1829702115.py:42: FutureWarning: The frame.append method is deprecated and will be removed from pandas in a future version. Use pandas.concat instead.\n",
      "  results_df = results_df.append({\"URL\": url, \"ElementCount\": element_count}, ignore_index=True)\n"
     ]
    },
    {
     "name": "stdout",
     "output_type": "stream",
     "text": [
      "URL: https://chat.openai.com/share/b623a798-5121-4817-9d5a-5d95f627727f, Elements with class names: 6\n",
      "Error counting elements on https://chat.openai.com/share/b360c7e8-4dfd-45e1-82cd-f788560c077f: Waiting for selector \".font-semibold.select-none\" failed: timeout 30000ms exceeds.\n"
     ]
    },
    {
     "name": "stderr",
     "output_type": "stream",
     "text": [
      "C:\\Users\\dell\\AppData\\Local\\Temp\\ipykernel_14856\\1829702115.py:42: FutureWarning: The frame.append method is deprecated and will be removed from pandas in a future version. Use pandas.concat instead.\n",
      "  results_df = results_df.append({\"URL\": url, \"ElementCount\": element_count}, ignore_index=True)\n"
     ]
    },
    {
     "name": "stdout",
     "output_type": "stream",
     "text": [
      "URL: https://chat.openai.com/share/b360c7e8-4dfd-45e1-82cd-f788560c077f, Elements with class names: 0\n",
      "Error counting elements on https://chat.openai.com/share/fb48b25d-2c68-4a05-909a-725c35dd1dfa: Waiting for selector \".font-semibold.select-none\" failed: timeout 30000ms exceeds.\n"
     ]
    },
    {
     "name": "stderr",
     "output_type": "stream",
     "text": [
      "C:\\Users\\dell\\AppData\\Local\\Temp\\ipykernel_14856\\1829702115.py:42: FutureWarning: The frame.append method is deprecated and will be removed from pandas in a future version. Use pandas.concat instead.\n",
      "  results_df = results_df.append({\"URL\": url, \"ElementCount\": element_count}, ignore_index=True)\n"
     ]
    },
    {
     "name": "stdout",
     "output_type": "stream",
     "text": [
      "URL: https://chat.openai.com/share/fb48b25d-2c68-4a05-909a-725c35dd1dfa, Elements with class names: 0\n"
     ]
    },
    {
     "name": "stderr",
     "output_type": "stream",
     "text": [
      "C:\\Users\\dell\\AppData\\Local\\Temp\\ipykernel_14856\\1829702115.py:42: FutureWarning: The frame.append method is deprecated and will be removed from pandas in a future version. Use pandas.concat instead.\n",
      "  results_df = results_df.append({\"URL\": url, \"ElementCount\": element_count}, ignore_index=True)\n"
     ]
    },
    {
     "name": "stdout",
     "output_type": "stream",
     "text": [
      "URL: https://chat.openai.com/share/7088f903-4169-494a-b1d3-b63d895f18b8, Elements with class names: 20\n"
     ]
    },
    {
     "name": "stderr",
     "output_type": "stream",
     "text": [
      "C:\\Users\\dell\\AppData\\Local\\Temp\\ipykernel_14856\\1829702115.py:42: FutureWarning: The frame.append method is deprecated and will be removed from pandas in a future version. Use pandas.concat instead.\n",
      "  results_df = results_df.append({\"URL\": url, \"ElementCount\": element_count}, ignore_index=True)\n"
     ]
    },
    {
     "name": "stdout",
     "output_type": "stream",
     "text": [
      "URL: https://chat.openai.com/share/a11e1f50-dce6-4e11-b351-9b4c02d52443, Elements with class names: 20\n"
     ]
    },
    {
     "name": "stderr",
     "output_type": "stream",
     "text": [
      "C:\\Users\\dell\\AppData\\Local\\Temp\\ipykernel_14856\\1829702115.py:42: FutureWarning: The frame.append method is deprecated and will be removed from pandas in a future version. Use pandas.concat instead.\n",
      "  results_df = results_df.append({\"URL\": url, \"ElementCount\": element_count}, ignore_index=True)\n"
     ]
    },
    {
     "name": "stdout",
     "output_type": "stream",
     "text": [
      "URL: https://chat.openai.com/share/25ab992d-b3c7-4f32-8fb5-fd95b9fa4137, Elements with class names: 2\n"
     ]
    },
    {
     "name": "stderr",
     "output_type": "stream",
     "text": [
      "C:\\Users\\dell\\AppData\\Local\\Temp\\ipykernel_14856\\1829702115.py:42: FutureWarning: The frame.append method is deprecated and will be removed from pandas in a future version. Use pandas.concat instead.\n",
      "  results_df = results_df.append({\"URL\": url, \"ElementCount\": element_count}, ignore_index=True)\n"
     ]
    },
    {
     "name": "stdout",
     "output_type": "stream",
     "text": [
      "URL: https://chat.openai.com/share/0fda7643-3e82-46f3-a587-ec3c960d5c3f, Elements with class names: 2\n"
     ]
    },
    {
     "name": "stderr",
     "output_type": "stream",
     "text": [
      "C:\\Users\\dell\\AppData\\Local\\Temp\\ipykernel_14856\\1829702115.py:42: FutureWarning: The frame.append method is deprecated and will be removed from pandas in a future version. Use pandas.concat instead.\n",
      "  results_df = results_df.append({\"URL\": url, \"ElementCount\": element_count}, ignore_index=True)\n"
     ]
    },
    {
     "name": "stdout",
     "output_type": "stream",
     "text": [
      "URL: https://chat.openai.com/share/21c6d967-aa39-422c-b7ca-d2d1a327b891, Elements with class names: 32\n",
      "Error counting elements on https://chat.openai.com/share/1eea115e-13c3-4da2-a416-df9b32d36cd9: Waiting for selector \".font-semibold.select-none\" failed: timeout 30000ms exceeds.\n"
     ]
    },
    {
     "name": "stderr",
     "output_type": "stream",
     "text": [
      "C:\\Users\\dell\\AppData\\Local\\Temp\\ipykernel_14856\\1829702115.py:42: FutureWarning: The frame.append method is deprecated and will be removed from pandas in a future version. Use pandas.concat instead.\n",
      "  results_df = results_df.append({\"URL\": url, \"ElementCount\": element_count}, ignore_index=True)\n"
     ]
    },
    {
     "name": "stdout",
     "output_type": "stream",
     "text": [
      "URL: https://chat.openai.com/share/1eea115e-13c3-4da2-a416-df9b32d36cd9, Elements with class names: 0\n"
     ]
    },
    {
     "name": "stderr",
     "output_type": "stream",
     "text": [
      "C:\\Users\\dell\\AppData\\Local\\Temp\\ipykernel_14856\\1829702115.py:42: FutureWarning: The frame.append method is deprecated and will be removed from pandas in a future version. Use pandas.concat instead.\n",
      "  results_df = results_df.append({\"URL\": url, \"ElementCount\": element_count}, ignore_index=True)\n"
     ]
    },
    {
     "name": "stdout",
     "output_type": "stream",
     "text": [
      "URL: https://chat.openai.com/share/e61d2dc2-dbcc-4b7b-9d77-9199c599dfd1, Elements with class names: 8\n"
     ]
    },
    {
     "name": "stderr",
     "output_type": "stream",
     "text": [
      "C:\\Users\\dell\\AppData\\Local\\Temp\\ipykernel_14856\\1829702115.py:42: FutureWarning: The frame.append method is deprecated and will be removed from pandas in a future version. Use pandas.concat instead.\n",
      "  results_df = results_df.append({\"URL\": url, \"ElementCount\": element_count}, ignore_index=True)\n"
     ]
    },
    {
     "name": "stdout",
     "output_type": "stream",
     "text": [
      "URL: https://chat.openai.com/share/47994f03-c459-46da-9e24-7f9e4c07090d, Elements with class names: 40\n"
     ]
    },
    {
     "name": "stderr",
     "output_type": "stream",
     "text": [
      "C:\\Users\\dell\\AppData\\Local\\Temp\\ipykernel_14856\\1829702115.py:42: FutureWarning: The frame.append method is deprecated and will be removed from pandas in a future version. Use pandas.concat instead.\n",
      "  results_df = results_df.append({\"URL\": url, \"ElementCount\": element_count}, ignore_index=True)\n"
     ]
    },
    {
     "name": "stdout",
     "output_type": "stream",
     "text": [
      "URL: https://chat.openai.com/share/3bdc1325-2634-4e5b-9609-a24980c779df, Elements with class names: 2\n"
     ]
    },
    {
     "name": "stderr",
     "output_type": "stream",
     "text": [
      "C:\\Users\\dell\\AppData\\Local\\Temp\\ipykernel_14856\\1829702115.py:42: FutureWarning: The frame.append method is deprecated and will be removed from pandas in a future version. Use pandas.concat instead.\n",
      "  results_df = results_df.append({\"URL\": url, \"ElementCount\": element_count}, ignore_index=True)\n"
     ]
    },
    {
     "name": "stdout",
     "output_type": "stream",
     "text": [
      "URL: https://chat.openai.com/share/31eba044-8b7b-4a66-9c3b-24e9f096f212, Elements with class names: 4\n"
     ]
    },
    {
     "name": "stderr",
     "output_type": "stream",
     "text": [
      "C:\\Users\\dell\\AppData\\Local\\Temp\\ipykernel_14856\\1829702115.py:42: FutureWarning: The frame.append method is deprecated and will be removed from pandas in a future version. Use pandas.concat instead.\n",
      "  results_df = results_df.append({\"URL\": url, \"ElementCount\": element_count}, ignore_index=True)\n"
     ]
    },
    {
     "name": "stdout",
     "output_type": "stream",
     "text": [
      "URL: https://chat.openai.com/share/a3319750-3392-4e7a-812a-d6494bef03ac, Elements with class names: 46\n"
     ]
    },
    {
     "name": "stderr",
     "output_type": "stream",
     "text": [
      "C:\\Users\\dell\\AppData\\Local\\Temp\\ipykernel_14856\\1829702115.py:42: FutureWarning: The frame.append method is deprecated and will be removed from pandas in a future version. Use pandas.concat instead.\n",
      "  results_df = results_df.append({\"URL\": url, \"ElementCount\": element_count}, ignore_index=True)\n"
     ]
    },
    {
     "name": "stdout",
     "output_type": "stream",
     "text": [
      "URL: https://chat.openai.com/share/e91a8a36-72c7-4d9e-9222-984ebae2b7bb, Elements with class names: 22\n"
     ]
    },
    {
     "name": "stderr",
     "output_type": "stream",
     "text": [
      "C:\\Users\\dell\\AppData\\Local\\Temp\\ipykernel_14856\\1829702115.py:42: FutureWarning: The frame.append method is deprecated and will be removed from pandas in a future version. Use pandas.concat instead.\n",
      "  results_df = results_df.append({\"URL\": url, \"ElementCount\": element_count}, ignore_index=True)\n"
     ]
    },
    {
     "name": "stdout",
     "output_type": "stream",
     "text": [
      "URL: https://chat.openai.com/share/68defc3c-ca48-4bd9-9171-4d4623a1db84, Elements with class names: 2\n"
     ]
    },
    {
     "name": "stderr",
     "output_type": "stream",
     "text": [
      "C:\\Users\\dell\\AppData\\Local\\Temp\\ipykernel_14856\\1829702115.py:42: FutureWarning: The frame.append method is deprecated and will be removed from pandas in a future version. Use pandas.concat instead.\n",
      "  results_df = results_df.append({\"URL\": url, \"ElementCount\": element_count}, ignore_index=True)\n"
     ]
    },
    {
     "name": "stdout",
     "output_type": "stream",
     "text": [
      "URL: https://chat.openai.com/share/bb9db3f2-25c7-4c96-b1e3-631bbe4494c3, Elements with class names: 26\n"
     ]
    },
    {
     "name": "stderr",
     "output_type": "stream",
     "text": [
      "C:\\Users\\dell\\AppData\\Local\\Temp\\ipykernel_14856\\1829702115.py:42: FutureWarning: The frame.append method is deprecated and will be removed from pandas in a future version. Use pandas.concat instead.\n",
      "  results_df = results_df.append({\"URL\": url, \"ElementCount\": element_count}, ignore_index=True)\n"
     ]
    },
    {
     "name": "stdout",
     "output_type": "stream",
     "text": [
      "URL: https://chat.openai.com/share/73b11481-76e4-4729-aae8-9ace9e300b0d, Elements with class names: 6\n"
     ]
    },
    {
     "name": "stderr",
     "output_type": "stream",
     "text": [
      "C:\\Users\\dell\\AppData\\Local\\Temp\\ipykernel_14856\\1829702115.py:42: FutureWarning: The frame.append method is deprecated and will be removed from pandas in a future version. Use pandas.concat instead.\n",
      "  results_df = results_df.append({\"URL\": url, \"ElementCount\": element_count}, ignore_index=True)\n"
     ]
    },
    {
     "name": "stdout",
     "output_type": "stream",
     "text": [
      "URL: https://chat.openai.com/share/4d44546d-7e67-435e-8b61-22c330ce7531, Elements with class names: 2\n"
     ]
    },
    {
     "name": "stderr",
     "output_type": "stream",
     "text": [
      "C:\\Users\\dell\\AppData\\Local\\Temp\\ipykernel_14856\\1829702115.py:42: FutureWarning: The frame.append method is deprecated and will be removed from pandas in a future version. Use pandas.concat instead.\n",
      "  results_df = results_df.append({\"URL\": url, \"ElementCount\": element_count}, ignore_index=True)\n"
     ]
    },
    {
     "name": "stdout",
     "output_type": "stream",
     "text": [
      "URL: https://chat.openai.com/share/1337586f-0891-4a72-bd1a-d58c63df437b, Elements with class names: 4\n"
     ]
    },
    {
     "name": "stderr",
     "output_type": "stream",
     "text": [
      "C:\\Users\\dell\\AppData\\Local\\Temp\\ipykernel_14856\\1829702115.py:42: FutureWarning: The frame.append method is deprecated and will be removed from pandas in a future version. Use pandas.concat instead.\n",
      "  results_df = results_df.append({\"URL\": url, \"ElementCount\": element_count}, ignore_index=True)\n"
     ]
    },
    {
     "name": "stdout",
     "output_type": "stream",
     "text": [
      "URL: https://chat.openai.com/share/71da41db-901f-40d1-a52b-c188c7167121, Elements with class names: 6\n"
     ]
    },
    {
     "name": "stderr",
     "output_type": "stream",
     "text": [
      "C:\\Users\\dell\\AppData\\Local\\Temp\\ipykernel_14856\\1829702115.py:42: FutureWarning: The frame.append method is deprecated and will be removed from pandas in a future version. Use pandas.concat instead.\n",
      "  results_df = results_df.append({\"URL\": url, \"ElementCount\": element_count}, ignore_index=True)\n"
     ]
    },
    {
     "name": "stdout",
     "output_type": "stream",
     "text": [
      "URL: https://chat.openai.com/share/f69d4023-fd39-456f-845e-bb04e3b0b302, Elements with class names: 62\n"
     ]
    },
    {
     "name": "stderr",
     "output_type": "stream",
     "text": [
      "C:\\Users\\dell\\AppData\\Local\\Temp\\ipykernel_14856\\1829702115.py:42: FutureWarning: The frame.append method is deprecated and will be removed from pandas in a future version. Use pandas.concat instead.\n",
      "  results_df = results_df.append({\"URL\": url, \"ElementCount\": element_count}, ignore_index=True)\n"
     ]
    },
    {
     "name": "stdout",
     "output_type": "stream",
     "text": [
      "URL: https://chat.openai.com/share/7a6313dc-001b-4a26-9ca7-b4963b284390, Elements with class names: 4\n"
     ]
    },
    {
     "name": "stderr",
     "output_type": "stream",
     "text": [
      "C:\\Users\\dell\\AppData\\Local\\Temp\\ipykernel_14856\\1829702115.py:42: FutureWarning: The frame.append method is deprecated and will be removed from pandas in a future version. Use pandas.concat instead.\n",
      "  results_df = results_df.append({\"URL\": url, \"ElementCount\": element_count}, ignore_index=True)\n"
     ]
    },
    {
     "name": "stdout",
     "output_type": "stream",
     "text": [
      "URL: https://chat.openai.com/share/fa132511-e512-46d7-a1de-ea82f56f9966, Elements with class names: 4\n"
     ]
    },
    {
     "name": "stderr",
     "output_type": "stream",
     "text": [
      "C:\\Users\\dell\\AppData\\Local\\Temp\\ipykernel_14856\\1829702115.py:42: FutureWarning: The frame.append method is deprecated and will be removed from pandas in a future version. Use pandas.concat instead.\n",
      "  results_df = results_df.append({\"URL\": url, \"ElementCount\": element_count}, ignore_index=True)\n"
     ]
    },
    {
     "name": "stdout",
     "output_type": "stream",
     "text": [
      "URL: https://chat.openai.com/share/f790cb1e-ba47-42ad-a8f8-e09e9dc9dd04, Elements with class names: 32\n"
     ]
    },
    {
     "name": "stderr",
     "output_type": "stream",
     "text": [
      "C:\\Users\\dell\\AppData\\Local\\Temp\\ipykernel_14856\\1829702115.py:42: FutureWarning: The frame.append method is deprecated and will be removed from pandas in a future version. Use pandas.concat instead.\n",
      "  results_df = results_df.append({\"URL\": url, \"ElementCount\": element_count}, ignore_index=True)\n"
     ]
    },
    {
     "name": "stdout",
     "output_type": "stream",
     "text": [
      "URL: https://chat.openai.com/share/489d0bcf-5938-41bd-9ac8-ea4c81d875a7, Elements with class names: 42\n"
     ]
    },
    {
     "name": "stderr",
     "output_type": "stream",
     "text": [
      "C:\\Users\\dell\\AppData\\Local\\Temp\\ipykernel_14856\\1829702115.py:42: FutureWarning: The frame.append method is deprecated and will be removed from pandas in a future version. Use pandas.concat instead.\n",
      "  results_df = results_df.append({\"URL\": url, \"ElementCount\": element_count}, ignore_index=True)\n"
     ]
    },
    {
     "name": "stdout",
     "output_type": "stream",
     "text": [
      "URL: https://chat.openai.com/share/c6c2da13-80da-4caa-ba41-7e4c0258bd2c, Elements with class names: 26\n"
     ]
    },
    {
     "name": "stderr",
     "output_type": "stream",
     "text": [
      "C:\\Users\\dell\\AppData\\Local\\Temp\\ipykernel_14856\\1829702115.py:42: FutureWarning: The frame.append method is deprecated and will be removed from pandas in a future version. Use pandas.concat instead.\n",
      "  results_df = results_df.append({\"URL\": url, \"ElementCount\": element_count}, ignore_index=True)\n"
     ]
    },
    {
     "name": "stdout",
     "output_type": "stream",
     "text": [
      "URL: https://chat.openai.com/share/8f2bed4d-baa1-497f-b17a-512ab78ee3c7, Elements with class names: 4\n"
     ]
    },
    {
     "name": "stderr",
     "output_type": "stream",
     "text": [
      "C:\\Users\\dell\\AppData\\Local\\Temp\\ipykernel_14856\\1829702115.py:42: FutureWarning: The frame.append method is deprecated and will be removed from pandas in a future version. Use pandas.concat instead.\n",
      "  results_df = results_df.append({\"URL\": url, \"ElementCount\": element_count}, ignore_index=True)\n"
     ]
    },
    {
     "name": "stdout",
     "output_type": "stream",
     "text": [
      "URL: https://chat.openai.com/share/88bef630-7009-440b-a637-b0e554705f65, Elements with class names: 28\n"
     ]
    },
    {
     "name": "stderr",
     "output_type": "stream",
     "text": [
      "C:\\Users\\dell\\AppData\\Local\\Temp\\ipykernel_14856\\1829702115.py:42: FutureWarning: The frame.append method is deprecated and will be removed from pandas in a future version. Use pandas.concat instead.\n",
      "  results_df = results_df.append({\"URL\": url, \"ElementCount\": element_count}, ignore_index=True)\n"
     ]
    },
    {
     "name": "stdout",
     "output_type": "stream",
     "text": [
      "URL: https://chat.openai.com/share/026e614c-9539-4905-b3c6-9729455894e4, Elements with class names: 70\n",
      "Error counting elements on https://chat.openai.com/share/39dff2b6-aab8-4efa-b8da-7594d7caeb1a: Waiting for selector \".font-semibold.select-none\" failed: timeout 30000ms exceeds.\n"
     ]
    },
    {
     "name": "stderr",
     "output_type": "stream",
     "text": [
      "C:\\Users\\dell\\AppData\\Local\\Temp\\ipykernel_14856\\1829702115.py:42: FutureWarning: The frame.append method is deprecated and will be removed from pandas in a future version. Use pandas.concat instead.\n",
      "  results_df = results_df.append({\"URL\": url, \"ElementCount\": element_count}, ignore_index=True)\n"
     ]
    },
    {
     "name": "stdout",
     "output_type": "stream",
     "text": [
      "URL: https://chat.openai.com/share/39dff2b6-aab8-4efa-b8da-7594d7caeb1a, Elements with class names: 0\n"
     ]
    },
    {
     "name": "stderr",
     "output_type": "stream",
     "text": [
      "C:\\Users\\dell\\AppData\\Local\\Temp\\ipykernel_14856\\1829702115.py:42: FutureWarning: The frame.append method is deprecated and will be removed from pandas in a future version. Use pandas.concat instead.\n",
      "  results_df = results_df.append({\"URL\": url, \"ElementCount\": element_count}, ignore_index=True)\n"
     ]
    },
    {
     "name": "stdout",
     "output_type": "stream",
     "text": [
      "URL: https://chat.openai.com/share/2b73fa6f-a182-4689-a166-714b2f80aede, Elements with class names: 12\n"
     ]
    },
    {
     "name": "stderr",
     "output_type": "stream",
     "text": [
      "C:\\Users\\dell\\AppData\\Local\\Temp\\ipykernel_14856\\1829702115.py:42: FutureWarning: The frame.append method is deprecated and will be removed from pandas in a future version. Use pandas.concat instead.\n",
      "  results_df = results_df.append({\"URL\": url, \"ElementCount\": element_count}, ignore_index=True)\n"
     ]
    },
    {
     "name": "stdout",
     "output_type": "stream",
     "text": [
      "URL: https://chat.openai.com/share/b299cc41-48dc-4a51-9332-79c07c1f9e20, Elements with class names: 24\n"
     ]
    }
   ],
   "source": [
    "import json\n",
    "import csv\n",
    "\n",
    "# Specify the path to your JSON file\n",
    "json_file_path = 'C://Users/dell/stagg/conversation.json'\n",
    "\n",
    "# Read JSON data from the file\n",
    "with open(json_file_path, 'r') as json_file:\n",
    "    json_data = json.load(json_file)\n",
    "\n",
    "# Initialize CSV data\n",
    "csv_data = [[\"URL\", \"AnswerWordCount\"]]\n",
    "\n",
    "# Loop through the JSON data and ChatgptSharing\n",
    "for source in json_data.get(\"Sources\", []):\n",
    "    for sharing in source.get(\"ChatgptSharing\", []):\n",
    "        answer_text = sharing.get(\"Answer\", \"\")\n",
    "        word_count = len(answer_text.split())\n",
    "\n",
    "        # Append data to CSV\n",
    "        csv_data.append([\n",
    "            sharing.get(\"URL\", \"\"),\n",
    "            word_count\n",
    "        ])\n",
    "\n",
    "# Write CSV file\n",
    "csv_filename = \"output.csv\"\n",
    "with open(csv_filename, mode='w', newline='') as file:\n",
    "    writer = csv.writer(file)\n",
    "    writer.writerows(csv_data)\n",
    "\n",
    "print(f\"CSV file '{csv_filename}' has been created.\")"
   ]
  },
  {
   "cell_type": "code",
   "execution_count": null,
   "id": "03861f91",
   "metadata": {},
   "outputs": [],
   "source": []
  }
 ],
 "metadata": {
  "kernelspec": {
   "display_name": "Python 3 (ipykernel)",
   "language": "python",
   "name": "python3"
  },
  "language_info": {
   "codemirror_mode": {
    "name": "ipython",
    "version": 3
   },
   "file_extension": ".py",
   "mimetype": "text/x-python",
   "name": "python",
   "nbconvert_exporter": "python",
   "pygments_lexer": "ipython3",
   "version": "3.11.4"
  }
 },
 "nbformat": 4,
 "nbformat_minor": 5
}
